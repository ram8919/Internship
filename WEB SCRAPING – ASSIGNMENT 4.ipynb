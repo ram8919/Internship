{
 "cells": [
  {
   "cell_type": "code",
   "execution_count": 4,
   "id": "3cea982e",
   "metadata": {},
   "outputs": [],
   "source": [
    "# Importing Libraries\n",
    "import selenium\n",
    "import pandas as pd\n",
    "import time\n",
    "from bs4 import BeautifulSoup\n",
    "\n",
    "# Importing selenium webdriver \n",
    "from selenium import webdriver\n",
    "\n",
    "# Importing required Exceptions which needs to handled\n",
    "from selenium.common.exceptions import StaleElementReferenceException, NoSuchElementException\n",
    "\n",
    "#Importing requests\n",
    "import requests\n",
    "\n",
    "# importing regex\n",
    "import re\n",
    "\n",
    "import warnings\n",
    "warnings.filterwarnings('ignore')"
   ]
  },
  {
   "cell_type": "code",
   "execution_count": 5,
   "id": "af1132d3",
   "metadata": {},
   "outputs": [],
   "source": [
    "driver = webdriver.Chrome(r'c:\\Users\\Bawla Singh.DESKTOP-KT1PI9D\\Desktop\\chromedriver.exe')\n",
    "driver=webdriver.Chrome('chromedriver.exe')"
   ]
  },
  {
   "cell_type": "markdown",
   "id": "f421966f",
   "metadata": {},
   "source": [
    "###### Q.1.Scrape the details of most viewed videos on YouTube from Wikipedia.\n",
    "    Url = \"https://en.wikipedia.org/wiki/List_of_most-viewed_YouTube_videos\" You need to find following details:\n",
    "            \n",
    "(A)Rank\n",
    "(B)Name\n",
    "(C)Artist\n",
    "(D)Upload date\n",
    "(E)Views\n"
   ]
  },
  {
   "cell_type": "code",
   "execution_count": 6,
   "id": "9227c9db",
   "metadata": {},
   "outputs": [],
   "source": [
    "url = \"https://en.wikipedia.org/wiki/List_of_most-viewed_YouTube_videos\"\n",
    "driver.get(url)"
   ]
  },
  {
   "cell_type": "code",
   "execution_count": 55,
   "id": "61bb8f5e",
   "metadata": {},
   "outputs": [],
   "source": [
    "#Rank\n",
    "Rank= driver.find_elements_by_xpath('/html/body/div[3]/div[3]/div[5]/div[1]/table[3]/thead/tr/th[1]/abbr')\n",
    "Ranks=[]\n",
    "for i in Rank:\n",
    "    Ranks.append(i.text) "
   ]
  },
  {
   "cell_type": "code",
   "execution_count": 56,
   "id": "69fd05ee",
   "metadata": {},
   "outputs": [
    {
     "data": {
      "text/plain": [
       "['No.']"
      ]
     },
     "execution_count": 56,
     "metadata": {},
     "output_type": "execute_result"
    }
   ],
   "source": [
    "Ranks"
   ]
  },
  {
   "cell_type": "code",
   "execution_count": 53,
   "id": "8e4f0a0f",
   "metadata": {},
   "outputs": [],
   "source": [
    "#Name\n",
    "Name= driver.find_elements_by_xpath('/html/body/div[3]/div[3]/div[5]/div[1]/table[3]/thead/tr/th[2]')\n",
    "Names=[]\n",
    "for i in Name:\n",
    "    Names.append(i.text)"
   ]
  },
  {
   "cell_type": "code",
   "execution_count": 54,
   "id": "5a40c44c",
   "metadata": {},
   "outputs": [
    {
     "data": {
      "text/plain": [
       "['Video name']"
      ]
     },
     "execution_count": 54,
     "metadata": {},
     "output_type": "execute_result"
    }
   ],
   "source": [
    "Names"
   ]
  },
  {
   "cell_type": "code",
   "execution_count": 51,
   "id": "04b2ceb4",
   "metadata": {},
   "outputs": [],
   "source": [
    "#Artist\n",
    "Artist= driver.find_elements_by_xpath('/html/body/div[3]/div[3]/div[5]/div[1]/table[3]/thead/tr/th[3]')\n",
    "Artists=[]\n",
    "for i in Artist:\n",
    "    Artists.append(i.text)"
   ]
  },
  {
   "cell_type": "code",
   "execution_count": 52,
   "id": "b71498c0",
   "metadata": {},
   "outputs": [
    {
     "data": {
      "text/plain": [
       "['Uploader']"
      ]
     },
     "execution_count": 52,
     "metadata": {},
     "output_type": "execute_result"
    }
   ],
   "source": [
    "Artists"
   ]
  },
  {
   "cell_type": "code",
   "execution_count": 49,
   "id": "a3262627",
   "metadata": {},
   "outputs": [],
   "source": [
    "#Upload_date\n",
    "Upload_date= driver.find_elements_by_xpath('/html/body/div[3]/div[3]/div[5]/div[1]/table[3]/thead/tr/th[1]')\n",
    "Upload_dates=[]\n",
    "for i in Upload_date:\n",
    "    Upload_dates.append(i.text)"
   ]
  },
  {
   "cell_type": "code",
   "execution_count": 50,
   "id": "6e3e16b4",
   "metadata": {},
   "outputs": [
    {
     "data": {
      "text/plain": [
       "['No.']"
      ]
     },
     "execution_count": 50,
     "metadata": {},
     "output_type": "execute_result"
    }
   ],
   "source": [
    "Upload_dates"
   ]
  },
  {
   "cell_type": "code",
   "execution_count": 57,
   "id": "68b05185",
   "metadata": {},
   "outputs": [],
   "source": [
    "#View\n",
    "View= driver.find_elements_by_xpath('/html/body/div[3]/div[3]/div[5]/div[1]/table[3]/tbody/tr[1]/td[4]')\n",
    "Views=[]\n",
    "for i in View:\n",
    "    Views.append(i.text)"
   ]
  },
  {
   "cell_type": "code",
   "execution_count": 58,
   "id": "c62b2cde",
   "metadata": {},
   "outputs": [
    {
     "data": {
      "text/plain": [
       "['10.30']"
      ]
     },
     "execution_count": 58,
     "metadata": {},
     "output_type": "execute_result"
    }
   ],
   "source": [
    " Views"
   ]
  },
  {
   "cell_type": "code",
   "execution_count": 41,
   "id": "38080ffa",
   "metadata": {},
   "outputs": [
    {
     "data": {
      "text/html": [
       "<div>\n",
       "<style scoped>\n",
       "    .dataframe tbody tr th:only-of-type {\n",
       "        vertical-align: middle;\n",
       "    }\n",
       "\n",
       "    .dataframe tbody tr th {\n",
       "        vertical-align: top;\n",
       "    }\n",
       "\n",
       "    .dataframe thead th {\n",
       "        text-align: right;\n",
       "    }\n",
       "</style>\n",
       "<table border=\"1\" class=\"dataframe\">\n",
       "  <thead>\n",
       "    <tr style=\"text-align: right;\">\n",
       "      <th></th>\n",
       "      <th>0</th>\n",
       "    </tr>\n",
       "  </thead>\n",
       "  <tbody>\n",
       "    <tr>\n",
       "      <th>Rank</th>\n",
       "      <td>Top 30 most-viewed YouTube videos[2]\\nNo. Vide...</td>\n",
       "    </tr>\n",
       "    <tr>\n",
       "      <th>Name</th>\n",
       "      <td>Top 30 most-viewed YouTube videos[2]\\nNo. Vide...</td>\n",
       "    </tr>\n",
       "    <tr>\n",
       "      <th>Upload_date</th>\n",
       "      <td>Top 30 most-viewed YouTube videos[2]\\nNo. Vide...</td>\n",
       "    </tr>\n",
       "    <tr>\n",
       "      <th>View</th>\n",
       "      <td>Top 30 most-viewed YouTube videos[2]\\nNo. Vide...</td>\n",
       "    </tr>\n",
       "  </tbody>\n",
       "</table>\n",
       "</div>"
      ],
      "text/plain": [
       "                                                             0\n",
       "Rank         Top 30 most-viewed YouTube videos[2]\\nNo. Vide...\n",
       "Name         Top 30 most-viewed YouTube videos[2]\\nNo. Vide...\n",
       "Upload_date  Top 30 most-viewed YouTube videos[2]\\nNo. Vide...\n",
       "View         Top 30 most-viewed YouTube videos[2]\\nNo. Vide..."
      ]
     },
     "execution_count": 41,
     "metadata": {},
     "output_type": "execute_result"
    }
   ],
   "source": [
    "data = list(zip(Upload_dates))\n",
    "\n",
    "import pandas as pd\n",
    "df = pd.DataFrame(data,['Rank','Name','Upload_date','View'])\n",
    "\n",
    "df.head(10)"
   ]
  },
  {
   "cell_type": "markdown",
   "id": "5e4ac08d",
   "metadata": {},
   "source": [
    "##### Q. 8.Scrape the details of Highest selling novels.\n",
    "Url = https://www.theguardian.com/news/datablog/2012/aug/09/best-selling-books-all-time-fifty-shades-grey- compare/\n",
    "You have to find the following details:\n",
    "(A)Book name\n",
    "(B)Author name\n",
    "(C)Volumes sold\n",
    "(D)Publisher\n",
    "(E)Genre\n"
   ]
  },
  {
   "cell_type": "code",
   "execution_count": 2,
   "id": "b2586e9f",
   "metadata": {},
   "outputs": [],
   "source": [
    "# Importing Libraries\n",
    "import selenium\n",
    "import pandas as pd\n",
    "import time\n",
    "from bs4 import BeautifulSoup\n",
    "\n",
    "# Importing selenium webdriver \n",
    "from selenium import webdriver\n",
    "\n",
    "# Importing required Exceptions which needs to handled\n",
    "from selenium.common.exceptions import StaleElementReferenceException, NoSuchElementException\n",
    "\n",
    "#Importing requests\n",
    "import requests\n",
    "\n",
    "# importing regex\n",
    "import re\n",
    "\n",
    "import warnings\n",
    "warnings.filterwarnings('ignore')"
   ]
  },
  {
   "cell_type": "code",
   "execution_count": 4,
   "id": "dc1c676d",
   "metadata": {},
   "outputs": [],
   "source": [
    "driver = webdriver.Chrome(r'c:\\Users\\Bawla Singh.DESKTOP-KT1PI9D\\Desktop\\chromedriver.exe')\n",
    "driver=webdriver.Chrome('chromedriver.exe')"
   ]
  },
  {
   "cell_type": "code",
   "execution_count": 5,
   "id": "8614076a",
   "metadata": {},
   "outputs": [],
   "source": [
    "url = \"https://www.theguardian.com/news/datablog/2012/aug/09/best-selling-books-all-time-fifty-shades-grey-compare\"\n",
    "driver.get(url)"
   ]
  },
  {
   "cell_type": "code",
   "execution_count": 17,
   "id": "a445917a",
   "metadata": {},
   "outputs": [],
   "source": [
    "#Book_name\n",
    "Book_name= driver.find_elements_by_xpath('/html/body/div/div[2]/div[2]/div/div[2]/div/table/tbody/tr[1]/td[2]')\n",
    "Book_names=[]\n",
    "for i in Book_name:\n",
    "    Book_names.append(i.text)"
   ]
  },
  {
   "cell_type": "code",
   "execution_count": 18,
   "id": "8d81ff91",
   "metadata": {},
   "outputs": [
    {
     "data": {
      "text/plain": [
       "['Da Vinci Code,The']"
      ]
     },
     "execution_count": 18,
     "metadata": {},
     "output_type": "execute_result"
    }
   ],
   "source": [
    "Book_names"
   ]
  },
  {
   "cell_type": "code",
   "execution_count": 26,
   "id": "6b813747",
   "metadata": {},
   "outputs": [],
   "source": [
    "#Author_name\n",
    "Author_name= driver.find_elements_by_xpath('/html/body/div/div[2]/div[2]/div/div[2]/div/table/tbody/tr[1]/td[3]')\n",
    "Author_names=[]\n",
    "for i in Author_name:\n",
    "    Author_names.append(i.text)"
   ]
  },
  {
   "cell_type": "code",
   "execution_count": 27,
   "id": "65abc51d",
   "metadata": {},
   "outputs": [
    {
     "data": {
      "text/plain": [
       "['Brown, Dan']"
      ]
     },
     "execution_count": 27,
     "metadata": {},
     "output_type": "execute_result"
    }
   ],
   "source": [
    "Author_names"
   ]
  },
  {
   "cell_type": "code",
   "execution_count": 28,
   "id": "b2b1673c",
   "metadata": {},
   "outputs": [],
   "source": [
    "#Volumes_sold\n",
    "Volumes_sold= driver.find_elements_by_xpath('/html/body/div/div[2]/div[2]/div/div[2]/div/table/tbody/tr[1]/td[4]')\n",
    "Volumes_solds=[]\n",
    "for i in Volumes_sold:\n",
    "    Volumes_solds.append(i.text)"
   ]
  },
  {
   "cell_type": "code",
   "execution_count": 29,
   "id": "16fd41e7",
   "metadata": {},
   "outputs": [
    {
     "data": {
      "text/plain": [
       "[<selenium.webdriver.remote.webelement.WebElement (session=\"dfab2d0fe69f81cdbb0a54a59de43e54\", element=\"404aca14-b7ad-419d-8940-c4acb7bfa332\")>]"
      ]
     },
     "execution_count": 29,
     "metadata": {},
     "output_type": "execute_result"
    }
   ],
   "source": [
    "Volumes_sold"
   ]
  },
  {
   "cell_type": "code",
   "execution_count": 30,
   "id": "4f056833",
   "metadata": {},
   "outputs": [],
   "source": [
    "#Publisher\n",
    "Publisher= driver.find_elements_by_xpath('/html/body/div/div[2]/div[2]/div/div[2]/div/table/tbody/tr[1]/td[5]')\n",
    "Publishers=[]\n",
    "for i in Publisher:\n",
    "    Publishers.append(i.text)"
   ]
  },
  {
   "cell_type": "code",
   "execution_count": 31,
   "id": "8c1427b1",
   "metadata": {},
   "outputs": [
    {
     "data": {
      "text/plain": [
       "['Transworld']"
      ]
     },
     "execution_count": 31,
     "metadata": {},
     "output_type": "execute_result"
    }
   ],
   "source": [
    "Publishers"
   ]
  },
  {
   "cell_type": "code",
   "execution_count": 32,
   "id": "ffc9b3f7",
   "metadata": {},
   "outputs": [],
   "source": [
    "#Genre\n",
    "Genre= driver.find_elements_by_xpath('/html/body/div/div[2]/div[2]/div/div[2]/div/table/tbody/tr[1]/td[6]')\n",
    "Genres=[]\n",
    "for i in Genre:\n",
    "    Genres.append(i.text)"
   ]
  },
  {
   "cell_type": "code",
   "execution_count": 33,
   "id": "47784c7c",
   "metadata": {},
   "outputs": [
    {
     "data": {
      "text/plain": [
       "['Crime, Thriller & Adventure']"
      ]
     },
     "execution_count": 33,
     "metadata": {},
     "output_type": "execute_result"
    }
   ],
   "source": [
    "Genres"
   ]
  },
  {
   "cell_type": "code",
   "execution_count": null,
   "id": "0606754c",
   "metadata": {},
   "outputs": [],
   "source": []
  }
 ],
 "metadata": {
  "kernelspec": {
   "display_name": "Python 3",
   "language": "python",
   "name": "python3"
  },
  "language_info": {
   "codemirror_mode": {
    "name": "ipython",
    "version": 3
   },
   "file_extension": ".py",
   "mimetype": "text/x-python",
   "name": "python",
   "nbconvert_exporter": "python",
   "pygments_lexer": "ipython3",
   "version": "3.8.8"
  }
 },
 "nbformat": 4,
 "nbformat_minor": 5
}
