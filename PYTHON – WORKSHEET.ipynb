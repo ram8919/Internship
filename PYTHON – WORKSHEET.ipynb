{
 "cells": [
  {
   "cell_type": "markdown",
   "id": "e5bf6a7c",
   "metadata": {},
   "source": [
    "11.\tWrite a python program to find the factorial of a number."
   ]
  },
  {
   "cell_type": "code",
   "execution_count": 6,
   "id": "8bb61cda",
   "metadata": {},
   "outputs": [
    {
     "name": "stdout",
     "output_type": "stream",
     "text": [
      "enter a number5\n",
      "factorial of 5 = 120\n"
     ]
    }
   ],
   "source": [
    "num=int(input('enter a number'))\n",
    "f=1\n",
    "for i in range(1,num+1):\n",
    "  f=f*i\n",
    "print ('factorial of', num, '=',f)"
   ]
  },
  {
   "cell_type": "markdown",
   "id": "b5d7b89f",
   "metadata": {},
   "source": [
    "12. Write a python program to find whether a number is prime or composite"
   ]
  },
  {
   "cell_type": "code",
   "execution_count": 7,
   "id": "57a3a313",
   "metadata": {},
   "outputs": [
    {
     "name": "stdout",
     "output_type": "stream",
     "text": [
      "Enter any number : 28\n",
      "28 is NOT a prime number\n"
     ]
    }
   ],
   "source": [
    "\n",
    "num = int(input(\"Enter any number : \"))\n",
    "if num > 1:\n",
    "    for i in range(2, num):\n",
    "        if (num % i) == 0:\n",
    "            print(num, \"is NOT a prime number\")\n",
    "            break\n",
    "    else:\n",
    "        print(num, \"is a prime number\")\n",
    "elif num == 0 or 1:\n",
    "    print(num, \"is a neither prime NOR composite number\")\n",
    "else:\n",
    "    print(num, \"is NOT a prime number it is a composite number\")"
   ]
  },
  {
   "cell_type": "markdown",
   "id": "6fcc4c76",
   "metadata": {},
   "source": [
    "13.Write a python program to check whether a given string is palindrome or not."
   ]
  },
  {
   "cell_type": "code",
   "execution_count": 8,
   "id": "33e866cd",
   "metadata": {},
   "outputs": [
    {
     "name": "stdout",
     "output_type": "stream",
     "text": [
      "Enter string:mandam\n",
      "The string isn't a palindro\n"
     ]
    }
   ],
   "source": [
    "my_string=input(\"Enter string:\")\n",
    "if(my_string==my_string[::-1]):\n",
    "    print(\"The string is a palindrome\")\n",
    "else:\n",
    "    print(\"The string isn't a palindro\")"
   ]
  },
  {
   "cell_type": "markdown",
   "id": "90a9787f",
   "metadata": {},
   "source": [
    "14.Write a Python program to get the third side of right-angled triangle from two given sides."
   ]
  },
  {
   "cell_type": "code",
   "execution_count": null,
   "id": "6b38462c",
   "metadata": {},
   "outputs": [],
   "source": []
  },
  {
   "cell_type": "markdown",
   "id": "7feb7254",
   "metadata": {},
   "source": [
    "15.Write a python program to print the frequency of each of the characters present in a given string."
   ]
  },
  {
   "cell_type": "code",
   "execution_count": 9,
   "id": "d497d8dd",
   "metadata": {},
   "outputs": [
    {
     "name": "stdout",
     "output_type": "stream",
     "text": [
      "Enter the string: python\n",
      "{'p': 1, 'y': 1, 't': 1, 'h': 1, 'o': 1, 'n': 1}\n"
     ]
    }
   ],
   "source": [
    "str1 = input (\"Enter the string: \")\n",
    "d = dict()\n",
    "for c in str1:\n",
    "    d[c] = d.get(c, 0) + 1\n",
    "print(d)"
   ]
  },
  {
   "cell_type": "code",
   "execution_count": null,
   "id": "5d0c25d4",
   "metadata": {},
   "outputs": [],
   "source": []
  }
 ],
 "metadata": {
  "kernelspec": {
   "display_name": "Python 3 (ipykernel)",
   "language": "python",
   "name": "python3"
  },
  "language_info": {
   "codemirror_mode": {
    "name": "ipython",
    "version": 3
   },
   "file_extension": ".py",
   "mimetype": "text/x-python",
   "name": "python",
   "nbconvert_exporter": "python",
   "pygments_lexer": "ipython3",
   "version": "3.8.8"
  }
 },
 "nbformat": 4,
 "nbformat_minor": 5
}
