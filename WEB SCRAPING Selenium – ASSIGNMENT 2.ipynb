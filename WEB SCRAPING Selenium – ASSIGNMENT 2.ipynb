{
 "cells": [
  {
   "cell_type": "markdown",
   "id": "b64e9281",
   "metadata": {},
   "source": [
    "###### Q.(1) Python program to scrape data for “Data Analyst” Job position in “Bangalore” location\n",
    "    a.scrape the data from www.naukri.com for the first 10 jobs results.\n",
    "    b.Enter “Data Analyst” in “Skill, Designations, Companies” field and enter “Bangalore” in “enter the\n",
    "      location” field.\n",
    "    c.create a dataframe of the scraped data."
   ]
  },
  {
   "cell_type": "code",
   "execution_count": 1,
   "id": "e1f38eea",
   "metadata": {},
   "outputs": [
    {
     "name": "stdout",
     "output_type": "stream",
     "text": [
      "Requirement already satisfied: selenium in c:\\programdata\\anaconda3\\new folder\\lib\\site-packages (4.1.0)\n",
      "Requirement already satisfied: trio~=0.17 in c:\\programdata\\anaconda3\\new folder\\lib\\site-packages (from selenium) (0.19.0)\n",
      "Requirement already satisfied: trio-websocket~=0.9 in c:\\programdata\\anaconda3\\new folder\\lib\\site-packages (from selenium) (0.9.2)\n",
      "Requirement already satisfied: urllib3[secure]~=1.26 in c:\\programdata\\anaconda3\\new folder\\lib\\site-packages (from selenium) (1.26.4)\n",
      "Requirement already satisfied: sniffio in c:\\programdata\\anaconda3\\new folder\\lib\\site-packages (from trio~=0.17->selenium) (1.2.0)\n",
      "Requirement already satisfied: outcome in c:\\programdata\\anaconda3\\new folder\\lib\\site-packages (from trio~=0.17->selenium) (1.1.0)\n",
      "Requirement already satisfied: cffi>=1.14 in c:\\programdata\\anaconda3\\new folder\\lib\\site-packages (from trio~=0.17->selenium) (1.14.5)\n",
      "Requirement already satisfied: attrs>=19.2.0 in c:\\programdata\\anaconda3\\new folder\\lib\\site-packages (from trio~=0.17->selenium) (20.3.0)\n",
      "Requirement already satisfied: async-generator>=1.9 in c:\\programdata\\anaconda3\\new folder\\lib\\site-packages (from trio~=0.17->selenium) (1.10)\n",
      "Requirement already satisfied: sortedcontainers in c:\\programdata\\anaconda3\\new folder\\lib\\site-packages (from trio~=0.17->selenium) (2.3.0)\n",
      "Requirement already satisfied: idna in c:\\programdata\\anaconda3\\new folder\\lib\\site-packages (from trio~=0.17->selenium) (2.10)\n",
      "Requirement already satisfied: pycparser in c:\\programdata\\anaconda3\\new folder\\lib\\site-packages (from cffi>=1.14->trio~=0.17->selenium) (2.20)\n",
      "Requirement already satisfied: wsproto>=0.14 in c:\\programdata\\anaconda3\\new folder\\lib\\site-packages (from trio-websocket~=0.9->selenium) (1.0.0)\n",
      "Requirement already satisfied: cryptography>=1.3.4 in c:\\programdata\\anaconda3\\new folder\\lib\\site-packages (from urllib3[secure]~=1.26->selenium) (3.4.7)\n",
      "Requirement already satisfied: certifi in c:\\programdata\\anaconda3\\new folder\\lib\\site-packages (from urllib3[secure]~=1.26->selenium) (2020.12.5)\n",
      "Requirement already satisfied: pyOpenSSL>=0.14 in c:\\programdata\\anaconda3\\new folder\\lib\\site-packages (from urllib3[secure]~=1.26->selenium) (20.0.1)\n",
      "Requirement already satisfied: six>=1.5.2 in c:\\users\\bawla singh.desktop-kt1pi9d\\appdata\\roaming\\python\\python38\\site-packages (from pyOpenSSL>=0.14->urllib3[secure]~=1.26->selenium) (1.13.0)\n",
      "Requirement already satisfied: h11<1,>=0.9.0 in c:\\programdata\\anaconda3\\new folder\\lib\\site-packages (from wsproto>=0.14->trio-websocket~=0.9->selenium) (0.13.0)\n"
     ]
    }
   ],
   "source": [
    "!pip install selenium"
   ]
  },
  {
   "cell_type": "code",
   "execution_count": 2,
   "id": "08a6a6da",
   "metadata": {},
   "outputs": [],
   "source": [
    "import selenium\n",
    "from selenium import webdriver\n",
    "import pandas as pd\n",
    "import warnings\n",
    "warnings.filterwarnings('ignore')"
   ]
  },
  {
   "cell_type": "code",
   "execution_count": 5,
   "id": "17d19911",
   "metadata": {},
   "outputs": [],
   "source": [
    "# first connect to web driver\n",
    "driver = webdriver.Chrome(r'c:\\Users\\Bawla Singh.DESKTOP-KT1PI9D\\Desktop\\chromedriver.exe')"
   ]
  },
  {
   "cell_type": "code",
   "execution_count": 6,
   "id": "f065d631",
   "metadata": {},
   "outputs": [],
   "source": [
    "driver=webdriver.Chrome('chromedriver.exe')"
   ]
  },
  {
   "cell_type": "code",
   "execution_count": 7,
   "id": "cc907573",
   "metadata": {},
   "outputs": [],
   "source": [
    "url='https://www.naukri.com/'\n",
    "driver.get(url)"
   ]
  },
  {
   "cell_type": "code",
   "execution_count": 8,
   "id": "c1748dff",
   "metadata": {},
   "outputs": [
    {
     "data": {
      "text/plain": [
       "<selenium.webdriver.remote.webelement.WebElement (session=\"04a67b1f5fe95d627315bfbb91fafbba\", element=\"a09e74f6-4d19-4838-a217-d118f4b76bc1\")>"
      ]
     },
     "execution_count": 8,
     "metadata": {},
     "output_type": "execute_result"
    }
   ],
   "source": [
    "# finding web element for search job bar using class name\n",
    "job=driver.find_element_by_class_name('suggestor-input')\n",
    "job"
   ]
  },
  {
   "cell_type": "code",
   "execution_count": 9,
   "id": "8da08443",
   "metadata": {},
   "outputs": [],
   "source": [
    "# search_job=driver.find_element_by_xpath('suggestor-input')\n",
    "# search_job"
   ]
  },
  {
   "cell_type": "code",
   "execution_count": 10,
   "id": "5bd13a0a",
   "metadata": {},
   "outputs": [],
   "source": [
    "job.send_keys('Data Analyst')"
   ]
  },
  {
   "cell_type": "code",
   "execution_count": 11,
   "id": "c5ee7e80",
   "metadata": {},
   "outputs": [
    {
     "data": {
      "text/plain": [
       "<selenium.webdriver.remote.webelement.WebElement (session=\"04a67b1f5fe95d627315bfbb91fafbba\", element=\"295a0dc0-78ef-4428-b762-7f5866988dbc\")>"
      ]
     },
     "execution_count": 11,
     "metadata": {},
     "output_type": "execute_result"
    }
   ],
   "source": [
    "locn=driver.find_element_by_xpath('/html/body/div/div[2]/div[3]/div/div/div[3]/div/div/div/input')\n",
    "locn"
   ]
  },
  {
   "cell_type": "code",
   "execution_count": 12,
   "id": "d5685d31",
   "metadata": {},
   "outputs": [],
   "source": [
    "#finding web element for job location bar\n",
    "locn.send_keys('Bangalore')"
   ]
  },
  {
   "cell_type": "code",
   "execution_count": 13,
   "id": "0ab8c6d2",
   "metadata": {},
   "outputs": [
    {
     "data": {
      "text/plain": [
       "<selenium.webdriver.remote.webelement.WebElement (session=\"04a67b1f5fe95d627315bfbb91fafbba\", element=\"75f6df83-1a76-44f0-8d99-de215f35473b\")>"
      ]
     },
     "execution_count": 13,
     "metadata": {},
     "output_type": "execute_result"
    }
   ],
   "source": [
    "# clicking using class name function\n",
    "search_btn=driver.find_element_by_class_name('qsbSubmit')\n",
    "search_btn"
   ]
  },
  {
   "cell_type": "code",
   "execution_count": 16,
   "id": "2e21bd44",
   "metadata": {},
   "outputs": [],
   "source": [
    "search_btn.click()"
   ]
  },
  {
   "cell_type": "code",
   "execution_count": 17,
   "id": "2869c86a",
   "metadata": {},
   "outputs": [
    {
     "data": {
      "text/plain": [
       "20"
      ]
     },
     "execution_count": 17,
     "metadata": {},
     "output_type": "execute_result"
    }
   ],
   "source": [
    "# Here extract all web elements having job_titles:\n",
    "title_tags=driver.find_elements_by_xpath('//a[@class=\"title fw500 ellipsis\"]')\n",
    "len(title_tags)"
   ]
  },
  {
   "cell_type": "code",
   "execution_count": 18,
   "id": "dfa43dfb",
   "metadata": {},
   "outputs": [
    {
     "data": {
      "text/plain": [
       "[<selenium.webdriver.remote.webelement.WebElement (session=\"04a67b1f5fe95d627315bfbb91fafbba\", element=\"2c2163b9-80f2-47db-a189-fd598571e4b1\")>,\n",
       " <selenium.webdriver.remote.webelement.WebElement (session=\"04a67b1f5fe95d627315bfbb91fafbba\", element=\"f7752014-648f-488f-91ff-7d78b6dd7f7e\")>,\n",
       " <selenium.webdriver.remote.webelement.WebElement (session=\"04a67b1f5fe95d627315bfbb91fafbba\", element=\"af8326bd-3070-4eab-b6d4-9b2e154ee80a\")>,\n",
       " <selenium.webdriver.remote.webelement.WebElement (session=\"04a67b1f5fe95d627315bfbb91fafbba\", element=\"b685229c-dd2c-42be-bc8d-f0c46de8246c\")>,\n",
       " <selenium.webdriver.remote.webelement.WebElement (session=\"04a67b1f5fe95d627315bfbb91fafbba\", element=\"6d7d9fc1-ab85-4468-b6f7-d8cd3fd0d039\")>,\n",
       " <selenium.webdriver.remote.webelement.WebElement (session=\"04a67b1f5fe95d627315bfbb91fafbba\", element=\"7fbd1cdf-2130-4176-b4e6-ed30da450e2f\")>,\n",
       " <selenium.webdriver.remote.webelement.WebElement (session=\"04a67b1f5fe95d627315bfbb91fafbba\", element=\"1bd65ddb-8078-4a35-ac39-871f28165b67\")>,\n",
       " <selenium.webdriver.remote.webelement.WebElement (session=\"04a67b1f5fe95d627315bfbb91fafbba\", element=\"8f7e5b0f-4616-44af-970e-f58c615e1ef6\")>,\n",
       " <selenium.webdriver.remote.webelement.WebElement (session=\"04a67b1f5fe95d627315bfbb91fafbba\", element=\"c5ff650a-bcc8-4a54-9deb-bcc91586da12\")>,\n",
       " <selenium.webdriver.remote.webelement.WebElement (session=\"04a67b1f5fe95d627315bfbb91fafbba\", element=\"d534d144-f411-42f7-a952-e8be3e44dc76\")>,\n",
       " <selenium.webdriver.remote.webelement.WebElement (session=\"04a67b1f5fe95d627315bfbb91fafbba\", element=\"726d7619-9da0-4437-9e1c-bead36c570bc\")>,\n",
       " <selenium.webdriver.remote.webelement.WebElement (session=\"04a67b1f5fe95d627315bfbb91fafbba\", element=\"da356a76-c9ba-430b-aa7f-434488d64749\")>,\n",
       " <selenium.webdriver.remote.webelement.WebElement (session=\"04a67b1f5fe95d627315bfbb91fafbba\", element=\"c3b94e59-d25a-43c9-ab91-8493186e5ae9\")>,\n",
       " <selenium.webdriver.remote.webelement.WebElement (session=\"04a67b1f5fe95d627315bfbb91fafbba\", element=\"68259cb2-785c-4e3b-8c43-2aac42409a0a\")>,\n",
       " <selenium.webdriver.remote.webelement.WebElement (session=\"04a67b1f5fe95d627315bfbb91fafbba\", element=\"dc8eaa83-da2e-4b36-87f1-9a73571961fa\")>,\n",
       " <selenium.webdriver.remote.webelement.WebElement (session=\"04a67b1f5fe95d627315bfbb91fafbba\", element=\"b9e6785c-95e1-4ca4-8c0f-d4bb5d21a661\")>,\n",
       " <selenium.webdriver.remote.webelement.WebElement (session=\"04a67b1f5fe95d627315bfbb91fafbba\", element=\"7186bdbc-a66a-42e8-b68d-9355be9f0fd6\")>,\n",
       " <selenium.webdriver.remote.webelement.WebElement (session=\"04a67b1f5fe95d627315bfbb91fafbba\", element=\"13c1bae0-c1f1-4d71-b8cf-9b32d0dc850e\")>,\n",
       " <selenium.webdriver.remote.webelement.WebElement (session=\"04a67b1f5fe95d627315bfbb91fafbba\", element=\"3e03d686-21f3-4598-b913-e4b8a5b6bbb2\")>,\n",
       " <selenium.webdriver.remote.webelement.WebElement (session=\"04a67b1f5fe95d627315bfbb91fafbba\", element=\"090a1973-7d5e-4856-8e57-324c8d70220a\")>]"
      ]
     },
     "execution_count": 18,
     "metadata": {},
     "output_type": "execute_result"
    }
   ],
   "source": [
    "title_tags"
   ]
  },
  {
   "cell_type": "code",
   "execution_count": 19,
   "id": "df3a8f71",
   "metadata": {},
   "outputs": [
    {
     "data": {
      "text/plain": [
       "20"
      ]
     },
     "execution_count": 19,
     "metadata": {},
     "output_type": "execute_result"
    }
   ],
   "source": [
    "job_titles=[]\n",
    "\n",
    "for i in title_tags:\n",
    "    job_titles.append(i.text)\n",
    "len(job_titles)"
   ]
  },
  {
   "cell_type": "code",
   "execution_count": 20,
   "id": "3ee9e4ee",
   "metadata": {},
   "outputs": [
    {
     "data": {
      "text/plain": [
       "['Hiring -Data Analyst, Business Analyst, MIS Analyst -3rd Party Payroll',\n",
       " 'Senior Data Analyst II',\n",
       " 'Senior Data Analyst',\n",
       " 'Business Analyst (Data Analyst role)',\n",
       " 'Senior Data Analyst',\n",
       " 'Data Analyst',\n",
       " 'Consultant - Data Analyst',\n",
       " 'Senior Data Analyst',\n",
       " 'Senior Analyst, Data Engineering',\n",
       " 'Senior Analyst, Data Engineering',\n",
       " 'Business Data Analyst - MIS & Reporting',\n",
       " 'Statistician, Data Analyst, SPSS, M.Sc Statistics (0 To 3 years)',\n",
       " 'Analyst - Data Intelligence Group',\n",
       " 'Data Analyst',\n",
       " 'Business Analyst (Data Analyst)',\n",
       " 'Business Analyst/ Data Analyst- Capital Market & SQL (Mandatory)',\n",
       " 'Data Analyst',\n",
       " 'Senior Analyst, Data Engineering',\n",
       " 'Senior Analyst Data Engineering',\n",
       " 'Data Analyst']"
      ]
     },
     "execution_count": 20,
     "metadata": {},
     "output_type": "execute_result"
    }
   ],
   "source": [
    "job_titles"
   ]
  },
  {
   "cell_type": "code",
   "execution_count": 21,
   "id": "c339040b",
   "metadata": {},
   "outputs": [
    {
     "data": {
      "text/plain": [
       "20"
      ]
     },
     "execution_count": 21,
     "metadata": {},
     "output_type": "execute_result"
    }
   ],
   "source": [
    "# Here extract all web elements having company names\n",
    "company_tags=driver.find_elements_by_xpath('//a[@class=\"subTitle ellipsis fleft\"]')\n",
    "len(company_tags)"
   ]
  },
  {
   "cell_type": "code",
   "execution_count": 22,
   "id": "6be982fe",
   "metadata": {},
   "outputs": [
    {
     "data": {
      "text/plain": [
       "[<selenium.webdriver.remote.webelement.WebElement (session=\"04a67b1f5fe95d627315bfbb91fafbba\", element=\"42fd1463-544d-4d56-92f4-d7013b29bb07\")>,\n",
       " <selenium.webdriver.remote.webelement.WebElement (session=\"04a67b1f5fe95d627315bfbb91fafbba\", element=\"1ee988dd-4ff9-4017-b7c8-b294513a3201\")>,\n",
       " <selenium.webdriver.remote.webelement.WebElement (session=\"04a67b1f5fe95d627315bfbb91fafbba\", element=\"28d1029e-6c84-4a47-b075-d2a45bf6f0f1\")>,\n",
       " <selenium.webdriver.remote.webelement.WebElement (session=\"04a67b1f5fe95d627315bfbb91fafbba\", element=\"0bd07633-6040-4540-a12c-f6d4954fdf23\")>,\n",
       " <selenium.webdriver.remote.webelement.WebElement (session=\"04a67b1f5fe95d627315bfbb91fafbba\", element=\"7db07dce-9b18-48bb-a9bc-08a72d83f018\")>,\n",
       " <selenium.webdriver.remote.webelement.WebElement (session=\"04a67b1f5fe95d627315bfbb91fafbba\", element=\"3da71cd3-9165-4b50-a8ca-bb22630ff78a\")>,\n",
       " <selenium.webdriver.remote.webelement.WebElement (session=\"04a67b1f5fe95d627315bfbb91fafbba\", element=\"711cba3e-3c26-47a2-af1a-5bb3367d5114\")>,\n",
       " <selenium.webdriver.remote.webelement.WebElement (session=\"04a67b1f5fe95d627315bfbb91fafbba\", element=\"70f76f22-af81-419d-9063-8e80e9cc987f\")>,\n",
       " <selenium.webdriver.remote.webelement.WebElement (session=\"04a67b1f5fe95d627315bfbb91fafbba\", element=\"15cc4902-58c3-46c6-a7f4-686050947567\")>,\n",
       " <selenium.webdriver.remote.webelement.WebElement (session=\"04a67b1f5fe95d627315bfbb91fafbba\", element=\"5c05492d-b964-415f-a799-772bbb438526\")>,\n",
       " <selenium.webdriver.remote.webelement.WebElement (session=\"04a67b1f5fe95d627315bfbb91fafbba\", element=\"095a1745-a6ba-469d-9b51-7b0888d955d0\")>,\n",
       " <selenium.webdriver.remote.webelement.WebElement (session=\"04a67b1f5fe95d627315bfbb91fafbba\", element=\"c8605d60-5b77-4b86-b114-5099a5edca9c\")>,\n",
       " <selenium.webdriver.remote.webelement.WebElement (session=\"04a67b1f5fe95d627315bfbb91fafbba\", element=\"a10595c3-6765-4aef-b304-2573caec7b66\")>,\n",
       " <selenium.webdriver.remote.webelement.WebElement (session=\"04a67b1f5fe95d627315bfbb91fafbba\", element=\"c112634f-2844-4874-91c2-7920592627a0\")>,\n",
       " <selenium.webdriver.remote.webelement.WebElement (session=\"04a67b1f5fe95d627315bfbb91fafbba\", element=\"5436033f-060a-4940-928c-0ac3852034b6\")>,\n",
       " <selenium.webdriver.remote.webelement.WebElement (session=\"04a67b1f5fe95d627315bfbb91fafbba\", element=\"a3985d03-2d7a-4511-9bac-9518a92a6ede\")>,\n",
       " <selenium.webdriver.remote.webelement.WebElement (session=\"04a67b1f5fe95d627315bfbb91fafbba\", element=\"10cfdade-c2af-4b7f-80fd-76eb72fbcf6a\")>,\n",
       " <selenium.webdriver.remote.webelement.WebElement (session=\"04a67b1f5fe95d627315bfbb91fafbba\", element=\"a193b094-9de1-4a78-939d-0b9f36884e35\")>,\n",
       " <selenium.webdriver.remote.webelement.WebElement (session=\"04a67b1f5fe95d627315bfbb91fafbba\", element=\"a89b0042-b38d-490d-8e72-c40334a4476c\")>,\n",
       " <selenium.webdriver.remote.webelement.WebElement (session=\"04a67b1f5fe95d627315bfbb91fafbba\", element=\"337f18cf-dabd-4bea-a19a-25b4eaf8d1cf\")>]"
      ]
     },
     "execution_count": 22,
     "metadata": {},
     "output_type": "execute_result"
    }
   ],
   "source": [
    "company_tags"
   ]
  },
  {
   "cell_type": "code",
   "execution_count": 23,
   "id": "7dfc69b0",
   "metadata": {},
   "outputs": [
    {
     "data": {
      "text/plain": [
       "20"
      ]
     },
     "execution_count": 23,
     "metadata": {},
     "output_type": "execute_result"
    }
   ],
   "source": [
    "company_names=[]\n",
    "\n",
    "for i in company_tags:\n",
    "    company_names.append(i.text)\n",
    "len(company_names)"
   ]
  },
  {
   "cell_type": "code",
   "execution_count": 24,
   "id": "20ab4ce4",
   "metadata": {},
   "outputs": [
    {
     "data": {
      "text/plain": [
       "['Flipkart',\n",
       " 'Flipkart',\n",
       " 'Flipkart',\n",
       " 'Xpheno',\n",
       " 'Liventus Technology Services',\n",
       " 'Shell',\n",
       " 'Flipkart',\n",
       " 'Conviva',\n",
       " 'Dell',\n",
       " 'Dell',\n",
       " 'SHAND PIPE INDUSTRY PVT.LTD',\n",
       " 'The HR Bulb',\n",
       " 'TresVista Financial',\n",
       " 'Shell',\n",
       " 'Genpact',\n",
       " 'Genpact',\n",
       " 'McAfee',\n",
       " 'Dell',\n",
       " 'Dell',\n",
       " 'Vedantu Innovations']"
      ]
     },
     "execution_count": 24,
     "metadata": {},
     "output_type": "execute_result"
    }
   ],
   "source": [
    "company_names"
   ]
  },
  {
   "cell_type": "code",
   "execution_count": 25,
   "id": "b08d19f0",
   "metadata": {},
   "outputs": [
    {
     "data": {
      "text/plain": [
       "20"
      ]
     },
     "execution_count": 25,
     "metadata": {},
     "output_type": "execute_result"
    }
   ],
   "source": [
    "# Here extract all web elements having experience\n",
    "exp_tags=driver.find_elements_by_xpath('//*[contains(@title,\"Yrs\")]')\n",
    "len(exp_tags)"
   ]
  },
  {
   "cell_type": "code",
   "execution_count": 26,
   "id": "26d84677",
   "metadata": {},
   "outputs": [
    {
     "data": {
      "text/plain": [
       "[<selenium.webdriver.remote.webelement.WebElement (session=\"04a67b1f5fe95d627315bfbb91fafbba\", element=\"7b3ca9e2-f210-4acd-9b19-db45f8d4ab57\")>,\n",
       " <selenium.webdriver.remote.webelement.WebElement (session=\"04a67b1f5fe95d627315bfbb91fafbba\", element=\"eb18fa3c-2d6a-44f7-84f1-b7591f130a23\")>,\n",
       " <selenium.webdriver.remote.webelement.WebElement (session=\"04a67b1f5fe95d627315bfbb91fafbba\", element=\"f8bf3fdc-7b4a-48cb-90ad-ee1cdeff4e52\")>,\n",
       " <selenium.webdriver.remote.webelement.WebElement (session=\"04a67b1f5fe95d627315bfbb91fafbba\", element=\"1ca4e962-868d-42b1-9764-1d9acb207833\")>,\n",
       " <selenium.webdriver.remote.webelement.WebElement (session=\"04a67b1f5fe95d627315bfbb91fafbba\", element=\"b11956c6-d120-4ffe-913a-7cd6575b6516\")>,\n",
       " <selenium.webdriver.remote.webelement.WebElement (session=\"04a67b1f5fe95d627315bfbb91fafbba\", element=\"44b565e9-d79d-44ea-ae66-bf4891204bfc\")>,\n",
       " <selenium.webdriver.remote.webelement.WebElement (session=\"04a67b1f5fe95d627315bfbb91fafbba\", element=\"7eb8c490-02c3-4087-b545-e0c8fdb8a6c0\")>,\n",
       " <selenium.webdriver.remote.webelement.WebElement (session=\"04a67b1f5fe95d627315bfbb91fafbba\", element=\"c2fd054f-d11e-405b-9633-f26b88de5cfd\")>,\n",
       " <selenium.webdriver.remote.webelement.WebElement (session=\"04a67b1f5fe95d627315bfbb91fafbba\", element=\"764afa27-ab8e-4f5c-9cfa-69639418b140\")>,\n",
       " <selenium.webdriver.remote.webelement.WebElement (session=\"04a67b1f5fe95d627315bfbb91fafbba\", element=\"0acde1f1-de68-4457-b0bc-f501f699c6f4\")>,\n",
       " <selenium.webdriver.remote.webelement.WebElement (session=\"04a67b1f5fe95d627315bfbb91fafbba\", element=\"df0c1df8-f4a0-4282-9c83-dd3d5059ef8c\")>,\n",
       " <selenium.webdriver.remote.webelement.WebElement (session=\"04a67b1f5fe95d627315bfbb91fafbba\", element=\"eca14a25-2a79-4b09-af4b-37de04163adb\")>,\n",
       " <selenium.webdriver.remote.webelement.WebElement (session=\"04a67b1f5fe95d627315bfbb91fafbba\", element=\"7428ffbb-e09d-4163-8c36-e7e18815e58a\")>,\n",
       " <selenium.webdriver.remote.webelement.WebElement (session=\"04a67b1f5fe95d627315bfbb91fafbba\", element=\"56ef00ab-ec76-4e36-96b0-f53aa58dc811\")>,\n",
       " <selenium.webdriver.remote.webelement.WebElement (session=\"04a67b1f5fe95d627315bfbb91fafbba\", element=\"a5fdce87-c7e9-4bd7-81d2-439f4aa16afb\")>,\n",
       " <selenium.webdriver.remote.webelement.WebElement (session=\"04a67b1f5fe95d627315bfbb91fafbba\", element=\"4544a720-290d-4604-b5e3-358d15b1288d\")>,\n",
       " <selenium.webdriver.remote.webelement.WebElement (session=\"04a67b1f5fe95d627315bfbb91fafbba\", element=\"bf46367e-eb4b-4e89-94dd-d5ba41421c44\")>,\n",
       " <selenium.webdriver.remote.webelement.WebElement (session=\"04a67b1f5fe95d627315bfbb91fafbba\", element=\"e05c70dc-c707-45b8-88c5-1a0b02d006b1\")>,\n",
       " <selenium.webdriver.remote.webelement.WebElement (session=\"04a67b1f5fe95d627315bfbb91fafbba\", element=\"f6f297ce-7e85-4fd1-866a-ba6ce2e5a8e0\")>,\n",
       " <selenium.webdriver.remote.webelement.WebElement (session=\"04a67b1f5fe95d627315bfbb91fafbba\", element=\"d337be73-4178-41d6-ad09-3b6af31c6968\")>]"
      ]
     },
     "execution_count": 26,
     "metadata": {},
     "output_type": "execute_result"
    }
   ],
   "source": [
    "exp_tags"
   ]
  },
  {
   "cell_type": "code",
   "execution_count": 27,
   "id": "4514afed",
   "metadata": {},
   "outputs": [
    {
     "data": {
      "text/plain": [
       "20"
      ]
     },
     "execution_count": 27,
     "metadata": {},
     "output_type": "execute_result"
    }
   ],
   "source": [
    "experience=[]\n",
    "\n",
    "for i in exp_tags:\n",
    "    experience.append(i.text)\n",
    "len(experience)"
   ]
  },
  {
   "cell_type": "code",
   "execution_count": 28,
   "id": "275a8a32",
   "metadata": {},
   "outputs": [
    {
     "data": {
      "text/plain": [
       "['1-6 Yrs',\n",
       " '2-4 Yrs',\n",
       " '2-3 Yrs',\n",
       " '2-5 Yrs',\n",
       " '5-8 Yrs',\n",
       " '2-7 Yrs',\n",
       " '1-3 Yrs',\n",
       " '6-10 Yrs',\n",
       " '2-5 Yrs',\n",
       " '2-5 Yrs',\n",
       " '2-6 Yrs',\n",
       " '0-3 Yrs',\n",
       " '0-1 Yrs',\n",
       " '5-8 Yrs',\n",
       " '6-10 Yrs',\n",
       " '7-12 Yrs',\n",
       " '2-7 Yrs',\n",
       " '2-7 Yrs',\n",
       " '3-8 Yrs',\n",
       " '1-5 Yrs']"
      ]
     },
     "execution_count": 28,
     "metadata": {},
     "output_type": "execute_result"
    }
   ],
   "source": [
    "experience"
   ]
  },
  {
   "cell_type": "code",
   "execution_count": 29,
   "id": "f8cf0fc8",
   "metadata": {},
   "outputs": [
    {
     "data": {
      "text/plain": [
       "20"
      ]
     },
     "execution_count": 29,
     "metadata": {},
     "output_type": "execute_result"
    }
   ],
   "source": [
    "# Here extract all web elements having locations\n",
    "locn_tags=driver.find_elements_by_xpath('//li[@class=\"fleft grey-text br2 placeHolderLi location\"]')\n",
    "len(locn_tags)"
   ]
  },
  {
   "cell_type": "code",
   "execution_count": 30,
   "id": "a6c9f0bf",
   "metadata": {},
   "outputs": [
    {
     "data": {
      "text/plain": [
       "[<selenium.webdriver.remote.webelement.WebElement (session=\"04a67b1f5fe95d627315bfbb91fafbba\", element=\"bda69d5e-80d1-4d49-9c0e-2ee9e763b807\")>,\n",
       " <selenium.webdriver.remote.webelement.WebElement (session=\"04a67b1f5fe95d627315bfbb91fafbba\", element=\"af503733-434e-42d0-a4f0-cb860316ab3b\")>,\n",
       " <selenium.webdriver.remote.webelement.WebElement (session=\"04a67b1f5fe95d627315bfbb91fafbba\", element=\"e0b200c6-880e-4ed5-a07e-40f74e464a5f\")>,\n",
       " <selenium.webdriver.remote.webelement.WebElement (session=\"04a67b1f5fe95d627315bfbb91fafbba\", element=\"c009ca57-2cf7-4e3f-bee0-87d4301555f7\")>,\n",
       " <selenium.webdriver.remote.webelement.WebElement (session=\"04a67b1f5fe95d627315bfbb91fafbba\", element=\"59d666cf-a691-4b18-9351-aa4c8f85ff5c\")>,\n",
       " <selenium.webdriver.remote.webelement.WebElement (session=\"04a67b1f5fe95d627315bfbb91fafbba\", element=\"b20b759a-973b-410c-9481-f613fc3db690\")>,\n",
       " <selenium.webdriver.remote.webelement.WebElement (session=\"04a67b1f5fe95d627315bfbb91fafbba\", element=\"0d3f9f1c-6f41-4481-91cf-2dc1804883fa\")>,\n",
       " <selenium.webdriver.remote.webelement.WebElement (session=\"04a67b1f5fe95d627315bfbb91fafbba\", element=\"3ed6fec8-480e-4cb7-9050-f8c7860254fa\")>,\n",
       " <selenium.webdriver.remote.webelement.WebElement (session=\"04a67b1f5fe95d627315bfbb91fafbba\", element=\"ddd6887e-bd3c-46e7-a803-bc11b8a8070e\")>,\n",
       " <selenium.webdriver.remote.webelement.WebElement (session=\"04a67b1f5fe95d627315bfbb91fafbba\", element=\"49a4cea0-85e2-4c92-95df-27a99d640de8\")>,\n",
       " <selenium.webdriver.remote.webelement.WebElement (session=\"04a67b1f5fe95d627315bfbb91fafbba\", element=\"dc43b3b0-130f-4ea3-a926-8868ea85ae49\")>,\n",
       " <selenium.webdriver.remote.webelement.WebElement (session=\"04a67b1f5fe95d627315bfbb91fafbba\", element=\"ecd9a33a-22bc-4e74-bd07-3f6de65a2a3f\")>,\n",
       " <selenium.webdriver.remote.webelement.WebElement (session=\"04a67b1f5fe95d627315bfbb91fafbba\", element=\"4ecfb3a9-23df-4a3e-ab01-eb70f6ff9d6a\")>,\n",
       " <selenium.webdriver.remote.webelement.WebElement (session=\"04a67b1f5fe95d627315bfbb91fafbba\", element=\"be430497-2b72-4c2a-9e4a-e7eba1629ff6\")>,\n",
       " <selenium.webdriver.remote.webelement.WebElement (session=\"04a67b1f5fe95d627315bfbb91fafbba\", element=\"1f473cc8-c0f7-40f7-bb18-a4a9c3d24a7c\")>,\n",
       " <selenium.webdriver.remote.webelement.WebElement (session=\"04a67b1f5fe95d627315bfbb91fafbba\", element=\"d4075b65-5577-4511-8acc-1c617cef17ce\")>,\n",
       " <selenium.webdriver.remote.webelement.WebElement (session=\"04a67b1f5fe95d627315bfbb91fafbba\", element=\"e7c6134c-21f6-40e8-8277-0c589987bbbc\")>,\n",
       " <selenium.webdriver.remote.webelement.WebElement (session=\"04a67b1f5fe95d627315bfbb91fafbba\", element=\"6010263b-be86-4c32-87c6-4e2313bd723b\")>,\n",
       " <selenium.webdriver.remote.webelement.WebElement (session=\"04a67b1f5fe95d627315bfbb91fafbba\", element=\"11f934f3-2d09-498a-b5b0-6bca20df4020\")>,\n",
       " <selenium.webdriver.remote.webelement.WebElement (session=\"04a67b1f5fe95d627315bfbb91fafbba\", element=\"ad40c5c9-8c54-455e-8359-a38a2ee1e571\")>]"
      ]
     },
     "execution_count": 30,
     "metadata": {},
     "output_type": "execute_result"
    }
   ],
   "source": [
    "locn_tags"
   ]
  },
  {
   "cell_type": "code",
   "execution_count": 31,
   "id": "66068924",
   "metadata": {},
   "outputs": [
    {
     "data": {
      "text/plain": [
       "20"
      ]
     },
     "execution_count": 31,
     "metadata": {},
     "output_type": "execute_result"
    }
   ],
   "source": [
    "locations=[]\n",
    "\n",
    "for i in locn_tags:\n",
    "    locations.append(i.text)\n",
    "len(locations)"
   ]
  },
  {
   "cell_type": "code",
   "execution_count": 32,
   "id": "86b09287",
   "metadata": {},
   "outputs": [
    {
     "data": {
      "text/plain": [
       "['Bangalore/Bengaluru',\n",
       " 'Bangalore/Bengaluru',\n",
       " 'Bangalore/Bengaluru',\n",
       " 'Mumbai, Hyderabad/Secunderabad, Pune, Chennai, Bangalore/Bengaluru',\n",
       " 'Remote',\n",
       " 'Bangalore/Bengaluru',\n",
       " 'Bangalore/Bengaluru',\n",
       " 'Bangalore/Bengaluru',\n",
       " 'Bangalore/Bengaluru',\n",
       " 'Bangalore/Bengaluru',\n",
       " 'Bangalore/Bengaluru',\n",
       " 'New Delhi(Paschim Vihar +1), Bangalore/Bengaluru(Whitefield +2)',\n",
       " 'Mumbai, Pune, Bangalore/Bengaluru',\n",
       " 'Bangalore/Bengaluru',\n",
       " 'Hyderabad/Secunderabad, Bangalore/Bengaluru, Delhi / NCR',\n",
       " 'Pune, Bangalore/Bengaluru',\n",
       " 'Bangalore/Bengaluru',\n",
       " 'Bangalore/Bengaluru',\n",
       " 'Bangalore/Bengaluru',\n",
       " 'Bangalore/Bengaluru']"
      ]
     },
     "execution_count": 32,
     "metadata": {},
     "output_type": "execute_result"
    }
   ],
   "source": [
    "locations"
   ]
  },
  {
   "cell_type": "code",
   "execution_count": 33,
   "id": "ad505293",
   "metadata": {},
   "outputs": [
    {
     "data": {
      "text/plain": [
       "20"
      ]
     },
     "execution_count": 33,
     "metadata": {},
     "output_type": "execute_result"
    }
   ],
   "source": [
    "# Here extract all web elements having salary\n",
    "sal=driver.find_elements_by_xpath('//li[@class=\"fleft grey-text br2 placeHolderLi salary\"]')\n",
    "len(sal)"
   ]
  },
  {
   "cell_type": "code",
   "execution_count": 34,
   "id": "894d448f",
   "metadata": {},
   "outputs": [
    {
     "data": {
      "text/plain": [
       "[<selenium.webdriver.remote.webelement.WebElement (session=\"04a67b1f5fe95d627315bfbb91fafbba\", element=\"1a2735a9-a462-4219-9ea4-d96743f80b93\")>,\n",
       " <selenium.webdriver.remote.webelement.WebElement (session=\"04a67b1f5fe95d627315bfbb91fafbba\", element=\"dee74d4e-bbe4-4a70-ac80-8f85f3a10835\")>,\n",
       " <selenium.webdriver.remote.webelement.WebElement (session=\"04a67b1f5fe95d627315bfbb91fafbba\", element=\"3019d1ae-8c79-4358-a9c8-a64cbca35f0b\")>,\n",
       " <selenium.webdriver.remote.webelement.WebElement (session=\"04a67b1f5fe95d627315bfbb91fafbba\", element=\"30b3425b-89a3-4eae-ade1-00a1f18641f9\")>,\n",
       " <selenium.webdriver.remote.webelement.WebElement (session=\"04a67b1f5fe95d627315bfbb91fafbba\", element=\"3c6a0f00-d27e-44a2-8c2c-27e34168fcd9\")>,\n",
       " <selenium.webdriver.remote.webelement.WebElement (session=\"04a67b1f5fe95d627315bfbb91fafbba\", element=\"08d96f53-6192-42cf-93ed-20292035d00f\")>,\n",
       " <selenium.webdriver.remote.webelement.WebElement (session=\"04a67b1f5fe95d627315bfbb91fafbba\", element=\"3cc87e2f-cb7a-44b3-87e2-b0bc3767483f\")>,\n",
       " <selenium.webdriver.remote.webelement.WebElement (session=\"04a67b1f5fe95d627315bfbb91fafbba\", element=\"00aff000-39c2-4d1d-a95d-c0d918cf137c\")>,\n",
       " <selenium.webdriver.remote.webelement.WebElement (session=\"04a67b1f5fe95d627315bfbb91fafbba\", element=\"301141e8-6c4f-4b8e-ab97-b280ec3e6148\")>,\n",
       " <selenium.webdriver.remote.webelement.WebElement (session=\"04a67b1f5fe95d627315bfbb91fafbba\", element=\"253bf06b-8aeb-4c3a-9efd-60ba7f8aaa75\")>,\n",
       " <selenium.webdriver.remote.webelement.WebElement (session=\"04a67b1f5fe95d627315bfbb91fafbba\", element=\"b11721f7-91a9-4d89-8581-b40088ae95cf\")>,\n",
       " <selenium.webdriver.remote.webelement.WebElement (session=\"04a67b1f5fe95d627315bfbb91fafbba\", element=\"dd7a81b2-0b21-440c-8a06-dfcbc4ab970b\")>,\n",
       " <selenium.webdriver.remote.webelement.WebElement (session=\"04a67b1f5fe95d627315bfbb91fafbba\", element=\"4cc76a3b-e4ec-48ca-a462-9473ef23c695\")>,\n",
       " <selenium.webdriver.remote.webelement.WebElement (session=\"04a67b1f5fe95d627315bfbb91fafbba\", element=\"e250e1b5-5da4-42b7-b930-921827882ab1\")>,\n",
       " <selenium.webdriver.remote.webelement.WebElement (session=\"04a67b1f5fe95d627315bfbb91fafbba\", element=\"a0582de0-b968-4c39-9c90-045391577ee0\")>,\n",
       " <selenium.webdriver.remote.webelement.WebElement (session=\"04a67b1f5fe95d627315bfbb91fafbba\", element=\"e152b6df-9def-4cfc-b651-ad3e01e03cac\")>,\n",
       " <selenium.webdriver.remote.webelement.WebElement (session=\"04a67b1f5fe95d627315bfbb91fafbba\", element=\"52cf0665-0b95-456d-baa8-2321e1205ba5\")>,\n",
       " <selenium.webdriver.remote.webelement.WebElement (session=\"04a67b1f5fe95d627315bfbb91fafbba\", element=\"f0a3a428-5f63-4184-af62-b249eea82af5\")>,\n",
       " <selenium.webdriver.remote.webelement.WebElement (session=\"04a67b1f5fe95d627315bfbb91fafbba\", element=\"f46ab611-e9de-4454-905f-6b0cea9e4c1c\")>,\n",
       " <selenium.webdriver.remote.webelement.WebElement (session=\"04a67b1f5fe95d627315bfbb91fafbba\", element=\"3fc2cfb9-53c7-4216-bf29-a14f51a28ef2\")>]"
      ]
     },
     "execution_count": 34,
     "metadata": {},
     "output_type": "execute_result"
    }
   ],
   "source": [
    "sal"
   ]
  },
  {
   "cell_type": "code",
   "execution_count": 35,
   "id": "0e2fa71e",
   "metadata": {},
   "outputs": [
    {
     "data": {
      "text/plain": [
       "20"
      ]
     },
     "execution_count": 35,
     "metadata": {},
     "output_type": "execute_result"
    }
   ],
   "source": [
    "salary=[]\n",
    "\n",
    "for i in sal:\n",
    "    salary.append(i.text)\n",
    "len(salary)    "
   ]
  },
  {
   "cell_type": "code",
   "execution_count": 36,
   "id": "7300f85e",
   "metadata": {},
   "outputs": [
    {
     "data": {
      "text/plain": [
       "['5,00,000 - 10,00,000 PA.',\n",
       " 'Not disclosed',\n",
       " 'Not disclosed',\n",
       " 'Not disclosed',\n",
       " '10,00,000 - 20,00,000 PA.',\n",
       " 'Not disclosed',\n",
       " 'Not disclosed',\n",
       " 'Not disclosed',\n",
       " 'Not disclosed',\n",
       " 'Not disclosed',\n",
       " 'Not disclosed',\n",
       " '2,75,000 - 4,00,000 PA. (Including Variable: 20.0%)',\n",
       " 'Not disclosed',\n",
       " 'Not disclosed',\n",
       " 'Not disclosed',\n",
       " 'Not disclosed',\n",
       " 'Not disclosed',\n",
       " 'Not disclosed',\n",
       " 'Not disclosed',\n",
       " '4,00,000 - 8,00,000 PA.']"
      ]
     },
     "execution_count": 36,
     "metadata": {},
     "output_type": "execute_result"
    }
   ],
   "source": [
    "salary"
   ]
  },
  {
   "cell_type": "code",
   "execution_count": 37,
   "id": "15dace57",
   "metadata": {},
   "outputs": [
    {
     "data": {
      "text/plain": [
       "(20, 20, 20, 20, 20)"
      ]
     },
     "execution_count": 37,
     "metadata": {},
     "output_type": "execute_result"
    }
   ],
   "source": [
    "# Finally create a dataframe of the scraped data\n",
    "len(job_titles),len(company_names),len(experience),len(locations),len(salary)"
   ]
  },
  {
   "cell_type": "code",
   "execution_count": 38,
   "id": "c8dde347",
   "metadata": {},
   "outputs": [
    {
     "data": {
      "text/html": [
       "<div>\n",
       "<style scoped>\n",
       "    .dataframe tbody tr th:only-of-type {\n",
       "        vertical-align: middle;\n",
       "    }\n",
       "\n",
       "    .dataframe tbody tr th {\n",
       "        vertical-align: top;\n",
       "    }\n",
       "\n",
       "    .dataframe thead th {\n",
       "        text-align: right;\n",
       "    }\n",
       "</style>\n",
       "<table border=\"1\" class=\"dataframe\">\n",
       "  <thead>\n",
       "    <tr style=\"text-align: right;\">\n",
       "      <th></th>\n",
       "      <th>job_titles</th>\n",
       "      <th>company_names</th>\n",
       "      <th>experience</th>\n",
       "      <th>locations</th>\n",
       "      <th>salary</th>\n",
       "    </tr>\n",
       "  </thead>\n",
       "  <tbody>\n",
       "    <tr>\n",
       "      <th>0</th>\n",
       "      <td>Hiring -Data Analyst, Business Analyst, MIS An...</td>\n",
       "      <td>Flipkart</td>\n",
       "      <td>1-6 Yrs</td>\n",
       "      <td>Bangalore/Bengaluru</td>\n",
       "      <td>5,00,000 - 10,00,000 PA.</td>\n",
       "    </tr>\n",
       "    <tr>\n",
       "      <th>1</th>\n",
       "      <td>Senior Data Analyst II</td>\n",
       "      <td>Flipkart</td>\n",
       "      <td>2-4 Yrs</td>\n",
       "      <td>Bangalore/Bengaluru</td>\n",
       "      <td>Not disclosed</td>\n",
       "    </tr>\n",
       "    <tr>\n",
       "      <th>2</th>\n",
       "      <td>Senior Data Analyst</td>\n",
       "      <td>Flipkart</td>\n",
       "      <td>2-3 Yrs</td>\n",
       "      <td>Bangalore/Bengaluru</td>\n",
       "      <td>Not disclosed</td>\n",
       "    </tr>\n",
       "    <tr>\n",
       "      <th>3</th>\n",
       "      <td>Business Analyst (Data Analyst role)</td>\n",
       "      <td>Xpheno</td>\n",
       "      <td>2-5 Yrs</td>\n",
       "      <td>Mumbai, Hyderabad/Secunderabad, Pune, Chennai,...</td>\n",
       "      <td>Not disclosed</td>\n",
       "    </tr>\n",
       "    <tr>\n",
       "      <th>4</th>\n",
       "      <td>Senior Data Analyst</td>\n",
       "      <td>Liventus Technology Services</td>\n",
       "      <td>5-8 Yrs</td>\n",
       "      <td>Remote</td>\n",
       "      <td>10,00,000 - 20,00,000 PA.</td>\n",
       "    </tr>\n",
       "    <tr>\n",
       "      <th>5</th>\n",
       "      <td>Data Analyst</td>\n",
       "      <td>Shell</td>\n",
       "      <td>2-7 Yrs</td>\n",
       "      <td>Bangalore/Bengaluru</td>\n",
       "      <td>Not disclosed</td>\n",
       "    </tr>\n",
       "    <tr>\n",
       "      <th>6</th>\n",
       "      <td>Consultant - Data Analyst</td>\n",
       "      <td>Flipkart</td>\n",
       "      <td>1-3 Yrs</td>\n",
       "      <td>Bangalore/Bengaluru</td>\n",
       "      <td>Not disclosed</td>\n",
       "    </tr>\n",
       "    <tr>\n",
       "      <th>7</th>\n",
       "      <td>Senior Data Analyst</td>\n",
       "      <td>Conviva</td>\n",
       "      <td>6-10 Yrs</td>\n",
       "      <td>Bangalore/Bengaluru</td>\n",
       "      <td>Not disclosed</td>\n",
       "    </tr>\n",
       "    <tr>\n",
       "      <th>8</th>\n",
       "      <td>Senior Analyst, Data Engineering</td>\n",
       "      <td>Dell</td>\n",
       "      <td>2-5 Yrs</td>\n",
       "      <td>Bangalore/Bengaluru</td>\n",
       "      <td>Not disclosed</td>\n",
       "    </tr>\n",
       "    <tr>\n",
       "      <th>9</th>\n",
       "      <td>Senior Analyst, Data Engineering</td>\n",
       "      <td>Dell</td>\n",
       "      <td>2-5 Yrs</td>\n",
       "      <td>Bangalore/Bengaluru</td>\n",
       "      <td>Not disclosed</td>\n",
       "    </tr>\n",
       "    <tr>\n",
       "      <th>10</th>\n",
       "      <td>Business Data Analyst - MIS &amp; Reporting</td>\n",
       "      <td>SHAND PIPE INDUSTRY PVT.LTD</td>\n",
       "      <td>2-6 Yrs</td>\n",
       "      <td>Bangalore/Bengaluru</td>\n",
       "      <td>Not disclosed</td>\n",
       "    </tr>\n",
       "    <tr>\n",
       "      <th>11</th>\n",
       "      <td>Statistician, Data Analyst, SPSS, M.Sc Statist...</td>\n",
       "      <td>The HR Bulb</td>\n",
       "      <td>0-3 Yrs</td>\n",
       "      <td>New Delhi(Paschim Vihar +1), Bangalore/Bengalu...</td>\n",
       "      <td>2,75,000 - 4,00,000 PA. (Including Variable: 2...</td>\n",
       "    </tr>\n",
       "    <tr>\n",
       "      <th>12</th>\n",
       "      <td>Analyst - Data Intelligence Group</td>\n",
       "      <td>TresVista Financial</td>\n",
       "      <td>0-1 Yrs</td>\n",
       "      <td>Mumbai, Pune, Bangalore/Bengaluru</td>\n",
       "      <td>Not disclosed</td>\n",
       "    </tr>\n",
       "    <tr>\n",
       "      <th>13</th>\n",
       "      <td>Data Analyst</td>\n",
       "      <td>Shell</td>\n",
       "      <td>5-8 Yrs</td>\n",
       "      <td>Bangalore/Bengaluru</td>\n",
       "      <td>Not disclosed</td>\n",
       "    </tr>\n",
       "    <tr>\n",
       "      <th>14</th>\n",
       "      <td>Business Analyst (Data Analyst)</td>\n",
       "      <td>Genpact</td>\n",
       "      <td>6-10 Yrs</td>\n",
       "      <td>Hyderabad/Secunderabad, Bangalore/Bengaluru, D...</td>\n",
       "      <td>Not disclosed</td>\n",
       "    </tr>\n",
       "    <tr>\n",
       "      <th>15</th>\n",
       "      <td>Business Analyst/ Data Analyst- Capital Market...</td>\n",
       "      <td>Genpact</td>\n",
       "      <td>7-12 Yrs</td>\n",
       "      <td>Pune, Bangalore/Bengaluru</td>\n",
       "      <td>Not disclosed</td>\n",
       "    </tr>\n",
       "    <tr>\n",
       "      <th>16</th>\n",
       "      <td>Data Analyst</td>\n",
       "      <td>McAfee</td>\n",
       "      <td>2-7 Yrs</td>\n",
       "      <td>Bangalore/Bengaluru</td>\n",
       "      <td>Not disclosed</td>\n",
       "    </tr>\n",
       "    <tr>\n",
       "      <th>17</th>\n",
       "      <td>Senior Analyst, Data Engineering</td>\n",
       "      <td>Dell</td>\n",
       "      <td>2-7 Yrs</td>\n",
       "      <td>Bangalore/Bengaluru</td>\n",
       "      <td>Not disclosed</td>\n",
       "    </tr>\n",
       "    <tr>\n",
       "      <th>18</th>\n",
       "      <td>Senior Analyst Data Engineering</td>\n",
       "      <td>Dell</td>\n",
       "      <td>3-8 Yrs</td>\n",
       "      <td>Bangalore/Bengaluru</td>\n",
       "      <td>Not disclosed</td>\n",
       "    </tr>\n",
       "    <tr>\n",
       "      <th>19</th>\n",
       "      <td>Data Analyst</td>\n",
       "      <td>Vedantu Innovations</td>\n",
       "      <td>1-5 Yrs</td>\n",
       "      <td>Bangalore/Bengaluru</td>\n",
       "      <td>4,00,000 - 8,00,000 PA.</td>\n",
       "    </tr>\n",
       "  </tbody>\n",
       "</table>\n",
       "</div>"
      ],
      "text/plain": [
       "                                           job_titles  \\\n",
       "0   Hiring -Data Analyst, Business Analyst, MIS An...   \n",
       "1                              Senior Data Analyst II   \n",
       "2                                 Senior Data Analyst   \n",
       "3                Business Analyst (Data Analyst role)   \n",
       "4                                 Senior Data Analyst   \n",
       "5                                        Data Analyst   \n",
       "6                           Consultant - Data Analyst   \n",
       "7                                 Senior Data Analyst   \n",
       "8                    Senior Analyst, Data Engineering   \n",
       "9                    Senior Analyst, Data Engineering   \n",
       "10            Business Data Analyst - MIS & Reporting   \n",
       "11  Statistician, Data Analyst, SPSS, M.Sc Statist...   \n",
       "12                  Analyst - Data Intelligence Group   \n",
       "13                                       Data Analyst   \n",
       "14                    Business Analyst (Data Analyst)   \n",
       "15  Business Analyst/ Data Analyst- Capital Market...   \n",
       "16                                       Data Analyst   \n",
       "17                   Senior Analyst, Data Engineering   \n",
       "18                    Senior Analyst Data Engineering   \n",
       "19                                       Data Analyst   \n",
       "\n",
       "                   company_names experience  \\\n",
       "0                       Flipkart    1-6 Yrs   \n",
       "1                       Flipkart    2-4 Yrs   \n",
       "2                       Flipkart    2-3 Yrs   \n",
       "3                         Xpheno    2-5 Yrs   \n",
       "4   Liventus Technology Services    5-8 Yrs   \n",
       "5                          Shell    2-7 Yrs   \n",
       "6                       Flipkart    1-3 Yrs   \n",
       "7                        Conviva   6-10 Yrs   \n",
       "8                           Dell    2-5 Yrs   \n",
       "9                           Dell    2-5 Yrs   \n",
       "10   SHAND PIPE INDUSTRY PVT.LTD    2-6 Yrs   \n",
       "11                   The HR Bulb    0-3 Yrs   \n",
       "12           TresVista Financial    0-1 Yrs   \n",
       "13                         Shell    5-8 Yrs   \n",
       "14                       Genpact   6-10 Yrs   \n",
       "15                       Genpact   7-12 Yrs   \n",
       "16                        McAfee    2-7 Yrs   \n",
       "17                          Dell    2-7 Yrs   \n",
       "18                          Dell    3-8 Yrs   \n",
       "19           Vedantu Innovations    1-5 Yrs   \n",
       "\n",
       "                                            locations  \\\n",
       "0                                 Bangalore/Bengaluru   \n",
       "1                                 Bangalore/Bengaluru   \n",
       "2                                 Bangalore/Bengaluru   \n",
       "3   Mumbai, Hyderabad/Secunderabad, Pune, Chennai,...   \n",
       "4                                              Remote   \n",
       "5                                 Bangalore/Bengaluru   \n",
       "6                                 Bangalore/Bengaluru   \n",
       "7                                 Bangalore/Bengaluru   \n",
       "8                                 Bangalore/Bengaluru   \n",
       "9                                 Bangalore/Bengaluru   \n",
       "10                                Bangalore/Bengaluru   \n",
       "11  New Delhi(Paschim Vihar +1), Bangalore/Bengalu...   \n",
       "12                  Mumbai, Pune, Bangalore/Bengaluru   \n",
       "13                                Bangalore/Bengaluru   \n",
       "14  Hyderabad/Secunderabad, Bangalore/Bengaluru, D...   \n",
       "15                          Pune, Bangalore/Bengaluru   \n",
       "16                                Bangalore/Bengaluru   \n",
       "17                                Bangalore/Bengaluru   \n",
       "18                                Bangalore/Bengaluru   \n",
       "19                                Bangalore/Bengaluru   \n",
       "\n",
       "                                               salary  \n",
       "0                            5,00,000 - 10,00,000 PA.  \n",
       "1                                       Not disclosed  \n",
       "2                                       Not disclosed  \n",
       "3                                       Not disclosed  \n",
       "4                           10,00,000 - 20,00,000 PA.  \n",
       "5                                       Not disclosed  \n",
       "6                                       Not disclosed  \n",
       "7                                       Not disclosed  \n",
       "8                                       Not disclosed  \n",
       "9                                       Not disclosed  \n",
       "10                                      Not disclosed  \n",
       "11  2,75,000 - 4,00,000 PA. (Including Variable: 2...  \n",
       "12                                      Not disclosed  \n",
       "13                                      Not disclosed  \n",
       "14                                      Not disclosed  \n",
       "15                                      Not disclosed  \n",
       "16                                      Not disclosed  \n",
       "17                                      Not disclosed  \n",
       "18                                      Not disclosed  \n",
       "19                            4,00,000 - 8,00,000 PA.  "
      ]
     },
     "execution_count": 38,
     "metadata": {},
     "output_type": "execute_result"
    }
   ],
   "source": [
    "jobs=pd.DataFrame()\n",
    "jobs['job_titles']=job_titles\n",
    "jobs['company_names']=company_names\n",
    "jobs['experience']=experience\n",
    "jobs['locations']=locations\n",
    "jobs['salary']=salary\n",
    "jobs"
   ]
  },
  {
   "cell_type": "code",
   "execution_count": 39,
   "id": "7e231cff",
   "metadata": {},
   "outputs": [
    {
     "data": {
      "text/html": [
       "<div>\n",
       "<style scoped>\n",
       "    .dataframe tbody tr th:only-of-type {\n",
       "        vertical-align: middle;\n",
       "    }\n",
       "\n",
       "    .dataframe tbody tr th {\n",
       "        vertical-align: top;\n",
       "    }\n",
       "\n",
       "    .dataframe thead th {\n",
       "        text-align: right;\n",
       "    }\n",
       "</style>\n",
       "<table border=\"1\" class=\"dataframe\">\n",
       "  <thead>\n",
       "    <tr style=\"text-align: right;\">\n",
       "      <th></th>\n",
       "      <th>job_titles</th>\n",
       "      <th>company_names</th>\n",
       "      <th>experience</th>\n",
       "      <th>locations</th>\n",
       "      <th>salary</th>\n",
       "    </tr>\n",
       "  </thead>\n",
       "  <tbody>\n",
       "    <tr>\n",
       "      <th>0</th>\n",
       "      <td>Hiring -Data Analyst, Business Analyst, MIS An...</td>\n",
       "      <td>Flipkart</td>\n",
       "      <td>1-6 Yrs</td>\n",
       "      <td>Bangalore/Bengaluru</td>\n",
       "      <td>5,00,000 - 10,00,000 PA.</td>\n",
       "    </tr>\n",
       "    <tr>\n",
       "      <th>1</th>\n",
       "      <td>Senior Data Analyst II</td>\n",
       "      <td>Flipkart</td>\n",
       "      <td>2-4 Yrs</td>\n",
       "      <td>Bangalore/Bengaluru</td>\n",
       "      <td>Not disclosed</td>\n",
       "    </tr>\n",
       "    <tr>\n",
       "      <th>2</th>\n",
       "      <td>Senior Data Analyst</td>\n",
       "      <td>Flipkart</td>\n",
       "      <td>2-3 Yrs</td>\n",
       "      <td>Bangalore/Bengaluru</td>\n",
       "      <td>Not disclosed</td>\n",
       "    </tr>\n",
       "    <tr>\n",
       "      <th>3</th>\n",
       "      <td>Business Analyst (Data Analyst role)</td>\n",
       "      <td>Xpheno</td>\n",
       "      <td>2-5 Yrs</td>\n",
       "      <td>Mumbai, Hyderabad/Secunderabad, Pune, Chennai,...</td>\n",
       "      <td>Not disclosed</td>\n",
       "    </tr>\n",
       "    <tr>\n",
       "      <th>4</th>\n",
       "      <td>Senior Data Analyst</td>\n",
       "      <td>Liventus Technology Services</td>\n",
       "      <td>5-8 Yrs</td>\n",
       "      <td>Remote</td>\n",
       "      <td>10,00,000 - 20,00,000 PA.</td>\n",
       "    </tr>\n",
       "    <tr>\n",
       "      <th>5</th>\n",
       "      <td>Data Analyst</td>\n",
       "      <td>Shell</td>\n",
       "      <td>2-7 Yrs</td>\n",
       "      <td>Bangalore/Bengaluru</td>\n",
       "      <td>Not disclosed</td>\n",
       "    </tr>\n",
       "    <tr>\n",
       "      <th>6</th>\n",
       "      <td>Consultant - Data Analyst</td>\n",
       "      <td>Flipkart</td>\n",
       "      <td>1-3 Yrs</td>\n",
       "      <td>Bangalore/Bengaluru</td>\n",
       "      <td>Not disclosed</td>\n",
       "    </tr>\n",
       "    <tr>\n",
       "      <th>7</th>\n",
       "      <td>Senior Data Analyst</td>\n",
       "      <td>Conviva</td>\n",
       "      <td>6-10 Yrs</td>\n",
       "      <td>Bangalore/Bengaluru</td>\n",
       "      <td>Not disclosed</td>\n",
       "    </tr>\n",
       "    <tr>\n",
       "      <th>8</th>\n",
       "      <td>Senior Analyst, Data Engineering</td>\n",
       "      <td>Dell</td>\n",
       "      <td>2-5 Yrs</td>\n",
       "      <td>Bangalore/Bengaluru</td>\n",
       "      <td>Not disclosed</td>\n",
       "    </tr>\n",
       "    <tr>\n",
       "      <th>9</th>\n",
       "      <td>Senior Analyst, Data Engineering</td>\n",
       "      <td>Dell</td>\n",
       "      <td>2-5 Yrs</td>\n",
       "      <td>Bangalore/Bengaluru</td>\n",
       "      <td>Not disclosed</td>\n",
       "    </tr>\n",
       "  </tbody>\n",
       "</table>\n",
       "</div>"
      ],
      "text/plain": [
       "                                          job_titles  \\\n",
       "0  Hiring -Data Analyst, Business Analyst, MIS An...   \n",
       "1                             Senior Data Analyst II   \n",
       "2                                Senior Data Analyst   \n",
       "3               Business Analyst (Data Analyst role)   \n",
       "4                                Senior Data Analyst   \n",
       "5                                       Data Analyst   \n",
       "6                          Consultant - Data Analyst   \n",
       "7                                Senior Data Analyst   \n",
       "8                   Senior Analyst, Data Engineering   \n",
       "9                   Senior Analyst, Data Engineering   \n",
       "\n",
       "                  company_names experience  \\\n",
       "0                      Flipkart    1-6 Yrs   \n",
       "1                      Flipkart    2-4 Yrs   \n",
       "2                      Flipkart    2-3 Yrs   \n",
       "3                        Xpheno    2-5 Yrs   \n",
       "4  Liventus Technology Services    5-8 Yrs   \n",
       "5                         Shell    2-7 Yrs   \n",
       "6                      Flipkart    1-3 Yrs   \n",
       "7                       Conviva   6-10 Yrs   \n",
       "8                          Dell    2-5 Yrs   \n",
       "9                          Dell    2-5 Yrs   \n",
       "\n",
       "                                           locations  \\\n",
       "0                                Bangalore/Bengaluru   \n",
       "1                                Bangalore/Bengaluru   \n",
       "2                                Bangalore/Bengaluru   \n",
       "3  Mumbai, Hyderabad/Secunderabad, Pune, Chennai,...   \n",
       "4                                             Remote   \n",
       "5                                Bangalore/Bengaluru   \n",
       "6                                Bangalore/Bengaluru   \n",
       "7                                Bangalore/Bengaluru   \n",
       "8                                Bangalore/Bengaluru   \n",
       "9                                Bangalore/Bengaluru   \n",
       "\n",
       "                      salary  \n",
       "0   5,00,000 - 10,00,000 PA.  \n",
       "1              Not disclosed  \n",
       "2              Not disclosed  \n",
       "3              Not disclosed  \n",
       "4  10,00,000 - 20,00,000 PA.  \n",
       "5              Not disclosed  \n",
       "6              Not disclosed  \n",
       "7              Not disclosed  \n",
       "8              Not disclosed  \n",
       "9              Not disclosed  "
      ]
     },
     "execution_count": 39,
     "metadata": {},
     "output_type": "execute_result"
    }
   ],
   "source": [
    "jobs.head(10)"
   ]
  },
  {
   "cell_type": "markdown",
   "id": "c81abb19",
   "metadata": {},
   "source": [
    "#### Q2: Write a python program to scrape data for “Data Scientist” Job position in “Bangalore” location.\n",
    "\n",
    "    a.Enter “Data Scientist” in “Skill, Designations, Companies” field and enter “Bangalore” in “enter the\n",
    "      location” field.\n",
    "    b.Then scrape the data for the first 10 jobs results you get.\n",
    "    c.Finally create a dataframe of the scraped data."
   ]
  },
  {
   "cell_type": "code",
   "execution_count": 40,
   "id": "97937ae2",
   "metadata": {},
   "outputs": [],
   "source": [
    "import selenium\n",
    "from selenium import webdriver\n",
    "import pandas as pd\n",
    "import warnings\n",
    "warnings.filterwarnings('ignore')"
   ]
  },
  {
   "cell_type": "code",
   "execution_count": 41,
   "id": "47eaf543",
   "metadata": {},
   "outputs": [],
   "source": [
    "# first connect to web driver\n",
    "driver = webdriver.Chrome(r'c:\\Users\\Bawla Singh.DESKTOP-KT1PI9D\\Desktop\\chromedriver.exe')"
   ]
  },
  {
   "cell_type": "code",
   "execution_count": 42,
   "id": "4824e900",
   "metadata": {},
   "outputs": [],
   "source": [
    "driver=webdriver.Chrome('chromedriver.exe')"
   ]
  },
  {
   "cell_type": "code",
   "execution_count": 43,
   "id": "c324ddc6",
   "metadata": {},
   "outputs": [],
   "source": [
    "url='https://www.naukri.com/'\n",
    "driver.get(url)"
   ]
  },
  {
   "cell_type": "code",
   "execution_count": 44,
   "id": "d6cb75f1",
   "metadata": {},
   "outputs": [
    {
     "data": {
      "text/plain": [
       "<selenium.webdriver.remote.webelement.WebElement (session=\"06cc8a6302261622a893393474f62040\", element=\"5856847a-68c4-4f6d-8c53-792d8f564607\")>"
      ]
     },
     "execution_count": 44,
     "metadata": {},
     "output_type": "execute_result"
    }
   ],
   "source": [
    "# finding web element for search job bar using class name\n",
    "job=driver.find_element_by_class_name('suggestor-input')\n",
    "job"
   ]
  },
  {
   "cell_type": "code",
   "execution_count": 45,
   "id": "84673ffd",
   "metadata": {},
   "outputs": [],
   "source": [
    "job.send_keys('Data Scientist')"
   ]
  },
  {
   "cell_type": "code",
   "execution_count": 46,
   "id": "aeb9d6e1",
   "metadata": {},
   "outputs": [
    {
     "data": {
      "text/plain": [
       "<selenium.webdriver.remote.webelement.WebElement (session=\"06cc8a6302261622a893393474f62040\", element=\"1f0af302-232e-461d-bf46-61e952bf0efa\")>"
      ]
     },
     "execution_count": 46,
     "metadata": {},
     "output_type": "execute_result"
    }
   ],
   "source": [
    "locn=driver.find_element_by_xpath('/html/body/div/div[2]/div[3]/div/div/div[3]/div/div/div/input')\n",
    "locn"
   ]
  },
  {
   "cell_type": "code",
   "execution_count": 47,
   "id": "7835c4eb",
   "metadata": {},
   "outputs": [],
   "source": [
    "#finding web element for job location bar\n",
    "locn.send_keys('Bangalore')"
   ]
  },
  {
   "cell_type": "code",
   "execution_count": 48,
   "id": "120ef6db",
   "metadata": {},
   "outputs": [
    {
     "data": {
      "text/plain": [
       "<selenium.webdriver.remote.webelement.WebElement (session=\"06cc8a6302261622a893393474f62040\", element=\"8226fb95-7347-4a15-ac62-1362adadfeea\")>"
      ]
     },
     "execution_count": 48,
     "metadata": {},
     "output_type": "execute_result"
    }
   ],
   "source": [
    "# clicking using class name function\n",
    "search_btn=driver.find_element_by_class_name('qsbSubmit')\n",
    "search_btn"
   ]
  },
  {
   "cell_type": "code",
   "execution_count": 50,
   "id": "0cda61f8",
   "metadata": {},
   "outputs": [],
   "source": [
    "search_btn.click()"
   ]
  },
  {
   "cell_type": "code",
   "execution_count": 52,
   "id": "d430d17f",
   "metadata": {},
   "outputs": [
    {
     "data": {
      "text/plain": [
       "20"
      ]
     },
     "execution_count": 52,
     "metadata": {},
     "output_type": "execute_result"
    }
   ],
   "source": [
    "# Here extract all web elements having job_titles:\n",
    "title_tags=driver.find_elements_by_xpath('//a[@class=\"title fw500 ellipsis\"]')\n",
    "len(title_tags)"
   ]
  },
  {
   "cell_type": "code",
   "execution_count": 53,
   "id": "34671e85",
   "metadata": {},
   "outputs": [
    {
     "data": {
      "text/plain": [
       "[<selenium.webdriver.remote.webelement.WebElement (session=\"06cc8a6302261622a893393474f62040\", element=\"226c52d6-54d8-4a14-a4c1-34f31584943a\")>,\n",
       " <selenium.webdriver.remote.webelement.WebElement (session=\"06cc8a6302261622a893393474f62040\", element=\"617c78e8-5194-444a-b327-06af64a8a753\")>,\n",
       " <selenium.webdriver.remote.webelement.WebElement (session=\"06cc8a6302261622a893393474f62040\", element=\"7bd33599-fafc-4507-8fb7-fa72c47c350f\")>,\n",
       " <selenium.webdriver.remote.webelement.WebElement (session=\"06cc8a6302261622a893393474f62040\", element=\"e2cbcffc-4fbb-47dc-9d49-0a3aa39aec73\")>,\n",
       " <selenium.webdriver.remote.webelement.WebElement (session=\"06cc8a6302261622a893393474f62040\", element=\"92b34139-0789-461a-916f-59a207187bba\")>,\n",
       " <selenium.webdriver.remote.webelement.WebElement (session=\"06cc8a6302261622a893393474f62040\", element=\"b55b1ce6-682b-4c70-a0cd-0b19dbc7caba\")>,\n",
       " <selenium.webdriver.remote.webelement.WebElement (session=\"06cc8a6302261622a893393474f62040\", element=\"3872c1d6-de27-49c7-ac65-21a19361b177\")>,\n",
       " <selenium.webdriver.remote.webelement.WebElement (session=\"06cc8a6302261622a893393474f62040\", element=\"004519cb-c3b5-4ddb-b1a6-eb1965ceab71\")>,\n",
       " <selenium.webdriver.remote.webelement.WebElement (session=\"06cc8a6302261622a893393474f62040\", element=\"fc6311a1-55a1-4be3-81a0-19f7d4826b74\")>,\n",
       " <selenium.webdriver.remote.webelement.WebElement (session=\"06cc8a6302261622a893393474f62040\", element=\"1f629b0b-e7f1-4c33-b8d1-24d7a8a275eb\")>,\n",
       " <selenium.webdriver.remote.webelement.WebElement (session=\"06cc8a6302261622a893393474f62040\", element=\"589744d6-4f63-40ea-86b5-492b77b8a5e7\")>,\n",
       " <selenium.webdriver.remote.webelement.WebElement (session=\"06cc8a6302261622a893393474f62040\", element=\"6561a423-6f38-4e86-baa2-b448ceb41866\")>,\n",
       " <selenium.webdriver.remote.webelement.WebElement (session=\"06cc8a6302261622a893393474f62040\", element=\"65a8612b-e866-45d3-8ff1-d024ce0c8f7e\")>,\n",
       " <selenium.webdriver.remote.webelement.WebElement (session=\"06cc8a6302261622a893393474f62040\", element=\"9b7813f1-ede2-452d-b244-a7b6b6279777\")>,\n",
       " <selenium.webdriver.remote.webelement.WebElement (session=\"06cc8a6302261622a893393474f62040\", element=\"78a79181-c7b5-4a4b-b089-f184936371b9\")>,\n",
       " <selenium.webdriver.remote.webelement.WebElement (session=\"06cc8a6302261622a893393474f62040\", element=\"8efcb2ae-5628-4dd2-95ab-11f52501666e\")>,\n",
       " <selenium.webdriver.remote.webelement.WebElement (session=\"06cc8a6302261622a893393474f62040\", element=\"8f904d13-ff8c-49a9-9261-4445a8dc526c\")>,\n",
       " <selenium.webdriver.remote.webelement.WebElement (session=\"06cc8a6302261622a893393474f62040\", element=\"9a8eb7cd-dd55-4fa2-a473-d7a9829da463\")>,\n",
       " <selenium.webdriver.remote.webelement.WebElement (session=\"06cc8a6302261622a893393474f62040\", element=\"e75288ad-604a-4bf0-91ae-4bccf815a1b6\")>,\n",
       " <selenium.webdriver.remote.webelement.WebElement (session=\"06cc8a6302261622a893393474f62040\", element=\"e2d59192-0991-4d40-8baf-2c2f18d45d19\")>]"
      ]
     },
     "execution_count": 53,
     "metadata": {},
     "output_type": "execute_result"
    }
   ],
   "source": [
    "title_tags"
   ]
  },
  {
   "cell_type": "code",
   "execution_count": 54,
   "id": "c3172f87",
   "metadata": {},
   "outputs": [
    {
     "data": {
      "text/plain": [
       "20"
      ]
     },
     "execution_count": 54,
     "metadata": {},
     "output_type": "execute_result"
    }
   ],
   "source": [
    "job_titles=[]\n",
    "\n",
    "for i in title_tags:\n",
    "    job_titles.append(i.text)\n",
    "len(job_titles)"
   ]
  },
  {
   "cell_type": "code",
   "execution_count": 55,
   "id": "02ddcffc",
   "metadata": {},
   "outputs": [
    {
     "data": {
      "text/plain": [
       "['Data Scientist / Analyst',\n",
       " 'Senior Risk Data Scientist',\n",
       " 'Data Scientist: Advanced Analytics',\n",
       " 'Data Scientist: Advanced Analytics',\n",
       " 'Global Tax Automation & Operations / Data Scientist Advisor',\n",
       " 'Data Scientist',\n",
       " 'Data Scientist: Artificial Intelligence',\n",
       " 'Data Scientist: Artificial Intelligence',\n",
       " 'Senior Data Scientist - Advanced Analytics',\n",
       " 'Senior Data Scientist',\n",
       " 'Senior Data Scientist',\n",
       " 'Senior - Data Scientist',\n",
       " 'Sr Applied Data Scientist',\n",
       " 'Data Scientist Openings with AT&T',\n",
       " 'Lead Data Scientist required For CU Rise Analytics',\n",
       " 'Senior Data Scientist',\n",
       " 'Data Scientist - Lead / Architect - Looking For Early Joiners - Wipro',\n",
       " 'Lead Data Scientist',\n",
       " 'Staff Data Scientist',\n",
       " 'Data Scientist']"
      ]
     },
     "execution_count": 55,
     "metadata": {},
     "output_type": "execute_result"
    }
   ],
   "source": [
    "job_titles"
   ]
  },
  {
   "cell_type": "code",
   "execution_count": 56,
   "id": "d82bdb84",
   "metadata": {},
   "outputs": [
    {
     "data": {
      "text/plain": [
       "20"
      ]
     },
     "execution_count": 56,
     "metadata": {},
     "output_type": "execute_result"
    }
   ],
   "source": [
    "# Here extract all web elements having company names\n",
    "company_tags=driver.find_elements_by_xpath('//a[@class=\"subTitle ellipsis fleft\"]')\n",
    "len(company_tags)"
   ]
  },
  {
   "cell_type": "code",
   "execution_count": 57,
   "id": "09024349",
   "metadata": {},
   "outputs": [
    {
     "data": {
      "text/plain": [
       "[<selenium.webdriver.remote.webelement.WebElement (session=\"06cc8a6302261622a893393474f62040\", element=\"ca1c7f1f-6296-412e-bb7b-b4fd1aab264d\")>,\n",
       " <selenium.webdriver.remote.webelement.WebElement (session=\"06cc8a6302261622a893393474f62040\", element=\"6ea17e88-3e2e-4e85-8015-cbeb3f000d10\")>,\n",
       " <selenium.webdriver.remote.webelement.WebElement (session=\"06cc8a6302261622a893393474f62040\", element=\"946af006-c83d-48c1-93a9-9f8b775fbe73\")>,\n",
       " <selenium.webdriver.remote.webelement.WebElement (session=\"06cc8a6302261622a893393474f62040\", element=\"480fa0e6-624e-411c-98bb-a5d7bc6a9674\")>,\n",
       " <selenium.webdriver.remote.webelement.WebElement (session=\"06cc8a6302261622a893393474f62040\", element=\"0266a15b-0f6d-4aa3-b0d4-254ff4052d14\")>,\n",
       " <selenium.webdriver.remote.webelement.WebElement (session=\"06cc8a6302261622a893393474f62040\", element=\"e1d63d30-7a17-4937-abac-6c42c140ad19\")>,\n",
       " <selenium.webdriver.remote.webelement.WebElement (session=\"06cc8a6302261622a893393474f62040\", element=\"18ffe66b-93c9-479c-bb82-3aaca93acf94\")>,\n",
       " <selenium.webdriver.remote.webelement.WebElement (session=\"06cc8a6302261622a893393474f62040\", element=\"b36d599b-2f48-4c9e-a344-9e2c74683704\")>,\n",
       " <selenium.webdriver.remote.webelement.WebElement (session=\"06cc8a6302261622a893393474f62040\", element=\"95e3057b-bc8e-4d78-88c8-60948f873cf8\")>,\n",
       " <selenium.webdriver.remote.webelement.WebElement (session=\"06cc8a6302261622a893393474f62040\", element=\"33047db2-5a46-4af3-b0d4-772bf92271cd\")>,\n",
       " <selenium.webdriver.remote.webelement.WebElement (session=\"06cc8a6302261622a893393474f62040\", element=\"33e0744e-e7e7-4ebb-9373-f84d6945c5e0\")>,\n",
       " <selenium.webdriver.remote.webelement.WebElement (session=\"06cc8a6302261622a893393474f62040\", element=\"1e1f4f0b-7dc4-4dd6-ad53-7f87db5e68ad\")>,\n",
       " <selenium.webdriver.remote.webelement.WebElement (session=\"06cc8a6302261622a893393474f62040\", element=\"17b0db8a-f238-4ec7-8999-c2ae883683e1\")>,\n",
       " <selenium.webdriver.remote.webelement.WebElement (session=\"06cc8a6302261622a893393474f62040\", element=\"ca453c6a-27e4-431f-8bc9-9a518bcad31b\")>,\n",
       " <selenium.webdriver.remote.webelement.WebElement (session=\"06cc8a6302261622a893393474f62040\", element=\"a709e526-2fa9-4bf8-ac46-a306c1ab82a0\")>,\n",
       " <selenium.webdriver.remote.webelement.WebElement (session=\"06cc8a6302261622a893393474f62040\", element=\"99fdfc51-ecc5-4258-b266-4a1241bcefb9\")>,\n",
       " <selenium.webdriver.remote.webelement.WebElement (session=\"06cc8a6302261622a893393474f62040\", element=\"c04223a0-efd7-4b60-ae8b-a1315834d053\")>,\n",
       " <selenium.webdriver.remote.webelement.WebElement (session=\"06cc8a6302261622a893393474f62040\", element=\"3204c949-1b01-4ddf-a6e5-1f3ab99466e4\")>,\n",
       " <selenium.webdriver.remote.webelement.WebElement (session=\"06cc8a6302261622a893393474f62040\", element=\"e3af715a-9978-4065-8576-cbb60d720b6c\")>,\n",
       " <selenium.webdriver.remote.webelement.WebElement (session=\"06cc8a6302261622a893393474f62040\", element=\"a5b93644-38d1-465a-af8c-cd3ffb26af05\")>]"
      ]
     },
     "execution_count": 57,
     "metadata": {},
     "output_type": "execute_result"
    }
   ],
   "source": [
    "company_tags"
   ]
  },
  {
   "cell_type": "code",
   "execution_count": 58,
   "id": "e9d901c2",
   "metadata": {},
   "outputs": [
    {
     "data": {
      "text/plain": [
       "20"
      ]
     },
     "execution_count": 58,
     "metadata": {},
     "output_type": "execute_result"
    }
   ],
   "source": [
    "company_names=[]\n",
    "\n",
    "for i in company_tags:\n",
    "    company_names.append(i.text)\n",
    "len(company_names)"
   ]
  },
  {
   "cell_type": "code",
   "execution_count": 59,
   "id": "02e4f75f",
   "metadata": {},
   "outputs": [
    {
     "data": {
      "text/plain": [
       "['Talentify',\n",
       " 'GSK India',\n",
       " 'IBM',\n",
       " 'IBM',\n",
       " 'Dell',\n",
       " 'IBM',\n",
       " 'IBM',\n",
       " 'IBM',\n",
       " 'Siemens',\n",
       " 'Walmart',\n",
       " 'Spiceworks',\n",
       " 'AT and T Global Business Services India P. Ltd.',\n",
       " 'Tesco Bengaluru',\n",
       " 'AT&T',\n",
       " 'CURise Analytics Pvt. Ltd. (A Trellance Company)',\n",
       " 'Inflexon Point',\n",
       " 'Wipro',\n",
       " 'Societe Generale',\n",
       " 'Walmart',\n",
       " 'Kinara Financial Private Limited']"
      ]
     },
     "execution_count": 59,
     "metadata": {},
     "output_type": "execute_result"
    }
   ],
   "source": [
    "company_names"
   ]
  },
  {
   "cell_type": "code",
   "execution_count": 60,
   "id": "6d9965a0",
   "metadata": {},
   "outputs": [
    {
     "data": {
      "text/plain": [
       "20"
      ]
     },
     "execution_count": 60,
     "metadata": {},
     "output_type": "execute_result"
    }
   ],
   "source": [
    "# Here extract all web elements having experience\n",
    "exp_tags=driver.find_elements_by_xpath('//*[contains(@title,\"Yrs\")]')\n",
    "len(exp_tags)"
   ]
  },
  {
   "cell_type": "code",
   "execution_count": 61,
   "id": "334655d0",
   "metadata": {},
   "outputs": [
    {
     "data": {
      "text/plain": [
       "[<selenium.webdriver.remote.webelement.WebElement (session=\"06cc8a6302261622a893393474f62040\", element=\"b0007d3e-c52c-4c64-a076-0c9a7833e671\")>,\n",
       " <selenium.webdriver.remote.webelement.WebElement (session=\"06cc8a6302261622a893393474f62040\", element=\"876b9b55-58c7-47cb-bf35-28bed51a56f8\")>,\n",
       " <selenium.webdriver.remote.webelement.WebElement (session=\"06cc8a6302261622a893393474f62040\", element=\"f0fd4e7d-6a9c-4a32-9f5e-82a33d7c71ec\")>,\n",
       " <selenium.webdriver.remote.webelement.WebElement (session=\"06cc8a6302261622a893393474f62040\", element=\"738f7140-e36d-441c-b638-b2aabd25b3fd\")>,\n",
       " <selenium.webdriver.remote.webelement.WebElement (session=\"06cc8a6302261622a893393474f62040\", element=\"aa39f560-9246-4dc0-a3b2-111d9df004c6\")>,\n",
       " <selenium.webdriver.remote.webelement.WebElement (session=\"06cc8a6302261622a893393474f62040\", element=\"a2aa6f16-f2ec-4ac1-90f5-7e5a270fdd93\")>,\n",
       " <selenium.webdriver.remote.webelement.WebElement (session=\"06cc8a6302261622a893393474f62040\", element=\"efece8db-1de1-47ce-8e15-dcd9101d7b3b\")>,\n",
       " <selenium.webdriver.remote.webelement.WebElement (session=\"06cc8a6302261622a893393474f62040\", element=\"31d43709-333c-4d37-a84f-a4fdb435b536\")>,\n",
       " <selenium.webdriver.remote.webelement.WebElement (session=\"06cc8a6302261622a893393474f62040\", element=\"d07b7960-a951-4ff5-a3e7-eda6e9e8b2d5\")>,\n",
       " <selenium.webdriver.remote.webelement.WebElement (session=\"06cc8a6302261622a893393474f62040\", element=\"29af98da-66c7-4128-acff-b5f85654db02\")>,\n",
       " <selenium.webdriver.remote.webelement.WebElement (session=\"06cc8a6302261622a893393474f62040\", element=\"ba3becd1-71b3-4ed0-86be-2bc62e192c4e\")>,\n",
       " <selenium.webdriver.remote.webelement.WebElement (session=\"06cc8a6302261622a893393474f62040\", element=\"85ed0dcd-11d5-4cf8-b479-70c07b90426e\")>,\n",
       " <selenium.webdriver.remote.webelement.WebElement (session=\"06cc8a6302261622a893393474f62040\", element=\"ec53ad7c-6ccb-4f2e-9922-2a7e96d15f3c\")>,\n",
       " <selenium.webdriver.remote.webelement.WebElement (session=\"06cc8a6302261622a893393474f62040\", element=\"13a6f473-5b24-4372-8ff9-f51056c27112\")>,\n",
       " <selenium.webdriver.remote.webelement.WebElement (session=\"06cc8a6302261622a893393474f62040\", element=\"1efc5619-e271-48a9-9ff9-feba3ce16e0d\")>,\n",
       " <selenium.webdriver.remote.webelement.WebElement (session=\"06cc8a6302261622a893393474f62040\", element=\"8d281d26-bca3-4489-85c8-d1ed96cbc374\")>,\n",
       " <selenium.webdriver.remote.webelement.WebElement (session=\"06cc8a6302261622a893393474f62040\", element=\"aade4547-bdc0-4fb7-a53d-477ae8747055\")>,\n",
       " <selenium.webdriver.remote.webelement.WebElement (session=\"06cc8a6302261622a893393474f62040\", element=\"e9a10119-c39a-4d0d-84e6-dc7b587efbb2\")>,\n",
       " <selenium.webdriver.remote.webelement.WebElement (session=\"06cc8a6302261622a893393474f62040\", element=\"19fc87f7-093d-4446-8200-47c54bf8e40f\")>,\n",
       " <selenium.webdriver.remote.webelement.WebElement (session=\"06cc8a6302261622a893393474f62040\", element=\"e3ddac6e-35cc-49fc-b68e-83384d2fd6ee\")>]"
      ]
     },
     "execution_count": 61,
     "metadata": {},
     "output_type": "execute_result"
    }
   ],
   "source": [
    "exp_tags"
   ]
  },
  {
   "cell_type": "code",
   "execution_count": 62,
   "id": "572a4689",
   "metadata": {},
   "outputs": [
    {
     "data": {
      "text/plain": [
       "20"
      ]
     },
     "execution_count": 62,
     "metadata": {},
     "output_type": "execute_result"
    }
   ],
   "source": [
    "experience=[]\n",
    "\n",
    "for i in exp_tags:\n",
    "    experience.append(i.text)\n",
    "len(experience)"
   ]
  },
  {
   "cell_type": "code",
   "execution_count": 63,
   "id": "0cee2437",
   "metadata": {},
   "outputs": [
    {
     "data": {
      "text/plain": [
       "['0-1 Yrs',\n",
       " '5-10 Yrs',\n",
       " '5-10 Yrs',\n",
       " '5-10 Yrs',\n",
       " '5-7 Yrs',\n",
       " '3-4 Yrs',\n",
       " '12-15 Yrs',\n",
       " '3-7 Yrs',\n",
       " '3-8 Yrs',\n",
       " '5-9 Yrs',\n",
       " '5-9 Yrs',\n",
       " '8-10 Yrs',\n",
       " '3-6 Yrs',\n",
       " '10-15 Yrs',\n",
       " '5-10 Yrs',\n",
       " '5-10 Yrs',\n",
       " '5-10 Yrs',\n",
       " '4-9 Yrs',\n",
       " '4-8 Yrs',\n",
       " '3-8 Yrs']"
      ]
     },
     "execution_count": 63,
     "metadata": {},
     "output_type": "execute_result"
    }
   ],
   "source": [
    "experience"
   ]
  },
  {
   "cell_type": "code",
   "execution_count": 64,
   "id": "a2e91e7a",
   "metadata": {},
   "outputs": [
    {
     "data": {
      "text/plain": [
       "20"
      ]
     },
     "execution_count": 64,
     "metadata": {},
     "output_type": "execute_result"
    }
   ],
   "source": [
    "# Here extract all web elements having locations\n",
    "locn_tags=driver.find_elements_by_xpath('//li[@class=\"fleft grey-text br2 placeHolderLi location\"]')\n",
    "len(locn_tags)"
   ]
  },
  {
   "cell_type": "code",
   "execution_count": 65,
   "id": "228bcae6",
   "metadata": {},
   "outputs": [
    {
     "data": {
      "text/plain": [
       "[<selenium.webdriver.remote.webelement.WebElement (session=\"06cc8a6302261622a893393474f62040\", element=\"34755b17-1fd3-481e-8b00-35934d3dbfbe\")>,\n",
       " <selenium.webdriver.remote.webelement.WebElement (session=\"06cc8a6302261622a893393474f62040\", element=\"b799c7f9-4a52-4e42-8338-7ec9e59c0f4d\")>,\n",
       " <selenium.webdriver.remote.webelement.WebElement (session=\"06cc8a6302261622a893393474f62040\", element=\"2c7595b8-acaa-4eb4-835e-341fa89ace00\")>,\n",
       " <selenium.webdriver.remote.webelement.WebElement (session=\"06cc8a6302261622a893393474f62040\", element=\"e04ac657-88a4-40db-a388-a20115f25fed\")>,\n",
       " <selenium.webdriver.remote.webelement.WebElement (session=\"06cc8a6302261622a893393474f62040\", element=\"7949cd95-0173-4548-93f1-d92de6539233\")>,\n",
       " <selenium.webdriver.remote.webelement.WebElement (session=\"06cc8a6302261622a893393474f62040\", element=\"b2a262e0-250d-4400-92d1-f76d87c3760d\")>,\n",
       " <selenium.webdriver.remote.webelement.WebElement (session=\"06cc8a6302261622a893393474f62040\", element=\"cd96e499-22c6-44be-aff3-6244051cc235\")>,\n",
       " <selenium.webdriver.remote.webelement.WebElement (session=\"06cc8a6302261622a893393474f62040\", element=\"9f31dff9-4191-4a0f-9fa7-7ac6a64e88dd\")>,\n",
       " <selenium.webdriver.remote.webelement.WebElement (session=\"06cc8a6302261622a893393474f62040\", element=\"fa15160d-c0a5-4fdb-947b-37f72386c9a8\")>,\n",
       " <selenium.webdriver.remote.webelement.WebElement (session=\"06cc8a6302261622a893393474f62040\", element=\"d44ce35c-6094-471e-befc-b5a2642c4441\")>,\n",
       " <selenium.webdriver.remote.webelement.WebElement (session=\"06cc8a6302261622a893393474f62040\", element=\"ff58ce23-a3e2-4595-952f-ef54150164dc\")>,\n",
       " <selenium.webdriver.remote.webelement.WebElement (session=\"06cc8a6302261622a893393474f62040\", element=\"58b4d715-e56f-4bdf-abb5-8edce7090a43\")>,\n",
       " <selenium.webdriver.remote.webelement.WebElement (session=\"06cc8a6302261622a893393474f62040\", element=\"954be69b-3aeb-4d13-8e03-710f72bd8a1c\")>,\n",
       " <selenium.webdriver.remote.webelement.WebElement (session=\"06cc8a6302261622a893393474f62040\", element=\"cc0e1493-5c9e-4f19-b3b2-71ef1c0e86c2\")>,\n",
       " <selenium.webdriver.remote.webelement.WebElement (session=\"06cc8a6302261622a893393474f62040\", element=\"89992a84-316d-4c8a-9f7f-6619959656a7\")>,\n",
       " <selenium.webdriver.remote.webelement.WebElement (session=\"06cc8a6302261622a893393474f62040\", element=\"4d4099ae-5a1c-4b78-ba5a-df946bd129fc\")>,\n",
       " <selenium.webdriver.remote.webelement.WebElement (session=\"06cc8a6302261622a893393474f62040\", element=\"333750d1-9fb1-43e4-baee-757cbb1e5621\")>,\n",
       " <selenium.webdriver.remote.webelement.WebElement (session=\"06cc8a6302261622a893393474f62040\", element=\"3f1f2a19-07f4-40cc-8ad4-cbded0c9e7dd\")>,\n",
       " <selenium.webdriver.remote.webelement.WebElement (session=\"06cc8a6302261622a893393474f62040\", element=\"13c344ca-df61-439b-b631-1fa707a917f8\")>,\n",
       " <selenium.webdriver.remote.webelement.WebElement (session=\"06cc8a6302261622a893393474f62040\", element=\"ac8b6f8d-ff68-4034-8cb9-d377c2d48e72\")>]"
      ]
     },
     "execution_count": 65,
     "metadata": {},
     "output_type": "execute_result"
    }
   ],
   "source": [
    "locn_tags"
   ]
  },
  {
   "cell_type": "code",
   "execution_count": 66,
   "id": "976e4491",
   "metadata": {},
   "outputs": [
    {
     "data": {
      "text/plain": [
       "20"
      ]
     },
     "execution_count": 66,
     "metadata": {},
     "output_type": "execute_result"
    }
   ],
   "source": [
    "locations=[]\n",
    "\n",
    "for i in locn_tags:\n",
    "    locations.append(i.text)\n",
    "len(locations)"
   ]
  },
  {
   "cell_type": "code",
   "execution_count": 67,
   "id": "24ed27d2",
   "metadata": {},
   "outputs": [
    {
     "data": {
      "text/plain": [
       "['Hyderabad/Secunderabad, Bangalore/Bengaluru, Delhi / NCR',\n",
       " 'Bangalore/Bengaluru',\n",
       " 'Bangalore/Bengaluru',\n",
       " 'Bangalore/Bengaluru',\n",
       " 'Bangalore/Bengaluru',\n",
       " 'Bangalore/Bengaluru',\n",
       " 'Bangalore/Bengaluru',\n",
       " 'Bangalore/Bengaluru',\n",
       " 'Bangalore/Bengaluru',\n",
       " 'Bangalore/Bengaluru',\n",
       " 'Bangalore/Bengaluru',\n",
       " 'Bangalore/Bengaluru',\n",
       " 'Bangalore/Bengaluru',\n",
       " 'Bangalore/Bengaluru(Whitefield)',\n",
       " 'Ahmedabad, Bangalore/Bengaluru',\n",
       " 'Bangalore/Bengaluru',\n",
       " 'Kochi/Cochin, Kolkata, Pune, Gurgaon/Gurugram, Chennai, Coimbatore, Bangalore/Bengaluru, Mumbai (All Areas), Hyderabad',\n",
       " 'Bangalore/Bengaluru',\n",
       " 'Bangalore/Bengaluru',\n",
       " 'Bangalore/Bengaluru']"
      ]
     },
     "execution_count": 67,
     "metadata": {},
     "output_type": "execute_result"
    }
   ],
   "source": [
    "locations"
   ]
  },
  {
   "cell_type": "code",
   "execution_count": 68,
   "id": "ef88e072",
   "metadata": {},
   "outputs": [
    {
     "data": {
      "text/plain": [
       "20"
      ]
     },
     "execution_count": 68,
     "metadata": {},
     "output_type": "execute_result"
    }
   ],
   "source": [
    "# Here extract all web elements having salary\n",
    "sal=driver.find_elements_by_xpath('//li[@class=\"fleft grey-text br2 placeHolderLi salary\"]')\n",
    "len(sal)"
   ]
  },
  {
   "cell_type": "code",
   "execution_count": 69,
   "id": "42e101e3",
   "metadata": {},
   "outputs": [
    {
     "data": {
      "text/plain": [
       "[<selenium.webdriver.remote.webelement.WebElement (session=\"06cc8a6302261622a893393474f62040\", element=\"6b757f65-a8aa-44c6-bdbf-733c3d74dc9f\")>,\n",
       " <selenium.webdriver.remote.webelement.WebElement (session=\"06cc8a6302261622a893393474f62040\", element=\"943b37f9-a28a-483c-9101-e1ea8fa472b9\")>,\n",
       " <selenium.webdriver.remote.webelement.WebElement (session=\"06cc8a6302261622a893393474f62040\", element=\"f1baad9a-4fbe-44f0-8eb2-2ee45983eddf\")>,\n",
       " <selenium.webdriver.remote.webelement.WebElement (session=\"06cc8a6302261622a893393474f62040\", element=\"8bcc1a8e-de48-466d-b6bd-f24d8518419c\")>,\n",
       " <selenium.webdriver.remote.webelement.WebElement (session=\"06cc8a6302261622a893393474f62040\", element=\"fe795896-9c1a-430f-a3f9-3f24207bee58\")>,\n",
       " <selenium.webdriver.remote.webelement.WebElement (session=\"06cc8a6302261622a893393474f62040\", element=\"20be6b1d-4edd-44ef-b875-96d3044c430b\")>,\n",
       " <selenium.webdriver.remote.webelement.WebElement (session=\"06cc8a6302261622a893393474f62040\", element=\"52c624d4-6b36-4dd5-ab72-9e685f817a92\")>,\n",
       " <selenium.webdriver.remote.webelement.WebElement (session=\"06cc8a6302261622a893393474f62040\", element=\"6337ebc0-d8a8-4cab-a70e-a6f836a6d97f\")>,\n",
       " <selenium.webdriver.remote.webelement.WebElement (session=\"06cc8a6302261622a893393474f62040\", element=\"1c0095a0-4c42-46c4-8632-3a2cd7c512f3\")>,\n",
       " <selenium.webdriver.remote.webelement.WebElement (session=\"06cc8a6302261622a893393474f62040\", element=\"60923bce-608c-47f7-8d7d-bfb95e24333b\")>,\n",
       " <selenium.webdriver.remote.webelement.WebElement (session=\"06cc8a6302261622a893393474f62040\", element=\"168758bb-1b6b-407a-be4e-881029c18fa4\")>,\n",
       " <selenium.webdriver.remote.webelement.WebElement (session=\"06cc8a6302261622a893393474f62040\", element=\"f959cd9f-8360-4c35-890e-0c0e1b711fd4\")>,\n",
       " <selenium.webdriver.remote.webelement.WebElement (session=\"06cc8a6302261622a893393474f62040\", element=\"f22d3287-eeba-4a44-a3c7-c9fa9b8e69b0\")>,\n",
       " <selenium.webdriver.remote.webelement.WebElement (session=\"06cc8a6302261622a893393474f62040\", element=\"e2a57d73-fda9-4b81-ba0c-7caa78979468\")>,\n",
       " <selenium.webdriver.remote.webelement.WebElement (session=\"06cc8a6302261622a893393474f62040\", element=\"0af1369d-ed43-4aa6-8b4a-8b45de1636ea\")>,\n",
       " <selenium.webdriver.remote.webelement.WebElement (session=\"06cc8a6302261622a893393474f62040\", element=\"00f21f84-c339-41d9-914f-9b6ef80b74d9\")>,\n",
       " <selenium.webdriver.remote.webelement.WebElement (session=\"06cc8a6302261622a893393474f62040\", element=\"c30022dd-690f-4dd9-a3f0-b298415d276b\")>,\n",
       " <selenium.webdriver.remote.webelement.WebElement (session=\"06cc8a6302261622a893393474f62040\", element=\"c4712db0-1fe1-4ccc-865e-29da9ad1ad3d\")>,\n",
       " <selenium.webdriver.remote.webelement.WebElement (session=\"06cc8a6302261622a893393474f62040\", element=\"5e724f31-b429-412c-a119-f992dc590218\")>,\n",
       " <selenium.webdriver.remote.webelement.WebElement (session=\"06cc8a6302261622a893393474f62040\", element=\"776719d5-b2f1-41f3-a0d2-5a4e47514beb\")>]"
      ]
     },
     "execution_count": 69,
     "metadata": {},
     "output_type": "execute_result"
    }
   ],
   "source": [
    "sal"
   ]
  },
  {
   "cell_type": "code",
   "execution_count": 70,
   "id": "d0d32934",
   "metadata": {},
   "outputs": [
    {
     "data": {
      "text/plain": [
       "20"
      ]
     },
     "execution_count": 70,
     "metadata": {},
     "output_type": "execute_result"
    }
   ],
   "source": [
    "salary=[]\n",
    "\n",
    "for i in sal:\n",
    "    salary.append(i.text)\n",
    "len(salary)"
   ]
  },
  {
   "cell_type": "code",
   "execution_count": 71,
   "id": "690eeb94",
   "metadata": {},
   "outputs": [
    {
     "data": {
      "text/plain": [
       "['65,00,000 - 1 Cr and above PA.',\n",
       " 'Not disclosed',\n",
       " 'Not disclosed',\n",
       " 'Not disclosed',\n",
       " 'Not disclosed',\n",
       " 'Not disclosed',\n",
       " 'Not disclosed',\n",
       " 'Not disclosed',\n",
       " 'Not disclosed',\n",
       " 'Not disclosed',\n",
       " 'Not disclosed',\n",
       " 'Not disclosed',\n",
       " 'Not disclosed',\n",
       " 'Not disclosed',\n",
       " 'Not disclosed',\n",
       " 'Not disclosed',\n",
       " 'Not disclosed',\n",
       " 'Not disclosed',\n",
       " 'Not disclosed',\n",
       " 'Not disclosed']"
      ]
     },
     "execution_count": 71,
     "metadata": {},
     "output_type": "execute_result"
    }
   ],
   "source": [
    "salary"
   ]
  },
  {
   "cell_type": "code",
   "execution_count": 72,
   "id": "6edaafff",
   "metadata": {},
   "outputs": [
    {
     "data": {
      "text/plain": [
       "(20, 20, 20, 20, 20)"
      ]
     },
     "execution_count": 72,
     "metadata": {},
     "output_type": "execute_result"
    }
   ],
   "source": [
    "# Finally create a dataframe of the scraped data\n",
    "len(job_titles),len(company_names),len(experience),len(locations),len(salary)"
   ]
  },
  {
   "cell_type": "code",
   "execution_count": 73,
   "id": "6e95705b",
   "metadata": {},
   "outputs": [
    {
     "data": {
      "text/html": [
       "<div>\n",
       "<style scoped>\n",
       "    .dataframe tbody tr th:only-of-type {\n",
       "        vertical-align: middle;\n",
       "    }\n",
       "\n",
       "    .dataframe tbody tr th {\n",
       "        vertical-align: top;\n",
       "    }\n",
       "\n",
       "    .dataframe thead th {\n",
       "        text-align: right;\n",
       "    }\n",
       "</style>\n",
       "<table border=\"1\" class=\"dataframe\">\n",
       "  <thead>\n",
       "    <tr style=\"text-align: right;\">\n",
       "      <th></th>\n",
       "      <th>job_titles</th>\n",
       "      <th>company_names</th>\n",
       "      <th>experience</th>\n",
       "      <th>locations</th>\n",
       "      <th>salary</th>\n",
       "    </tr>\n",
       "  </thead>\n",
       "  <tbody>\n",
       "    <tr>\n",
       "      <th>0</th>\n",
       "      <td>Data Scientist / Analyst</td>\n",
       "      <td>Talentify</td>\n",
       "      <td>0-1 Yrs</td>\n",
       "      <td>Hyderabad/Secunderabad, Bangalore/Bengaluru, D...</td>\n",
       "      <td>65,00,000 - 1 Cr and above PA.</td>\n",
       "    </tr>\n",
       "    <tr>\n",
       "      <th>1</th>\n",
       "      <td>Senior Risk Data Scientist</td>\n",
       "      <td>GSK India</td>\n",
       "      <td>5-10 Yrs</td>\n",
       "      <td>Bangalore/Bengaluru</td>\n",
       "      <td>Not disclosed</td>\n",
       "    </tr>\n",
       "    <tr>\n",
       "      <th>2</th>\n",
       "      <td>Data Scientist: Advanced Analytics</td>\n",
       "      <td>IBM</td>\n",
       "      <td>5-10 Yrs</td>\n",
       "      <td>Bangalore/Bengaluru</td>\n",
       "      <td>Not disclosed</td>\n",
       "    </tr>\n",
       "    <tr>\n",
       "      <th>3</th>\n",
       "      <td>Data Scientist: Advanced Analytics</td>\n",
       "      <td>IBM</td>\n",
       "      <td>5-10 Yrs</td>\n",
       "      <td>Bangalore/Bengaluru</td>\n",
       "      <td>Not disclosed</td>\n",
       "    </tr>\n",
       "    <tr>\n",
       "      <th>4</th>\n",
       "      <td>Global Tax Automation &amp; Operations / Data Scie...</td>\n",
       "      <td>Dell</td>\n",
       "      <td>5-7 Yrs</td>\n",
       "      <td>Bangalore/Bengaluru</td>\n",
       "      <td>Not disclosed</td>\n",
       "    </tr>\n",
       "    <tr>\n",
       "      <th>5</th>\n",
       "      <td>Data Scientist</td>\n",
       "      <td>IBM</td>\n",
       "      <td>3-4 Yrs</td>\n",
       "      <td>Bangalore/Bengaluru</td>\n",
       "      <td>Not disclosed</td>\n",
       "    </tr>\n",
       "    <tr>\n",
       "      <th>6</th>\n",
       "      <td>Data Scientist: Artificial Intelligence</td>\n",
       "      <td>IBM</td>\n",
       "      <td>12-15 Yrs</td>\n",
       "      <td>Bangalore/Bengaluru</td>\n",
       "      <td>Not disclosed</td>\n",
       "    </tr>\n",
       "    <tr>\n",
       "      <th>7</th>\n",
       "      <td>Data Scientist: Artificial Intelligence</td>\n",
       "      <td>IBM</td>\n",
       "      <td>3-7 Yrs</td>\n",
       "      <td>Bangalore/Bengaluru</td>\n",
       "      <td>Not disclosed</td>\n",
       "    </tr>\n",
       "    <tr>\n",
       "      <th>8</th>\n",
       "      <td>Senior Data Scientist - Advanced Analytics</td>\n",
       "      <td>Siemens</td>\n",
       "      <td>3-8 Yrs</td>\n",
       "      <td>Bangalore/Bengaluru</td>\n",
       "      <td>Not disclosed</td>\n",
       "    </tr>\n",
       "    <tr>\n",
       "      <th>9</th>\n",
       "      <td>Senior Data Scientist</td>\n",
       "      <td>Walmart</td>\n",
       "      <td>5-9 Yrs</td>\n",
       "      <td>Bangalore/Bengaluru</td>\n",
       "      <td>Not disclosed</td>\n",
       "    </tr>\n",
       "  </tbody>\n",
       "</table>\n",
       "</div>"
      ],
      "text/plain": [
       "                                          job_titles company_names experience  \\\n",
       "0                           Data Scientist / Analyst     Talentify    0-1 Yrs   \n",
       "1                         Senior Risk Data Scientist     GSK India   5-10 Yrs   \n",
       "2                 Data Scientist: Advanced Analytics           IBM   5-10 Yrs   \n",
       "3                 Data Scientist: Advanced Analytics           IBM   5-10 Yrs   \n",
       "4  Global Tax Automation & Operations / Data Scie...          Dell    5-7 Yrs   \n",
       "5                                     Data Scientist           IBM    3-4 Yrs   \n",
       "6            Data Scientist: Artificial Intelligence           IBM  12-15 Yrs   \n",
       "7            Data Scientist: Artificial Intelligence           IBM    3-7 Yrs   \n",
       "8         Senior Data Scientist - Advanced Analytics       Siemens    3-8 Yrs   \n",
       "9                              Senior Data Scientist       Walmart    5-9 Yrs   \n",
       "\n",
       "                                           locations  \\\n",
       "0  Hyderabad/Secunderabad, Bangalore/Bengaluru, D...   \n",
       "1                                Bangalore/Bengaluru   \n",
       "2                                Bangalore/Bengaluru   \n",
       "3                                Bangalore/Bengaluru   \n",
       "4                                Bangalore/Bengaluru   \n",
       "5                                Bangalore/Bengaluru   \n",
       "6                                Bangalore/Bengaluru   \n",
       "7                                Bangalore/Bengaluru   \n",
       "8                                Bangalore/Bengaluru   \n",
       "9                                Bangalore/Bengaluru   \n",
       "\n",
       "                           salary  \n",
       "0  65,00,000 - 1 Cr and above PA.  \n",
       "1                   Not disclosed  \n",
       "2                   Not disclosed  \n",
       "3                   Not disclosed  \n",
       "4                   Not disclosed  \n",
       "5                   Not disclosed  \n",
       "6                   Not disclosed  \n",
       "7                   Not disclosed  \n",
       "8                   Not disclosed  \n",
       "9                   Not disclosed  "
      ]
     },
     "execution_count": 73,
     "metadata": {},
     "output_type": "execute_result"
    }
   ],
   "source": [
    "jobs=pd.DataFrame()\n",
    "jobs['job_titles']=job_titles\n",
    "jobs['company_names']=company_names\n",
    "jobs['experience']=experience\n",
    "jobs['locations']=locations\n",
    "jobs['salary']=salary\n",
    "jobs.head(10)"
   ]
  },
  {
   "cell_type": "markdown",
   "id": "e78e1e96",
   "metadata": {},
   "source": [
    "#### Q3:In this question you have to scrape data using the filters available on the webpage as shown below:\n",
    "    a.scrape data for “Data Scientist” designation for first 10 job results\n",
    "    b.scrape the job-title, job-location, company name, experience required \n",
    "    The location filter to be used is “Delhi/NCR”. The salary filter to be used is “3-6” lakhs"
   ]
  },
  {
   "cell_type": "code",
   "execution_count": 105,
   "id": "2ffe1149",
   "metadata": {},
   "outputs": [],
   "source": [
    "import selenium\n",
    "from selenium import webdriver\n",
    "import pandas as pd\n",
    "import warnings\n",
    "warnings.filterwarnings('ignore')"
   ]
  },
  {
   "cell_type": "code",
   "execution_count": 106,
   "id": "9ae91880",
   "metadata": {},
   "outputs": [],
   "source": [
    "# first connect to web driver\n",
    "driver = webdriver.Chrome(r'c:\\Users\\Bawla Singh.DESKTOP-KT1PI9D\\Desktop\\chromedriver.exe')"
   ]
  },
  {
   "cell_type": "code",
   "execution_count": 107,
   "id": "14561545",
   "metadata": {},
   "outputs": [],
   "source": [
    "driver=webdriver.Chrome('chromedriver.exe')"
   ]
  },
  {
   "cell_type": "code",
   "execution_count": 108,
   "id": "01ceb5e3",
   "metadata": {},
   "outputs": [],
   "source": [
    "url='https://www.naukri.com/'\n",
    "driver.get(url)"
   ]
  },
  {
   "cell_type": "code",
   "execution_count": 109,
   "id": "685e4823",
   "metadata": {},
   "outputs": [
    {
     "data": {
      "text/plain": [
       "<selenium.webdriver.remote.webelement.WebElement (session=\"3d3dc5b6128056e63bffcc761c612ede\", element=\"e31eca9a-7d9e-4acb-8bff-67d02d8caa01\")>"
      ]
     },
     "execution_count": 109,
     "metadata": {},
     "output_type": "execute_result"
    }
   ],
   "source": [
    "# finding web element for search job bar using class name\n",
    "job=driver.find_element_by_class_name('suggestor-input')\n",
    "job"
   ]
  },
  {
   "cell_type": "code",
   "execution_count": 110,
   "id": "6993c7f9",
   "metadata": {},
   "outputs": [],
   "source": [
    "job.send_keys('Data Scientist')"
   ]
  },
  {
   "cell_type": "code",
   "execution_count": 111,
   "id": "3452a09d",
   "metadata": {},
   "outputs": [
    {
     "data": {
      "text/plain": [
       "<selenium.webdriver.remote.webelement.WebElement (session=\"3d3dc5b6128056e63bffcc761c612ede\", element=\"acc6ee66-b410-4fc5-9477-25adddaefaaa\")>"
      ]
     },
     "execution_count": 111,
     "metadata": {},
     "output_type": "execute_result"
    }
   ],
   "source": [
    "# finding web element for search location bar using class name\n",
    "locn=driver.find_element_by_xpath('/html/body/div/div[2]/div[3]/div/div/div[3]/div/div/div/input')\n",
    "locn"
   ]
  },
  {
   "cell_type": "code",
   "execution_count": 112,
   "id": "f9759da4",
   "metadata": {},
   "outputs": [],
   "source": [
    "#finding web element for job location bar\n",
    "locn.send_keys('Delhi/NCR')"
   ]
  },
  {
   "cell_type": "code",
   "execution_count": 113,
   "id": "66fe21ae",
   "metadata": {},
   "outputs": [
    {
     "data": {
      "text/plain": [
       "<selenium.webdriver.remote.webelement.WebElement (session=\"3d3dc5b6128056e63bffcc761c612ede\", element=\"4b1662c1-02b4-4f00-88cf-568f3e83eccc\")>"
      ]
     },
     "execution_count": 113,
     "metadata": {},
     "output_type": "execute_result"
    }
   ],
   "source": [
    "# clicking using class name function clicking for search bar\n",
    "search_btn=driver.find_element_by_class_name('qsbSubmit')\n",
    "search_btn"
   ]
  },
  {
   "cell_type": "code",
   "execution_count": 114,
   "id": "9079b1e0",
   "metadata": {},
   "outputs": [],
   "source": [
    "search_btn.click()"
   ]
  },
  {
   "cell_type": "code",
   "execution_count": 115,
   "id": "8a9eaed8",
   "metadata": {},
   "outputs": [],
   "source": [
    "salary_check=driver.find_element_by_xpath(\"/html/body/div[1]/div[3]/div[2]/section[1]/div[2]/div[4]/div[2]/div[2]/label/i\")"
   ]
  },
  {
   "cell_type": "code",
   "execution_count": 116,
   "id": "e51daf22",
   "metadata": {},
   "outputs": [],
   "source": [
    "salary_check.click()"
   ]
  },
  {
   "cell_type": "code",
   "execution_count": 236,
   "id": "59d0f706",
   "metadata": {},
   "outputs": [
    {
     "data": {
      "text/plain": [
       "20"
      ]
     },
     "execution_count": 236,
     "metadata": {},
     "output_type": "execute_result"
    }
   ],
   "source": [
    "# Here extract all web elements having job_titles:\n",
    "title_tags=driver.find_elements_by_xpath('//a[@class=\"title fw500 ellipsis\"]')\n",
    "len(title_tags)"
   ]
  },
  {
   "cell_type": "code",
   "execution_count": 237,
   "id": "12a3f2b5",
   "metadata": {},
   "outputs": [
    {
     "data": {
      "text/plain": [
       "20"
      ]
     },
     "execution_count": 237,
     "metadata": {},
     "output_type": "execute_result"
    }
   ],
   "source": [
    "job_titles=[]\n",
    "\n",
    "for i in title_tags:\n",
    "    job_titles.append(i.text)\n",
    "len(job_titles)"
   ]
  },
  {
   "cell_type": "code",
   "execution_count": 238,
   "id": "c3f7a549",
   "metadata": {},
   "outputs": [
    {
     "data": {
      "text/plain": [
       "['Data Scientist II',\n",
       " 'Opening For Data Scientist',\n",
       " 'Data Scientist',\n",
       " 'Lead Data Scientist - KYC/Fraud/Marketing',\n",
       " 'Junior Data Scientist - Goods & Service Tax Network, Delhi',\n",
       " 'Data Analyst / Data Scientist / Business Analytics / Fresher - MNC',\n",
       " 'Associate Data Scientist - Java/ Scala/ Apache Server',\n",
       " 'Data Scientist',\n",
       " 'Data Scientist',\n",
       " 'Data Scientist (ML AI Engineer) / InfoObjects Inc.',\n",
       " 'Data Scientist / Senior DS/ Team Lead',\n",
       " 'Data Scientist | Python | Machine Learning | Deep Learning- Fresher',\n",
       " 'Data Scientist (freelance)',\n",
       " 'Urgent Requirement || Data Scientist || Noida',\n",
       " 'Senior Data Scientist',\n",
       " 'Data Scientist',\n",
       " 'Data Scientist',\n",
       " 'Data Scientist',\n",
       " 'Data Scientist',\n",
       " 'Data Scientist']"
      ]
     },
     "execution_count": 238,
     "metadata": {},
     "output_type": "execute_result"
    }
   ],
   "source": [
    "job_titles"
   ]
  },
  {
   "cell_type": "code",
   "execution_count": 239,
   "id": "bb830d84",
   "metadata": {},
   "outputs": [
    {
     "data": {
      "text/plain": [
       "20"
      ]
     },
     "execution_count": 239,
     "metadata": {},
     "output_type": "execute_result"
    }
   ],
   "source": [
    "# Here extract all web elements having locations\n",
    "locn_tags=driver.find_elements_by_xpath('//li[@class=\"fleft grey-text br2 placeHolderLi location\"]')\n",
    "len(locn_tags)"
   ]
  },
  {
   "cell_type": "code",
   "execution_count": 240,
   "id": "95a8601b",
   "metadata": {},
   "outputs": [
    {
     "data": {
      "text/plain": [
       "20"
      ]
     },
     "execution_count": 240,
     "metadata": {},
     "output_type": "execute_result"
    }
   ],
   "source": [
    "locations=[]\n",
    "\n",
    "for i in locn_tags:\n",
    "    locations.append(i.text)\n",
    "len(locations)"
   ]
  },
  {
   "cell_type": "code",
   "execution_count": 241,
   "id": "517b58ef",
   "metadata": {},
   "outputs": [
    {
     "data": {
      "text/plain": [
       "['Delhi / NCR',\n",
       " 'Gurgaon/Gurugram',\n",
       " 'Noida',\n",
       " 'New Delhi',\n",
       " 'Delhi / NCR',\n",
       " 'Noida, New Delhi, Delhi / NCR',\n",
       " 'Noida',\n",
       " 'Gurgaon/Gurugram\\n(WFH during Covid)',\n",
       " 'New Delhi',\n",
       " 'Indore, Jaipur, Delhi / NCR\\n(WFH during Covid)',\n",
       " 'Mumbai, Gurgaon/Gurugram(Cyber City +1)',\n",
       " 'Noida, Gurgaon/Gurugram, Delhi / NCR',\n",
       " 'Gurgaon/Gurugram',\n",
       " 'Noida, Delhi / NCR',\n",
       " 'Delhi',\n",
       " 'New Delhi',\n",
       " 'Gurgaon, Bengaluru',\n",
       " 'Bharuch, Jaipur, Bhopal, Mumbai, Jhansi, Nagpur, Ghaziabad, Jaunpur, Kanpur, Delhi, Lucknow, Agra, Gurgaon, Rajkot, Bengaluru',\n",
       " 'Delhi',\n",
       " 'Delhi']"
      ]
     },
     "execution_count": 241,
     "metadata": {},
     "output_type": "execute_result"
    }
   ],
   "source": [
    "locations"
   ]
  },
  {
   "cell_type": "code",
   "execution_count": 242,
   "id": "85617101",
   "metadata": {},
   "outputs": [
    {
     "data": {
      "text/plain": [
       "20"
      ]
     },
     "execution_count": 242,
     "metadata": {},
     "output_type": "execute_result"
    }
   ],
   "source": [
    "# Here extract all web elements having experience\n",
    "exp_tags=driver.find_elements_by_xpath('//*[contains(@title,\"Yrs\")]')\n",
    "len(exp_tags)"
   ]
  },
  {
   "cell_type": "code",
   "execution_count": 243,
   "id": "6f28b1c0",
   "metadata": {},
   "outputs": [
    {
     "data": {
      "text/plain": [
       "20"
      ]
     },
     "execution_count": 243,
     "metadata": {},
     "output_type": "execute_result"
    }
   ],
   "source": [
    "experience=[]\n",
    "\n",
    "for i in exp_tags:\n",
    "    experience.append(i.text)\n",
    "len(experience)"
   ]
  },
  {
   "cell_type": "code",
   "execution_count": 244,
   "id": "8594cf22",
   "metadata": {},
   "outputs": [
    {
     "data": {
      "text/plain": [
       "['2-6 Yrs',\n",
       " '1-5 Yrs',\n",
       " '3-8 Yrs',\n",
       " '1-6 Yrs',\n",
       " '3-8 Yrs',\n",
       " '0-0 Yrs',\n",
       " '1-4 Yrs',\n",
       " '5-8 Yrs',\n",
       " '2-6 Yrs',\n",
       " '3-7 Yrs',\n",
       " '0-4 Yrs',\n",
       " '0-3 Yrs',\n",
       " '3-8 Yrs',\n",
       " '3-8 Yrs',\n",
       " '1-5 Yrs',\n",
       " '2-5 Yrs',\n",
       " '3-7 Yrs',\n",
       " '1-3 Yrs',\n",
       " '2-6 Yrs',\n",
       " '2-6 Yrs']"
      ]
     },
     "execution_count": 244,
     "metadata": {},
     "output_type": "execute_result"
    }
   ],
   "source": [
    "experience"
   ]
  },
  {
   "cell_type": "code",
   "execution_count": 245,
   "id": "8eff8921",
   "metadata": {},
   "outputs": [
    {
     "data": {
      "text/plain": [
       "20"
      ]
     },
     "execution_count": 245,
     "metadata": {},
     "output_type": "execute_result"
    }
   ],
   "source": [
    "# Here extract all web elements having salary\n",
    "sal=driver.find_elements_by_xpath('//li[@class=\"fleft grey-text br2 placeHolderLi salary\"]')\n",
    "len(sal)"
   ]
  },
  {
   "cell_type": "code",
   "execution_count": 246,
   "id": "48397ed5",
   "metadata": {},
   "outputs": [
    {
     "data": {
      "text/plain": [
       "20"
      ]
     },
     "execution_count": 246,
     "metadata": {},
     "output_type": "execute_result"
    }
   ],
   "source": [
    "salary=[]\n",
    "\n",
    "for i in sal:\n",
    "    salary.append(i.text)\n",
    "len(salary)"
   ]
  },
  {
   "cell_type": "code",
   "execution_count": 247,
   "id": "2d83a97c",
   "metadata": {},
   "outputs": [
    {
     "data": {
      "text/plain": [
       "['5,50,000 - 15,00,000 PA.',\n",
       " '3,00,000 - 7,00,000 PA.',\n",
       " 'Not disclosed',\n",
       " 'Not disclosed',\n",
       " 'Not disclosed',\n",
       " '2,25,000 - 4,75,000 PA.',\n",
       " 'Not disclosed',\n",
       " 'Not disclosed',\n",
       " 'Not disclosed',\n",
       " 'Not disclosed',\n",
       " 'Not disclosed',\n",
       " 'Not disclosed',\n",
       " '4,75,000 - 9,75,000 PA.',\n",
       " 'Not disclosed',\n",
       " 'Not disclosed',\n",
       " 'Not disclosed',\n",
       " 'Not disclosed',\n",
       " 'Not disclosed',\n",
       " 'Not disclosed',\n",
       " 'Not disclosed']"
      ]
     },
     "execution_count": 247,
     "metadata": {},
     "output_type": "execute_result"
    }
   ],
   "source": [
    "salary"
   ]
  },
  {
   "cell_type": "code",
   "execution_count": 248,
   "id": "e36169ab",
   "metadata": {},
   "outputs": [
    {
     "data": {
      "text/plain": [
       "20"
      ]
     },
     "execution_count": 248,
     "metadata": {},
     "output_type": "execute_result"
    }
   ],
   "source": [
    "# Here extract all web elements having company names\n",
    "company_tags=driver.find_elements_by_xpath('//a[@class=\"subTitle ellipsis fleft\"]')\n",
    "len(company_tags)"
   ]
  },
  {
   "cell_type": "code",
   "execution_count": 249,
   "id": "53083079",
   "metadata": {},
   "outputs": [
    {
     "data": {
      "text/plain": [
       "20"
      ]
     },
     "execution_count": 249,
     "metadata": {},
     "output_type": "execute_result"
    }
   ],
   "source": [
    "company_names=[]\n",
    "\n",
    "for i in company_tags:\n",
    "    company_names.append(i.text)\n",
    "len(company_names)"
   ]
  },
  {
   "cell_type": "code",
   "execution_count": 250,
   "id": "092f00ac",
   "metadata": {},
   "outputs": [
    {
     "data": {
      "text/plain": [
       "['Chegg',\n",
       " 'Care Health Insurance',\n",
       " 'Stefanini',\n",
       " 'Tide Software',\n",
       " 'NISG (National Institute for Smart Government)',\n",
       " 'GABA Consultancy services',\n",
       " 'Smart work Consultants',\n",
       " 'Zekardo Automotive Solutions',\n",
       " 'Team Computers Pvt Ltd',\n",
       " 'INFOOBJECTS SOFTWARE ( INDIA) PRIVATE LIMITED',\n",
       " 'NebulARC Technologies Private Limited',\n",
       " 'Schlesinger Group',\n",
       " '2Coms',\n",
       " 'HCL',\n",
       " 'iNICU',\n",
       " 'Boston Consulting Group',\n",
       " 'BlackBuck',\n",
       " 'Country Veggie',\n",
       " 'Mahajan Imaging',\n",
       " 'Mahajan Imaging']"
      ]
     },
     "execution_count": 250,
     "metadata": {},
     "output_type": "execute_result"
    }
   ],
   "source": [
    "company_names"
   ]
  },
  {
   "cell_type": "code",
   "execution_count": 251,
   "id": "154a39ce",
   "metadata": {},
   "outputs": [
    {
     "data": {
      "text/plain": [
       "(20, 20, 20, 20, 20)"
      ]
     },
     "execution_count": 251,
     "metadata": {},
     "output_type": "execute_result"
    }
   ],
   "source": [
    "# Finally create a dataframe of the scraped data\n",
    "len(job_titles),len(company_names),len(experience),len(locations),len(salary)"
   ]
  },
  {
   "cell_type": "code",
   "execution_count": 252,
   "id": "fe6a5166",
   "metadata": {},
   "outputs": [
    {
     "data": {
      "text/html": [
       "<div>\n",
       "<style scoped>\n",
       "    .dataframe tbody tr th:only-of-type {\n",
       "        vertical-align: middle;\n",
       "    }\n",
       "\n",
       "    .dataframe tbody tr th {\n",
       "        vertical-align: top;\n",
       "    }\n",
       "\n",
       "    .dataframe thead th {\n",
       "        text-align: right;\n",
       "    }\n",
       "</style>\n",
       "<table border=\"1\" class=\"dataframe\">\n",
       "  <thead>\n",
       "    <tr style=\"text-align: right;\">\n",
       "      <th></th>\n",
       "      <th>job_titles</th>\n",
       "      <th>company_names</th>\n",
       "      <th>experience</th>\n",
       "      <th>locations</th>\n",
       "      <th>salary</th>\n",
       "    </tr>\n",
       "  </thead>\n",
       "  <tbody>\n",
       "    <tr>\n",
       "      <th>0</th>\n",
       "      <td>Data Scientist II</td>\n",
       "      <td>Chegg</td>\n",
       "      <td>2-6 Yrs</td>\n",
       "      <td>Delhi / NCR</td>\n",
       "      <td>5,50,000 - 15,00,000 PA.</td>\n",
       "    </tr>\n",
       "    <tr>\n",
       "      <th>1</th>\n",
       "      <td>Opening For Data Scientist</td>\n",
       "      <td>Care Health Insurance</td>\n",
       "      <td>1-5 Yrs</td>\n",
       "      <td>Gurgaon/Gurugram</td>\n",
       "      <td>3,00,000 - 7,00,000 PA.</td>\n",
       "    </tr>\n",
       "    <tr>\n",
       "      <th>2</th>\n",
       "      <td>Data Scientist</td>\n",
       "      <td>Stefanini</td>\n",
       "      <td>3-8 Yrs</td>\n",
       "      <td>Noida</td>\n",
       "      <td>Not disclosed</td>\n",
       "    </tr>\n",
       "    <tr>\n",
       "      <th>3</th>\n",
       "      <td>Lead Data Scientist - KYC/Fraud/Marketing</td>\n",
       "      <td>Tide Software</td>\n",
       "      <td>1-6 Yrs</td>\n",
       "      <td>New Delhi</td>\n",
       "      <td>Not disclosed</td>\n",
       "    </tr>\n",
       "    <tr>\n",
       "      <th>4</th>\n",
       "      <td>Junior Data Scientist - Goods &amp; Service Tax Ne...</td>\n",
       "      <td>NISG (National Institute for Smart Government)</td>\n",
       "      <td>3-8 Yrs</td>\n",
       "      <td>Delhi / NCR</td>\n",
       "      <td>Not disclosed</td>\n",
       "    </tr>\n",
       "    <tr>\n",
       "      <th>5</th>\n",
       "      <td>Data Analyst / Data Scientist / Business Analy...</td>\n",
       "      <td>GABA Consultancy services</td>\n",
       "      <td>0-0 Yrs</td>\n",
       "      <td>Noida, New Delhi, Delhi / NCR</td>\n",
       "      <td>2,25,000 - 4,75,000 PA.</td>\n",
       "    </tr>\n",
       "    <tr>\n",
       "      <th>6</th>\n",
       "      <td>Associate Data Scientist - Java/ Scala/ Apache...</td>\n",
       "      <td>Smart work Consultants</td>\n",
       "      <td>1-4 Yrs</td>\n",
       "      <td>Noida</td>\n",
       "      <td>Not disclosed</td>\n",
       "    </tr>\n",
       "    <tr>\n",
       "      <th>7</th>\n",
       "      <td>Data Scientist</td>\n",
       "      <td>Zekardo Automotive Solutions</td>\n",
       "      <td>5-8 Yrs</td>\n",
       "      <td>Gurgaon/Gurugram\\n(WFH during Covid)</td>\n",
       "      <td>Not disclosed</td>\n",
       "    </tr>\n",
       "    <tr>\n",
       "      <th>8</th>\n",
       "      <td>Data Scientist</td>\n",
       "      <td>Team Computers Pvt Ltd</td>\n",
       "      <td>2-6 Yrs</td>\n",
       "      <td>New Delhi</td>\n",
       "      <td>Not disclosed</td>\n",
       "    </tr>\n",
       "    <tr>\n",
       "      <th>9</th>\n",
       "      <td>Data Scientist (ML AI Engineer) / InfoObjects ...</td>\n",
       "      <td>INFOOBJECTS SOFTWARE ( INDIA) PRIVATE LIMITED</td>\n",
       "      <td>3-7 Yrs</td>\n",
       "      <td>Indore, Jaipur, Delhi / NCR\\n(WFH during Covid)</td>\n",
       "      <td>Not disclosed</td>\n",
       "    </tr>\n",
       "  </tbody>\n",
       "</table>\n",
       "</div>"
      ],
      "text/plain": [
       "                                          job_titles  \\\n",
       "0                                  Data Scientist II   \n",
       "1                         Opening For Data Scientist   \n",
       "2                                     Data Scientist   \n",
       "3          Lead Data Scientist - KYC/Fraud/Marketing   \n",
       "4  Junior Data Scientist - Goods & Service Tax Ne...   \n",
       "5  Data Analyst / Data Scientist / Business Analy...   \n",
       "6  Associate Data Scientist - Java/ Scala/ Apache...   \n",
       "7                                     Data Scientist   \n",
       "8                                     Data Scientist   \n",
       "9  Data Scientist (ML AI Engineer) / InfoObjects ...   \n",
       "\n",
       "                                    company_names experience  \\\n",
       "0                                           Chegg    2-6 Yrs   \n",
       "1                           Care Health Insurance    1-5 Yrs   \n",
       "2                                       Stefanini    3-8 Yrs   \n",
       "3                                   Tide Software    1-6 Yrs   \n",
       "4  NISG (National Institute for Smart Government)    3-8 Yrs   \n",
       "5                       GABA Consultancy services    0-0 Yrs   \n",
       "6                          Smart work Consultants    1-4 Yrs   \n",
       "7                    Zekardo Automotive Solutions    5-8 Yrs   \n",
       "8                          Team Computers Pvt Ltd    2-6 Yrs   \n",
       "9   INFOOBJECTS SOFTWARE ( INDIA) PRIVATE LIMITED    3-7 Yrs   \n",
       "\n",
       "                                         locations                    salary  \n",
       "0                                      Delhi / NCR  5,50,000 - 15,00,000 PA.  \n",
       "1                                 Gurgaon/Gurugram   3,00,000 - 7,00,000 PA.  \n",
       "2                                            Noida             Not disclosed  \n",
       "3                                        New Delhi             Not disclosed  \n",
       "4                                      Delhi / NCR             Not disclosed  \n",
       "5                    Noida, New Delhi, Delhi / NCR   2,25,000 - 4,75,000 PA.  \n",
       "6                                            Noida             Not disclosed  \n",
       "7             Gurgaon/Gurugram\\n(WFH during Covid)             Not disclosed  \n",
       "8                                        New Delhi             Not disclosed  \n",
       "9  Indore, Jaipur, Delhi / NCR\\n(WFH during Covid)             Not disclosed  "
      ]
     },
     "execution_count": 252,
     "metadata": {},
     "output_type": "execute_result"
    }
   ],
   "source": [
    "jobs=pd.DataFrame()\n",
    "jobs['job_titles']=job_titles\n",
    "jobs['company_names']=company_names\n",
    "jobs['experience']=experience\n",
    "jobs['locations']=locations\n",
    "jobs['salary']=salary\n",
    "jobs.head(10)"
   ]
  },
  {
   "cell_type": "markdown",
   "id": "5f1199d2",
   "metadata": {},
   "source": [
    "### Q4: Scrape data of first 100 sunglasses listings on flipkart.com. You have to scrape four attributes:\n",
    "        1.Brand\n",
    "        2.Product Description\n",
    "        3.Price\n"
   ]
  },
  {
   "cell_type": "code",
   "execution_count": 79,
   "id": "37e10c73",
   "metadata": {},
   "outputs": [],
   "source": [
    "import selenium\n",
    "from selenium import webdriver\n",
    "import pandas as pd\n",
    "import warnings\n",
    "warnings.filterwarnings('ignore')"
   ]
  },
  {
   "cell_type": "code",
   "execution_count": 80,
   "id": "188ceea8",
   "metadata": {},
   "outputs": [],
   "source": [
    "# first connect to web driver\n",
    "driver = webdriver.Chrome(r'c:\\Users\\Bawla Singh.DESKTOP-KT1PI9D\\Desktop\\chromedriver.exe')"
   ]
  },
  {
   "cell_type": "code",
   "execution_count": 81,
   "id": "8f3063f2",
   "metadata": {},
   "outputs": [],
   "source": [
    "driver=webdriver.Chrome('chromedriver.exe')"
   ]
  },
  {
   "cell_type": "code",
   "execution_count": 82,
   "id": "f1a10d6c",
   "metadata": {},
   "outputs": [],
   "source": [
    "url='https://www.flipkart.com/'\n",
    "driver.get(url)"
   ]
  },
  {
   "cell_type": "code",
   "execution_count": 83,
   "id": "46988db4",
   "metadata": {},
   "outputs": [
    {
     "data": {
      "text/plain": [
       "<selenium.webdriver.remote.webelement.WebElement (session=\"5ae1965716666254595654ce4b9dcb30\", element=\"3acdc138-ec07-4596-8004-81582d194c14\")>"
      ]
     },
     "execution_count": 83,
     "metadata": {},
     "output_type": "execute_result"
    }
   ],
   "source": [
    "# finding web element for search Brand bar using class name\n",
    "Brand=driver.find_element_by_class_name('_3704LK')\n",
    "Brand"
   ]
  },
  {
   "cell_type": "code",
   "execution_count": 84,
   "id": "936bde34",
   "metadata": {},
   "outputs": [],
   "source": [
    "Brand.send_keys('sunglasses')"
   ]
  },
  {
   "cell_type": "code",
   "execution_count": 85,
   "id": "814ec32f",
   "metadata": {},
   "outputs": [
    {
     "data": {
      "text/plain": [
       "<selenium.webdriver.remote.webelement.WebElement (session=\"5ae1965716666254595654ce4b9dcb30\", element=\"2b88cbc7-a6f4-429a-88b8-bb4829fe3cbf\")>"
      ]
     },
     "execution_count": 85,
     "metadata": {},
     "output_type": "execute_result"
    }
   ],
   "source": [
    "# clicking using class name function clicking for search bar\n",
    "search_btn=driver.find_element_by_class_name('L0Z3Pu')\n",
    "search_btn"
   ]
  },
  {
   "cell_type": "code",
   "execution_count": 86,
   "id": "e8fe85ac",
   "metadata": {},
   "outputs": [],
   "source": [
    "search_btn.click()"
   ]
  },
  {
   "cell_type": "code",
   "execution_count": 88,
   "id": "bc397e53",
   "metadata": {},
   "outputs": [],
   "source": [
    "# clicking using class name function clicking for nextpage:\n",
    "nextpage_btn=driver.find_element_by_xpath('/html/body/div/div/div[3]/div[1]/div[2]/div[12]/div/div/nav/a[11]')"
   ]
  },
  {
   "cell_type": "code",
   "execution_count": 89,
   "id": "7f7914f6",
   "metadata": {},
   "outputs": [],
   "source": [
    "nextpage_btn.click()"
   ]
  },
  {
   "cell_type": "code",
   "execution_count": 22,
   "id": "cdc616e7",
   "metadata": {},
   "outputs": [
    {
     "data": {
      "text/plain": [
       "40"
      ]
     },
     "execution_count": 22,
     "metadata": {},
     "output_type": "execute_result"
    }
   ],
   "source": [
    "# Here extract all web elements having Brand_name:\n",
    "Brand_name=driver.find_elements_by_xpath('//div[@class=\"_2WkVRV\"]')\n",
    "len(Brand_name)"
   ]
  },
  {
   "cell_type": "code",
   "execution_count": 24,
   "id": "92aa023c",
   "metadata": {},
   "outputs": [
    {
     "data": {
      "text/plain": [
       "40"
      ]
     },
     "execution_count": 24,
     "metadata": {},
     "output_type": "execute_result"
    }
   ],
   "source": [
    "Brand_names=[]\n",
    "\n",
    "for i in Brand_name:\n",
    "    Brand_names.append(i.text)\n",
    "len(Brand_names)"
   ]
  },
  {
   "cell_type": "code",
   "execution_count": 25,
   "id": "53b0ed46",
   "metadata": {},
   "outputs": [
    {
     "data": {
      "text/plain": [
       "['Silver Kartz',\n",
       " 'ROZZETTA CRAFT',\n",
       " 'Elligator',\n",
       " 'Fastrack',\n",
       " 'SHAAH COLLECTIONS',\n",
       " 'SUNBEE',\n",
       " 'PIRASO',\n",
       " 'GANSTA',\n",
       " 'SRPM',\n",
       " 'New Specs',\n",
       " 'SUNBEE',\n",
       " 'Singco India',\n",
       " 'Elligator',\n",
       " 'kingsunglasses',\n",
       " 'SHAAH COLLECTIONS',\n",
       " 'Silver Kartz',\n",
       " 'Fastrack',\n",
       " 'PIRASO',\n",
       " 'ROZZETTA CRAFT',\n",
       " 'ROYAL SON',\n",
       " 'PHENOMENAL',\n",
       " 'Fastrack',\n",
       " 'PIRASO',\n",
       " 'PIRASO',\n",
       " 'PHENOMENAL',\n",
       " 'GANSTA',\n",
       " 'PIRASO',\n",
       " 'ROYAL SON',\n",
       " 'Elligator',\n",
       " 'PHENOMENAL',\n",
       " 'PHENOMENAL',\n",
       " 'ROYAL SON',\n",
       " 'Elligator',\n",
       " 'PIRASO',\n",
       " 'kingsunglasses',\n",
       " 'VINCENT CHASE',\n",
       " 'Singco India',\n",
       " 'maxa',\n",
       " 'kingsunglasses',\n",
       " 'ROYAL SON']"
      ]
     },
     "execution_count": 25,
     "metadata": {},
     "output_type": "execute_result"
    }
   ],
   "source": [
    "Brand_names"
   ]
  },
  {
   "cell_type": "code",
   "execution_count": 26,
   "id": "142023e3",
   "metadata": {},
   "outputs": [
    {
     "data": {
      "text/plain": [
       "40"
      ]
     },
     "execution_count": 26,
     "metadata": {},
     "output_type": "execute_result"
    }
   ],
   "source": [
    "# Here extract all web elements having Product Description:\n",
    "Product_Descri=driver.find_elements_by_xpath('//a[@class=\"IRpwTa\"]')\n",
    "len(Product_Descri)"
   ]
  },
  {
   "cell_type": "code",
   "execution_count": 28,
   "id": "e3922da9",
   "metadata": {},
   "outputs": [
    {
     "data": {
      "text/plain": [
       "40"
      ]
     },
     "execution_count": 28,
     "metadata": {},
     "output_type": "execute_result"
    }
   ],
   "source": [
    "Product_Descriptions = []\n",
    "\n",
    "for i in Product_Descri:\n",
    "    Product_Descriptions.append(i.text)\n",
    "len(Product_Descriptions)    "
   ]
  },
  {
   "cell_type": "code",
   "execution_count": 29,
   "id": "c1a75707",
   "metadata": {},
   "outputs": [
    {
     "data": {
      "text/plain": [
       "['UV Protection Clubmaster Sunglasses (53)',\n",
       " 'UV Protection, Gradient Retro Square Sunglasses (Free S...',\n",
       " 'UV Protection Round Sunglasses (54)',\n",
       " 'UV Protection Rectangular Sunglasses (Free Size)',\n",
       " 'UV Protection, Polarized, Mirrored Rectangular Sunglass...',\n",
       " 'UV Protection, Polarized Wayfarer Sunglasses (Free Size...',\n",
       " 'UV Protection Aviator Sunglasses (54)',\n",
       " 'UV Protection, Night Vision, Riding Glasses Aviator Sun...',\n",
       " 'UV Protection Wayfarer Sunglasses (50)',\n",
       " 'UV Protection Rectangular Sunglasses (Free Size)',\n",
       " 'UV Protection, Polarized, Mirrored Round Sunglasses (Fr...',\n",
       " 'Gradient, Toughened Glass Lens, UV Protection Retro Squ...',\n",
       " 'UV Protection Round Sunglasses (53)',\n",
       " 'UV Protection Round Sunglasses (54)',\n",
       " 'UV Protection, Polarized, Mirrored Rectangular Sunglass...',\n",
       " 'UV Protection Aviator Sunglasses (88)',\n",
       " 'UV Protection Wayfarer Sunglasses (Free Size)',\n",
       " 'UV Protection Aviator Sunglasses (54)',\n",
       " 'UV Protection, Gradient Rectangular Sunglasses (Free Si...',\n",
       " 'UV Protection Rectangular Sunglasses (58)',\n",
       " 'UV Protection, Mirrored Retro Square Sunglasses (53)',\n",
       " 'Gradient, UV Protection Wayfarer Sunglasses (Free Size)',\n",
       " 'UV Protection Wayfarer Sunglasses (32)',\n",
       " 'UV Protection Aviator Sunglasses (55)',\n",
       " 'UV Protection Retro Square Sunglasses (Free Size)',\n",
       " 'UV Protection Aviator Sunglasses (57)',\n",
       " 'UV Protection Aviator Sunglasses (54)',\n",
       " 'Polarized, UV Protection Aviator Sunglasses (58)',\n",
       " 'UV Protection Round Sunglasses (54)',\n",
       " 'UV Protection, Mirrored Retro Square Sunglasses (53)',\n",
       " 'UV Protection Retro Square Sunglasses (53)',\n",
       " 'UV Protection Retro Square Sunglasses (88)',\n",
       " 'UV Protection Round Sunglasses (50)',\n",
       " 'UV Protection Aviator Sunglasses (Free Size)',\n",
       " 'UV Protection Round Sunglasses (Free Size)',\n",
       " 'by Lenskart Polarized, UV Protection Wayfarer Sunglasse...',\n",
       " 'UV Protection, Riding Glasses, Others Aviator, Wayfarer...',\n",
       " 'UV Protection, Riding Glasses Rectangular, Wayfarer, Ov...',\n",
       " 'UV Protection Rectangular Sunglasses (Free Size)',\n",
       " 'Polarized, UV Protection Wayfarer, Retro Square Sunglas...']"
      ]
     },
     "execution_count": 29,
     "metadata": {},
     "output_type": "execute_result"
    }
   ],
   "source": [
    "Product_Descriptions"
   ]
  },
  {
   "cell_type": "code",
   "execution_count": 30,
   "id": "36d67da3",
   "metadata": {},
   "outputs": [
    {
     "data": {
      "text/plain": [
       "40"
      ]
     },
     "execution_count": 30,
     "metadata": {},
     "output_type": "execute_result"
    }
   ],
   "source": [
    "# Here extract all web elements having price :\n",
    "Brand_price=driver.find_elements_by_xpath('//div[@class=\"_30jeq3\"]')\n",
    "len(Brand_price)"
   ]
  },
  {
   "cell_type": "code",
   "execution_count": 32,
   "id": "8182fda5",
   "metadata": {},
   "outputs": [
    {
     "data": {
      "text/plain": [
       "40"
      ]
     },
     "execution_count": 32,
     "metadata": {},
     "output_type": "execute_result"
    }
   ],
   "source": [
    "Prices=[]\n",
    "\n",
    "for i in Brand_price:\n",
    "    Prices.append(i.text)\n",
    "len(Prices)"
   ]
  },
  {
   "cell_type": "code",
   "execution_count": 33,
   "id": "d5d49b47",
   "metadata": {},
   "outputs": [
    {
     "data": {
      "text/plain": [
       "['₹348',\n",
       " '₹349',\n",
       " '₹248',\n",
       " '₹639',\n",
       " '₹165',\n",
       " '₹243',\n",
       " '₹200',\n",
       " '₹264',\n",
       " '₹188',\n",
       " '₹239',\n",
       " '₹271',\n",
       " '₹664',\n",
       " '₹179',\n",
       " '₹186',\n",
       " '₹181',\n",
       " '₹242',\n",
       " '₹579',\n",
       " '₹190',\n",
       " '₹399',\n",
       " '₹449',\n",
       " '₹299',\n",
       " '₹549',\n",
       " '₹171',\n",
       " '₹213',\n",
       " '₹309',\n",
       " '₹269',\n",
       " '₹225',\n",
       " '₹759',\n",
       " '₹265',\n",
       " '₹299',\n",
       " '₹259',\n",
       " '₹569',\n",
       " '₹230',\n",
       " '₹269',\n",
       " '₹276',\n",
       " '₹1,533',\n",
       " '₹203',\n",
       " '₹149',\n",
       " '₹180',\n",
       " '₹664']"
      ]
     },
     "execution_count": 33,
     "metadata": {},
     "output_type": "execute_result"
    }
   ],
   "source": [
    "Prices"
   ]
  },
  {
   "cell_type": "code",
   "execution_count": 35,
   "id": "5e214c14",
   "metadata": {},
   "outputs": [
    {
     "data": {
      "text/plain": [
       "(40, 40, 40)"
      ]
     },
     "execution_count": 35,
     "metadata": {},
     "output_type": "execute_result"
    }
   ],
   "source": [
    "# Finally create a dataframe of the scraped data\n",
    "len(Brand_names),len(Product_Descriptions),len(Prices)"
   ]
  },
  {
   "cell_type": "code",
   "execution_count": 40,
   "id": "b067a326",
   "metadata": {},
   "outputs": [],
   "source": [
    "sunglasses=pd.DataFrame()\n",
    "sunglasses['Brand_names']=Brand_names\n",
    "sunglasses['Product_Descriptions']=Product_Descriptions\n",
    "sunglasses['Prices']=Prices"
   ]
  },
  {
   "cell_type": "code",
   "execution_count": 39,
   "id": "6253f71a",
   "metadata": {},
   "outputs": [
    {
     "data": {
      "text/html": [
       "<div>\n",
       "<style scoped>\n",
       "    .dataframe tbody tr th:only-of-type {\n",
       "        vertical-align: middle;\n",
       "    }\n",
       "\n",
       "    .dataframe tbody tr th {\n",
       "        vertical-align: top;\n",
       "    }\n",
       "\n",
       "    .dataframe thead th {\n",
       "        text-align: right;\n",
       "    }\n",
       "</style>\n",
       "<table border=\"1\" class=\"dataframe\">\n",
       "  <thead>\n",
       "    <tr style=\"text-align: right;\">\n",
       "      <th></th>\n",
       "      <th>Brand_names</th>\n",
       "      <th>Product_Descriptions</th>\n",
       "      <th>Prices</th>\n",
       "    </tr>\n",
       "  </thead>\n",
       "  <tbody>\n",
       "    <tr>\n",
       "      <th>0</th>\n",
       "      <td>Silver Kartz</td>\n",
       "      <td>UV Protection Clubmaster Sunglasses (53)</td>\n",
       "      <td>₹348</td>\n",
       "    </tr>\n",
       "    <tr>\n",
       "      <th>1</th>\n",
       "      <td>ROZZETTA CRAFT</td>\n",
       "      <td>UV Protection, Gradient Retro Square Sunglasse...</td>\n",
       "      <td>₹349</td>\n",
       "    </tr>\n",
       "    <tr>\n",
       "      <th>2</th>\n",
       "      <td>Elligator</td>\n",
       "      <td>UV Protection Round Sunglasses (54)</td>\n",
       "      <td>₹248</td>\n",
       "    </tr>\n",
       "    <tr>\n",
       "      <th>3</th>\n",
       "      <td>Fastrack</td>\n",
       "      <td>UV Protection Rectangular Sunglasses (Free Size)</td>\n",
       "      <td>₹639</td>\n",
       "    </tr>\n",
       "    <tr>\n",
       "      <th>4</th>\n",
       "      <td>SHAAH COLLECTIONS</td>\n",
       "      <td>UV Protection, Polarized, Mirrored Rectangular...</td>\n",
       "      <td>₹165</td>\n",
       "    </tr>\n",
       "    <tr>\n",
       "      <th>5</th>\n",
       "      <td>SUNBEE</td>\n",
       "      <td>UV Protection, Polarized Wayfarer Sunglasses (...</td>\n",
       "      <td>₹243</td>\n",
       "    </tr>\n",
       "    <tr>\n",
       "      <th>6</th>\n",
       "      <td>PIRASO</td>\n",
       "      <td>UV Protection Aviator Sunglasses (54)</td>\n",
       "      <td>₹200</td>\n",
       "    </tr>\n",
       "    <tr>\n",
       "      <th>7</th>\n",
       "      <td>GANSTA</td>\n",
       "      <td>UV Protection, Night Vision, Riding Glasses Av...</td>\n",
       "      <td>₹264</td>\n",
       "    </tr>\n",
       "    <tr>\n",
       "      <th>8</th>\n",
       "      <td>SRPM</td>\n",
       "      <td>UV Protection Wayfarer Sunglasses (50)</td>\n",
       "      <td>₹188</td>\n",
       "    </tr>\n",
       "    <tr>\n",
       "      <th>9</th>\n",
       "      <td>New Specs</td>\n",
       "      <td>UV Protection Rectangular Sunglasses (Free Size)</td>\n",
       "      <td>₹239</td>\n",
       "    </tr>\n",
       "    <tr>\n",
       "      <th>10</th>\n",
       "      <td>SUNBEE</td>\n",
       "      <td>UV Protection, Polarized, Mirrored Round Sungl...</td>\n",
       "      <td>₹271</td>\n",
       "    </tr>\n",
       "    <tr>\n",
       "      <th>11</th>\n",
       "      <td>Singco India</td>\n",
       "      <td>Gradient, Toughened Glass Lens, UV Protection ...</td>\n",
       "      <td>₹664</td>\n",
       "    </tr>\n",
       "    <tr>\n",
       "      <th>12</th>\n",
       "      <td>Elligator</td>\n",
       "      <td>UV Protection Round Sunglasses (53)</td>\n",
       "      <td>₹179</td>\n",
       "    </tr>\n",
       "    <tr>\n",
       "      <th>13</th>\n",
       "      <td>kingsunglasses</td>\n",
       "      <td>UV Protection Round Sunglasses (54)</td>\n",
       "      <td>₹186</td>\n",
       "    </tr>\n",
       "    <tr>\n",
       "      <th>14</th>\n",
       "      <td>SHAAH COLLECTIONS</td>\n",
       "      <td>UV Protection, Polarized, Mirrored Rectangular...</td>\n",
       "      <td>₹181</td>\n",
       "    </tr>\n",
       "    <tr>\n",
       "      <th>15</th>\n",
       "      <td>Silver Kartz</td>\n",
       "      <td>UV Protection Aviator Sunglasses (88)</td>\n",
       "      <td>₹242</td>\n",
       "    </tr>\n",
       "    <tr>\n",
       "      <th>16</th>\n",
       "      <td>Fastrack</td>\n",
       "      <td>UV Protection Wayfarer Sunglasses (Free Size)</td>\n",
       "      <td>₹579</td>\n",
       "    </tr>\n",
       "    <tr>\n",
       "      <th>17</th>\n",
       "      <td>PIRASO</td>\n",
       "      <td>UV Protection Aviator Sunglasses (54)</td>\n",
       "      <td>₹190</td>\n",
       "    </tr>\n",
       "    <tr>\n",
       "      <th>18</th>\n",
       "      <td>ROZZETTA CRAFT</td>\n",
       "      <td>UV Protection, Gradient Rectangular Sunglasses...</td>\n",
       "      <td>₹399</td>\n",
       "    </tr>\n",
       "    <tr>\n",
       "      <th>19</th>\n",
       "      <td>ROYAL SON</td>\n",
       "      <td>UV Protection Rectangular Sunglasses (58)</td>\n",
       "      <td>₹449</td>\n",
       "    </tr>\n",
       "    <tr>\n",
       "      <th>20</th>\n",
       "      <td>PHENOMENAL</td>\n",
       "      <td>UV Protection, Mirrored Retro Square Sunglasse...</td>\n",
       "      <td>₹299</td>\n",
       "    </tr>\n",
       "    <tr>\n",
       "      <th>21</th>\n",
       "      <td>Fastrack</td>\n",
       "      <td>Gradient, UV Protection Wayfarer Sunglasses (F...</td>\n",
       "      <td>₹549</td>\n",
       "    </tr>\n",
       "    <tr>\n",
       "      <th>22</th>\n",
       "      <td>PIRASO</td>\n",
       "      <td>UV Protection Wayfarer Sunglasses (32)</td>\n",
       "      <td>₹171</td>\n",
       "    </tr>\n",
       "    <tr>\n",
       "      <th>23</th>\n",
       "      <td>PIRASO</td>\n",
       "      <td>UV Protection Aviator Sunglasses (55)</td>\n",
       "      <td>₹213</td>\n",
       "    </tr>\n",
       "    <tr>\n",
       "      <th>24</th>\n",
       "      <td>PHENOMENAL</td>\n",
       "      <td>UV Protection Retro Square Sunglasses (Free Size)</td>\n",
       "      <td>₹309</td>\n",
       "    </tr>\n",
       "    <tr>\n",
       "      <th>25</th>\n",
       "      <td>GANSTA</td>\n",
       "      <td>UV Protection Aviator Sunglasses (57)</td>\n",
       "      <td>₹269</td>\n",
       "    </tr>\n",
       "    <tr>\n",
       "      <th>26</th>\n",
       "      <td>PIRASO</td>\n",
       "      <td>UV Protection Aviator Sunglasses (54)</td>\n",
       "      <td>₹225</td>\n",
       "    </tr>\n",
       "    <tr>\n",
       "      <th>27</th>\n",
       "      <td>ROYAL SON</td>\n",
       "      <td>Polarized, UV Protection Aviator Sunglasses (58)</td>\n",
       "      <td>₹759</td>\n",
       "    </tr>\n",
       "    <tr>\n",
       "      <th>28</th>\n",
       "      <td>Elligator</td>\n",
       "      <td>UV Protection Round Sunglasses (54)</td>\n",
       "      <td>₹265</td>\n",
       "    </tr>\n",
       "    <tr>\n",
       "      <th>29</th>\n",
       "      <td>PHENOMENAL</td>\n",
       "      <td>UV Protection, Mirrored Retro Square Sunglasse...</td>\n",
       "      <td>₹299</td>\n",
       "    </tr>\n",
       "    <tr>\n",
       "      <th>30</th>\n",
       "      <td>PHENOMENAL</td>\n",
       "      <td>UV Protection Retro Square Sunglasses (53)</td>\n",
       "      <td>₹259</td>\n",
       "    </tr>\n",
       "    <tr>\n",
       "      <th>31</th>\n",
       "      <td>ROYAL SON</td>\n",
       "      <td>UV Protection Retro Square Sunglasses (88)</td>\n",
       "      <td>₹569</td>\n",
       "    </tr>\n",
       "    <tr>\n",
       "      <th>32</th>\n",
       "      <td>Elligator</td>\n",
       "      <td>UV Protection Round Sunglasses (50)</td>\n",
       "      <td>₹230</td>\n",
       "    </tr>\n",
       "    <tr>\n",
       "      <th>33</th>\n",
       "      <td>PIRASO</td>\n",
       "      <td>UV Protection Aviator Sunglasses (Free Size)</td>\n",
       "      <td>₹269</td>\n",
       "    </tr>\n",
       "    <tr>\n",
       "      <th>34</th>\n",
       "      <td>kingsunglasses</td>\n",
       "      <td>UV Protection Round Sunglasses (Free Size)</td>\n",
       "      <td>₹276</td>\n",
       "    </tr>\n",
       "    <tr>\n",
       "      <th>35</th>\n",
       "      <td>VINCENT CHASE</td>\n",
       "      <td>by Lenskart Polarized, UV Protection Wayfarer ...</td>\n",
       "      <td>₹1,533</td>\n",
       "    </tr>\n",
       "    <tr>\n",
       "      <th>36</th>\n",
       "      <td>Singco India</td>\n",
       "      <td>UV Protection, Riding Glasses, Others Aviator,...</td>\n",
       "      <td>₹203</td>\n",
       "    </tr>\n",
       "    <tr>\n",
       "      <th>37</th>\n",
       "      <td>maxa</td>\n",
       "      <td>UV Protection, Riding Glasses Rectangular, Way...</td>\n",
       "      <td>₹149</td>\n",
       "    </tr>\n",
       "    <tr>\n",
       "      <th>38</th>\n",
       "      <td>kingsunglasses</td>\n",
       "      <td>UV Protection Rectangular Sunglasses (Free Size)</td>\n",
       "      <td>₹180</td>\n",
       "    </tr>\n",
       "    <tr>\n",
       "      <th>39</th>\n",
       "      <td>ROYAL SON</td>\n",
       "      <td>Polarized, UV Protection Wayfarer, Retro Squar...</td>\n",
       "      <td>₹664</td>\n",
       "    </tr>\n",
       "  </tbody>\n",
       "</table>\n",
       "</div>"
      ],
      "text/plain": [
       "          Brand_names                               Product_Descriptions  \\\n",
       "0        Silver Kartz           UV Protection Clubmaster Sunglasses (53)   \n",
       "1      ROZZETTA CRAFT  UV Protection, Gradient Retro Square Sunglasse...   \n",
       "2           Elligator                UV Protection Round Sunglasses (54)   \n",
       "3            Fastrack   UV Protection Rectangular Sunglasses (Free Size)   \n",
       "4   SHAAH COLLECTIONS  UV Protection, Polarized, Mirrored Rectangular...   \n",
       "5              SUNBEE  UV Protection, Polarized Wayfarer Sunglasses (...   \n",
       "6              PIRASO              UV Protection Aviator Sunglasses (54)   \n",
       "7              GANSTA  UV Protection, Night Vision, Riding Glasses Av...   \n",
       "8                SRPM             UV Protection Wayfarer Sunglasses (50)   \n",
       "9           New Specs   UV Protection Rectangular Sunglasses (Free Size)   \n",
       "10             SUNBEE  UV Protection, Polarized, Mirrored Round Sungl...   \n",
       "11       Singco India  Gradient, Toughened Glass Lens, UV Protection ...   \n",
       "12          Elligator                UV Protection Round Sunglasses (53)   \n",
       "13     kingsunglasses                UV Protection Round Sunglasses (54)   \n",
       "14  SHAAH COLLECTIONS  UV Protection, Polarized, Mirrored Rectangular...   \n",
       "15       Silver Kartz              UV Protection Aviator Sunglasses (88)   \n",
       "16           Fastrack      UV Protection Wayfarer Sunglasses (Free Size)   \n",
       "17             PIRASO              UV Protection Aviator Sunglasses (54)   \n",
       "18     ROZZETTA CRAFT  UV Protection, Gradient Rectangular Sunglasses...   \n",
       "19          ROYAL SON          UV Protection Rectangular Sunglasses (58)   \n",
       "20         PHENOMENAL  UV Protection, Mirrored Retro Square Sunglasse...   \n",
       "21           Fastrack  Gradient, UV Protection Wayfarer Sunglasses (F...   \n",
       "22             PIRASO             UV Protection Wayfarer Sunglasses (32)   \n",
       "23             PIRASO              UV Protection Aviator Sunglasses (55)   \n",
       "24         PHENOMENAL  UV Protection Retro Square Sunglasses (Free Size)   \n",
       "25             GANSTA              UV Protection Aviator Sunglasses (57)   \n",
       "26             PIRASO              UV Protection Aviator Sunglasses (54)   \n",
       "27          ROYAL SON   Polarized, UV Protection Aviator Sunglasses (58)   \n",
       "28          Elligator                UV Protection Round Sunglasses (54)   \n",
       "29         PHENOMENAL  UV Protection, Mirrored Retro Square Sunglasse...   \n",
       "30         PHENOMENAL         UV Protection Retro Square Sunglasses (53)   \n",
       "31          ROYAL SON         UV Protection Retro Square Sunglasses (88)   \n",
       "32          Elligator                UV Protection Round Sunglasses (50)   \n",
       "33             PIRASO       UV Protection Aviator Sunglasses (Free Size)   \n",
       "34     kingsunglasses         UV Protection Round Sunglasses (Free Size)   \n",
       "35      VINCENT CHASE  by Lenskart Polarized, UV Protection Wayfarer ...   \n",
       "36       Singco India  UV Protection, Riding Glasses, Others Aviator,...   \n",
       "37               maxa  UV Protection, Riding Glasses Rectangular, Way...   \n",
       "38     kingsunglasses   UV Protection Rectangular Sunglasses (Free Size)   \n",
       "39          ROYAL SON  Polarized, UV Protection Wayfarer, Retro Squar...   \n",
       "\n",
       "    Prices  \n",
       "0     ₹348  \n",
       "1     ₹349  \n",
       "2     ₹248  \n",
       "3     ₹639  \n",
       "4     ₹165  \n",
       "5     ₹243  \n",
       "6     ₹200  \n",
       "7     ₹264  \n",
       "8     ₹188  \n",
       "9     ₹239  \n",
       "10    ₹271  \n",
       "11    ₹664  \n",
       "12    ₹179  \n",
       "13    ₹186  \n",
       "14    ₹181  \n",
       "15    ₹242  \n",
       "16    ₹579  \n",
       "17    ₹190  \n",
       "18    ₹399  \n",
       "19    ₹449  \n",
       "20    ₹299  \n",
       "21    ₹549  \n",
       "22    ₹171  \n",
       "23    ₹213  \n",
       "24    ₹309  \n",
       "25    ₹269  \n",
       "26    ₹225  \n",
       "27    ₹759  \n",
       "28    ₹265  \n",
       "29    ₹299  \n",
       "30    ₹259  \n",
       "31    ₹569  \n",
       "32    ₹230  \n",
       "33    ₹269  \n",
       "34    ₹276  \n",
       "35  ₹1,533  \n",
       "36    ₹203  \n",
       "37    ₹149  \n",
       "38    ₹180  \n",
       "39    ₹664  "
      ]
     },
     "execution_count": 39,
     "metadata": {},
     "output_type": "execute_result"
    }
   ],
   "source": [
    "sunglasses.head(40)"
   ]
  },
  {
   "cell_type": "markdown",
   "id": "431c5b5b",
   "metadata": {},
   "source": [
    "#### Q5:Scrape 100 reviews data from flipkart.com for iphone11 phone. You have to go the link:\n",
    "    1.Rating\n",
    "    2.Review summary\n",
    "    3.Full review\n",
    "    4.You have to scrape this data for first 100 reviews.\n"
   ]
  },
  {
   "cell_type": "code",
   "execution_count": 4,
   "id": "c11f26a3",
   "metadata": {},
   "outputs": [],
   "source": [
    "import selenium\n",
    "from selenium import webdriver\n",
    "import pandas as pd\n",
    "import warnings\n",
    "warnings.filterwarnings('ignore')"
   ]
  },
  {
   "cell_type": "code",
   "execution_count": 5,
   "id": "4f3af1cc",
   "metadata": {},
   "outputs": [],
   "source": [
    "driver = webdriver.Chrome(r'c:\\Users\\Bawla Singh.DESKTOP-KT1PI9D\\Desktop\\chromedriver.exe')"
   ]
  },
  {
   "cell_type": "code",
   "execution_count": 6,
   "id": "cd6f76c2",
   "metadata": {},
   "outputs": [],
   "source": [
    "driver=webdriver.Chrome('chromedriver.exe')"
   ]
  },
  {
   "cell_type": "code",
   "execution_count": 7,
   "id": "f79784e3",
   "metadata": {},
   "outputs": [],
   "source": [
    "url='https://www.flipkart.com/apple-iphone-11-black-64-gb-includes- earpods-power-  adapter/p/itm0f37c2240b217?pid=MOBFKCTSVZAXUHGR&lid=LSTMOBFKC  TSVZAXUHGREPBFGI&marketplace.'\n",
    "driver.get(url)"
   ]
  },
  {
   "cell_type": "code",
   "execution_count": 8,
   "id": "1c5f3cd6",
   "metadata": {},
   "outputs": [
    {
     "data": {
      "text/plain": [
       "10"
      ]
     },
     "execution_count": 8,
     "metadata": {},
     "output_type": "execute_result"
    }
   ],
   "source": [
    "# Here extract all web elements having Brand_Rating:\n",
    "Brand_Rating=driver.find_elements_by_xpath('//div[@class=\"_3LWZlK _1BLPMq\"]')\n",
    "len(Brand_Rating)"
   ]
  },
  {
   "cell_type": "code",
   "execution_count": 9,
   "id": "a3e24d08",
   "metadata": {},
   "outputs": [
    {
     "data": {
      "text/plain": [
       "10"
      ]
     },
     "execution_count": 9,
     "metadata": {},
     "output_type": "execute_result"
    }
   ],
   "source": [
    "Brand_Ratings=[]\n",
    "\n",
    "for i in Brand_Rating:\n",
    "    Brand_Ratings.append(i.text)\n",
    "len(Brand_Ratings)"
   ]
  },
  {
   "cell_type": "code",
   "execution_count": 10,
   "id": "e212682d",
   "metadata": {},
   "outputs": [
    {
     "data": {
      "text/plain": [
       "['5', '5', '5', '', '', '', '', '', '', '']"
      ]
     },
     "execution_count": 10,
     "metadata": {},
     "output_type": "execute_result"
    }
   ],
   "source": [
    "Brand_Ratings"
   ]
  },
  {
   "cell_type": "code",
   "execution_count": 12,
   "id": "de2bc5e5",
   "metadata": {},
   "outputs": [
    {
     "data": {
      "text/plain": [
       "10"
      ]
     },
     "execution_count": 12,
     "metadata": {},
     "output_type": "execute_result"
    }
   ],
   "source": [
    "# Here extract all web elements having Review summary:\n",
    "Review_summary=driver.find_elements_by_xpath('//p[@class=\"_2-N8zT\"]')\n",
    "len(Review_summary)"
   ]
  },
  {
   "cell_type": "code",
   "execution_count": 13,
   "id": "9881a9b1",
   "metadata": {},
   "outputs": [
    {
     "data": {
      "text/plain": [
       "10"
      ]
     },
     "execution_count": 13,
     "metadata": {},
     "output_type": "execute_result"
    }
   ],
   "source": [
    "Review_summarys=[]\n",
    "\n",
    "for i in Review_summary:\n",
    "    Review_summarys.append(i.text)\n",
    "len(Review_summary)"
   ]
  },
  {
   "cell_type": "code",
   "execution_count": 14,
   "id": "3b708198",
   "metadata": {},
   "outputs": [
    {
     "data": {
      "text/plain": [
       "['Brilliant',\n",
       " 'Simply awesome',\n",
       " 'Best in the market!',\n",
       " '',\n",
       " '',\n",
       " '',\n",
       " '',\n",
       " '',\n",
       " '',\n",
       " '']"
      ]
     },
     "execution_count": 14,
     "metadata": {},
     "output_type": "execute_result"
    }
   ],
   "source": [
    "Review_summarys"
   ]
  },
  {
   "cell_type": "code",
   "execution_count": 15,
   "id": "d9669bca",
   "metadata": {},
   "outputs": [
    {
     "data": {
      "text/plain": [
       "10"
      ]
     },
     "execution_count": 15,
     "metadata": {},
     "output_type": "execute_result"
    }
   ],
   "source": [
    "# Here extract all web elements having Full review:\n",
    "Full_review=driver.find_elements_by_xpath('//div[@class=\"t-ZTKy\"]')\n",
    "len(Full_review)"
   ]
  },
  {
   "cell_type": "code",
   "execution_count": 16,
   "id": "0fb50563",
   "metadata": {},
   "outputs": [
    {
     "data": {
      "text/plain": [
       "10"
      ]
     },
     "execution_count": 16,
     "metadata": {},
     "output_type": "execute_result"
    }
   ],
   "source": [
    "Full_reviews=[]\n",
    "\n",
    "for i in Full_review:\n",
    "    Full_reviews.append(i.text)\n",
    "len(Full_review)"
   ]
  },
  {
   "cell_type": "code",
   "execution_count": 17,
   "id": "14dd9a55",
   "metadata": {},
   "outputs": [
    {
     "data": {
      "text/plain": [
       "['The Best Phone for the Money\\n\\nThe iPhone 11 offers superb cameras, a more durable design and excellent battery life for an affordable price.\\n\\nCompelling ultra-wide camera\\nNew Night mode is excellent\\nLong battery life',\n",
       " 'Really satisfied with the Product I received... It’s totally genuine and the packaging was also really good so if ur planning to buy just go for it.',\n",
       " 'Great iPhone very snappy experience as apple kind. Upgraded from iPhone 7.\\nPros\\n-Camera top class\\n- Battery top performed\\n-Chipset no need to say as apple kind\\n-Security as you expect from apple\\n- Display super bright industry leading colour\\naccuracy and super responsive\\n-Build quality as expect from apple sturdy\\npremium durable beautiful stylish.\\n-Os most stable os in smartphone industry\\n\\nCons\\n-No 5G\\n-Display is not based on OLED technology\\n-Charger headphones and 1 apple stic...\\nREAD MORE',\n",
       " '',\n",
       " '',\n",
       " '',\n",
       " '',\n",
       " '',\n",
       " '',\n",
       " '']"
      ]
     },
     "execution_count": 17,
     "metadata": {},
     "output_type": "execute_result"
    }
   ],
   "source": [
    "Full_reviews"
   ]
  },
  {
   "cell_type": "code",
   "execution_count": 18,
   "id": "599d405c",
   "metadata": {},
   "outputs": [
    {
     "data": {
      "text/plain": [
       "(10, 10, 10)"
      ]
     },
     "execution_count": 18,
     "metadata": {},
     "output_type": "execute_result"
    }
   ],
   "source": [
    "# Finally create a dataframe of the scraped data\n",
    "len(Brand_Ratings),len(Review_summarys),len(Full_reviews)"
   ]
  },
  {
   "cell_type": "code",
   "execution_count": 19,
   "id": "1dcb1053",
   "metadata": {},
   "outputs": [],
   "source": [
    "iphone11 =pd.DataFrame()\n",
    "iphone11 ['Brand_Ratings']=Brand_Ratings\n",
    "iphone11 ['Review_summarys']=Review_summarys\n",
    "iphone11 ['Full_reviews']=Full_reviews"
   ]
  },
  {
   "cell_type": "code",
   "execution_count": 21,
   "id": "70f06e02",
   "metadata": {},
   "outputs": [
    {
     "data": {
      "text/html": [
       "<div>\n",
       "<style scoped>\n",
       "    .dataframe tbody tr th:only-of-type {\n",
       "        vertical-align: middle;\n",
       "    }\n",
       "\n",
       "    .dataframe tbody tr th {\n",
       "        vertical-align: top;\n",
       "    }\n",
       "\n",
       "    .dataframe thead th {\n",
       "        text-align: right;\n",
       "    }\n",
       "</style>\n",
       "<table border=\"1\" class=\"dataframe\">\n",
       "  <thead>\n",
       "    <tr style=\"text-align: right;\">\n",
       "      <th></th>\n",
       "      <th>Brand_Ratings</th>\n",
       "      <th>Review_summarys</th>\n",
       "      <th>Full_reviews</th>\n",
       "    </tr>\n",
       "  </thead>\n",
       "  <tbody>\n",
       "    <tr>\n",
       "      <th>0</th>\n",
       "      <td>5</td>\n",
       "      <td>Brilliant</td>\n",
       "      <td>The Best Phone for the Money\\n\\nThe iPhone 11 ...</td>\n",
       "    </tr>\n",
       "    <tr>\n",
       "      <th>1</th>\n",
       "      <td>5</td>\n",
       "      <td>Simply awesome</td>\n",
       "      <td>Really satisfied with the Product I received.....</td>\n",
       "    </tr>\n",
       "    <tr>\n",
       "      <th>2</th>\n",
       "      <td>5</td>\n",
       "      <td>Best in the market!</td>\n",
       "      <td>Great iPhone very snappy experience as apple k...</td>\n",
       "    </tr>\n",
       "    <tr>\n",
       "      <th>3</th>\n",
       "      <td></td>\n",
       "      <td></td>\n",
       "      <td></td>\n",
       "    </tr>\n",
       "    <tr>\n",
       "      <th>4</th>\n",
       "      <td></td>\n",
       "      <td></td>\n",
       "      <td></td>\n",
       "    </tr>\n",
       "    <tr>\n",
       "      <th>5</th>\n",
       "      <td></td>\n",
       "      <td></td>\n",
       "      <td></td>\n",
       "    </tr>\n",
       "    <tr>\n",
       "      <th>6</th>\n",
       "      <td></td>\n",
       "      <td></td>\n",
       "      <td></td>\n",
       "    </tr>\n",
       "    <tr>\n",
       "      <th>7</th>\n",
       "      <td></td>\n",
       "      <td></td>\n",
       "      <td></td>\n",
       "    </tr>\n",
       "    <tr>\n",
       "      <th>8</th>\n",
       "      <td></td>\n",
       "      <td></td>\n",
       "      <td></td>\n",
       "    </tr>\n",
       "    <tr>\n",
       "      <th>9</th>\n",
       "      <td></td>\n",
       "      <td></td>\n",
       "      <td></td>\n",
       "    </tr>\n",
       "  </tbody>\n",
       "</table>\n",
       "</div>"
      ],
      "text/plain": [
       "  Brand_Ratings      Review_summarys  \\\n",
       "0             5            Brilliant   \n",
       "1             5       Simply awesome   \n",
       "2             5  Best in the market!   \n",
       "3                                      \n",
       "4                                      \n",
       "5                                      \n",
       "6                                      \n",
       "7                                      \n",
       "8                                      \n",
       "9                                      \n",
       "\n",
       "                                        Full_reviews  \n",
       "0  The Best Phone for the Money\\n\\nThe iPhone 11 ...  \n",
       "1  Really satisfied with the Product I received.....  \n",
       "2  Great iPhone very snappy experience as apple k...  \n",
       "3                                                     \n",
       "4                                                     \n",
       "5                                                     \n",
       "6                                                     \n",
       "7                                                     \n",
       "8                                                     \n",
       "9                                                     "
      ]
     },
     "execution_count": 21,
     "metadata": {},
     "output_type": "execute_result"
    }
   ],
   "source": [
    "iphone11.head(10)"
   ]
  },
  {
   "cell_type": "markdown",
   "id": "df37cc6f",
   "metadata": {},
   "source": [
    "####  Q6:Scrape data for first 100 sneakers you find when you visit flipkart.com andsearch for “sneakers” in the search field.\n",
    "    1.Brand\n",
    "    2.Product Description\n",
    "    3.Price\n",
    "    4.discount"
   ]
  },
  {
   "cell_type": "code",
   "execution_count": 22,
   "id": "7db98b93",
   "metadata": {},
   "outputs": [],
   "source": [
    "import selenium\n",
    "from selenium import webdriver\n",
    "import pandas as pd\n",
    "import warnings\n",
    "warnings.filterwarnings('ignore')"
   ]
  },
  {
   "cell_type": "code",
   "execution_count": 23,
   "id": "774cc3e6",
   "metadata": {},
   "outputs": [],
   "source": [
    "# first connect to web driver\n",
    "driver = webdriver.Chrome(r'c:\\Users\\Bawla Singh.DESKTOP-KT1PI9D\\Desktop\\chromedriver.exe')"
   ]
  },
  {
   "cell_type": "code",
   "execution_count": 24,
   "id": "987d8e14",
   "metadata": {},
   "outputs": [],
   "source": [
    "driver=webdriver.Chrome('chromedriver.exe')"
   ]
  },
  {
   "cell_type": "code",
   "execution_count": 25,
   "id": "88696692",
   "metadata": {},
   "outputs": [],
   "source": [
    "url='https://www.flipkart.com/'\n",
    "driver.get(url)"
   ]
  },
  {
   "cell_type": "code",
   "execution_count": 26,
   "id": "49f93950",
   "metadata": {},
   "outputs": [
    {
     "data": {
      "text/plain": [
       "<selenium.webdriver.remote.webelement.WebElement (session=\"93bab1b1bea353c07c77c8a065e3fc35\", element=\"5e54ee52-77e6-418e-953e-b23fc14fc314\")>"
      ]
     },
     "execution_count": 26,
     "metadata": {},
     "output_type": "execute_result"
    }
   ],
   "source": [
    "# finding web element for search Brand bar using class name\n",
    "Brand=driver.find_element_by_class_name('_3704LK')\n",
    "Brand"
   ]
  },
  {
   "cell_type": "code",
   "execution_count": 27,
   "id": "acc7c084",
   "metadata": {},
   "outputs": [],
   "source": [
    "Brand.send_keys('sneakers')"
   ]
  },
  {
   "cell_type": "code",
   "execution_count": 28,
   "id": "a29dc36f",
   "metadata": {},
   "outputs": [
    {
     "data": {
      "text/plain": [
       "<selenium.webdriver.remote.webelement.WebElement (session=\"93bab1b1bea353c07c77c8a065e3fc35\", element=\"b79d05ca-bfd0-4f39-9fa2-0e3b084db667\")>"
      ]
     },
     "execution_count": 28,
     "metadata": {},
     "output_type": "execute_result"
    }
   ],
   "source": [
    "# clicking using class name function clicking for search bar\n",
    "search_btn=driver.find_element_by_class_name('L0Z3Pu')\n",
    "search_btn"
   ]
  },
  {
   "cell_type": "code",
   "execution_count": 30,
   "id": "2d95f94d",
   "metadata": {},
   "outputs": [],
   "source": [
    "search_btn.click()"
   ]
  },
  {
   "cell_type": "code",
   "execution_count": 31,
   "id": "b0409759",
   "metadata": {},
   "outputs": [
    {
     "data": {
      "text/plain": [
       "40"
      ]
     },
     "execution_count": 31,
     "metadata": {},
     "output_type": "execute_result"
    }
   ],
   "source": [
    "# Here extract all web elements having Brand_name:\n",
    "Brand_name=driver.find_elements_by_xpath('//div[@class=\"_2WkVRV\"]')\n",
    "len(Brand_name)"
   ]
  },
  {
   "cell_type": "code",
   "execution_count": 32,
   "id": "6eca8e33",
   "metadata": {},
   "outputs": [
    {
     "data": {
      "text/plain": [
       "40"
      ]
     },
     "execution_count": 32,
     "metadata": {},
     "output_type": "execute_result"
    }
   ],
   "source": [
    "Brand_names=[]\n",
    "\n",
    "for i in Brand_name:\n",
    "    Brand_names.append(i.text)\n",
    "len(Brand_names)"
   ]
  },
  {
   "cell_type": "code",
   "execution_count": 33,
   "id": "1050df22",
   "metadata": {},
   "outputs": [
    {
     "data": {
      "text/plain": [
       "['ASTEROID',\n",
       " 'India hub',\n",
       " 'BRUTON',\n",
       " 'Chevit',\n",
       " 'Labbin',\n",
       " 'CLYMB',\n",
       " 'World Wear Footwear',\n",
       " 'be.Yond',\n",
       " 'BRUTON',\n",
       " 'SCATCHITE',\n",
       " 'luxury fashion',\n",
       " 'WIN9',\n",
       " 'SWIGGY',\n",
       " 'Shoes Bank',\n",
       " 'Chevit',\n",
       " 'Anjum',\n",
       " 'Numenzo',\n",
       " 'RapidBox',\n",
       " 'World Wear Footwear',\n",
       " 'Anjum',\n",
       " 'BIRDE',\n",
       " 'Magnolia',\n",
       " 'Rzisbo',\n",
       " 'Anjum',\n",
       " 'Kraasa',\n",
       " 'Kraasa',\n",
       " 'aadi',\n",
       " 'WIN9',\n",
       " 'Noztile',\n",
       " 'ASTEROID',\n",
       " 'Chevit',\n",
       " 'WOODLAND',\n",
       " 'ASTEROID',\n",
       " 'CLYMB',\n",
       " 'Xtoon',\n",
       " 'India hub',\n",
       " 'Robbie jones',\n",
       " 'CLYMB',\n",
       " 'BRUTON',\n",
       " 'Furo']"
      ]
     },
     "execution_count": 33,
     "metadata": {},
     "output_type": "execute_result"
    }
   ],
   "source": [
    "Brand_names"
   ]
  },
  {
   "cell_type": "code",
   "execution_count": 40,
   "id": "c52b9cb9",
   "metadata": {},
   "outputs": [
    {
     "data": {
      "text/plain": [
       "40"
      ]
     },
     "execution_count": 40,
     "metadata": {},
     "output_type": "execute_result"
    }
   ],
   "source": [
    "# Here extract all web elements having price :\n",
    "Brand_price=driver.find_elements_by_xpath('//div[@class=\"_30jeq3\"]')\n",
    "len(Brand_price)"
   ]
  },
  {
   "cell_type": "code",
   "execution_count": 42,
   "id": "3ab6bdae",
   "metadata": {},
   "outputs": [
    {
     "data": {
      "text/plain": [
       "40"
      ]
     },
     "execution_count": 42,
     "metadata": {},
     "output_type": "execute_result"
    }
   ],
   "source": [
    "Brand_prices=[]\n",
    "\n",
    "for i in Brand_price:\n",
    "    Brand_prices.append(i.text)\n",
    "len(Brand_prices)"
   ]
  },
  {
   "cell_type": "code",
   "execution_count": 43,
   "id": "866f7b2b",
   "metadata": {},
   "outputs": [
    {
     "data": {
      "text/plain": [
       "['₹499',\n",
       " '₹429',\n",
       " '₹625',\n",
       " '₹536',\n",
       " '₹474',\n",
       " '₹249',\n",
       " '₹199',\n",
       " '₹575',\n",
       " '₹299',\n",
       " '₹377',\n",
       " '₹449',\n",
       " '₹664',\n",
       " '₹199',\n",
       " '₹398',\n",
       " '₹447',\n",
       " '₹649',\n",
       " '₹474',\n",
       " '₹680',\n",
       " '₹249',\n",
       " '₹650',\n",
       " '₹299',\n",
       " '₹398',\n",
       " '₹549',\n",
       " '₹650',\n",
       " '₹444',\n",
       " '₹444',\n",
       " '₹319',\n",
       " '₹699',\n",
       " '₹429',\n",
       " '₹474',\n",
       " '₹259',\n",
       " '₹1,109',\n",
       " '₹474',\n",
       " '₹699',\n",
       " '₹499',\n",
       " '₹429',\n",
       " '₹499',\n",
       " '₹249',\n",
       " '₹299',\n",
       " '₹1,195']"
      ]
     },
     "execution_count": 43,
     "metadata": {},
     "output_type": "execute_result"
    }
   ],
   "source": [
    "Brand_prices"
   ]
  },
  {
   "cell_type": "code",
   "execution_count": 72,
   "id": "76fdbcf0",
   "metadata": {},
   "outputs": [
    {
     "data": {
      "text/plain": [
       "40"
      ]
     },
     "execution_count": 72,
     "metadata": {},
     "output_type": "execute_result"
    }
   ],
   "source": [
    "# Here extract all web elements having price_ discount :\n",
    "price_discout=driver.find_elements_by_xpath('//div[@class=\"_3Ay6Sb\"]')\n",
    "len(price_discout)"
   ]
  },
  {
   "cell_type": "code",
   "execution_count": 73,
   "id": "3e1aa970",
   "metadata": {},
   "outputs": [
    {
     "data": {
      "text/plain": [
       "40"
      ]
     },
     "execution_count": 73,
     "metadata": {},
     "output_type": "execute_result"
    }
   ],
   "source": [
    "price_discountes=[]\n",
    "\n",
    "for i in price_discout:\n",
    "    price_discountes.append(i.text)\n",
    "len(price_discountes)"
   ]
  },
  {
   "cell_type": "code",
   "execution_count": 74,
   "id": "6b7dcea4",
   "metadata": {},
   "outputs": [
    {
     "data": {
      "text/plain": [
       "['75% off',\n",
       " '78% off',\n",
       " '82% off',\n",
       " '66% off',\n",
       " '52% off',\n",
       " '75% off',\n",
       " '60% off',\n",
       " '48% off',\n",
       " '76% off',\n",
       " '62% off',\n",
       " '65% off',\n",
       " '74% off',\n",
       " '60% off',\n",
       " '60% off',\n",
       " '75% off',\n",
       " '40% off',\n",
       " '76% off',\n",
       " '31% off',\n",
       " '50% off',\n",
       " '40% off',\n",
       " '40% off',\n",
       " '60% off',\n",
       " '45% off',\n",
       " '40% off',\n",
       " '55% off',\n",
       " '55% off',\n",
       " '84% off',\n",
       " '76% off',\n",
       " '78% off',\n",
       " '76% off',\n",
       " '67% off',\n",
       " '44% off',\n",
       " '52% off',\n",
       " '53% off',\n",
       " '66% off',\n",
       " '85% off',\n",
       " '50% off',\n",
       " '75% off',\n",
       " '76% off',\n",
       " '7% off']"
      ]
     },
     "execution_count": 74,
     "metadata": {},
     "output_type": "execute_result"
    }
   ],
   "source": [
    "price_discountes"
   ]
  },
  {
   "cell_type": "code",
   "execution_count": 56,
   "id": "b671a9cc",
   "metadata": {},
   "outputs": [
    {
     "data": {
      "text/plain": [
       "30"
      ]
     },
     "execution_count": 56,
     "metadata": {},
     "output_type": "execute_result"
    }
   ],
   "source": [
    "# Here extract all web elements having Product Description:\n",
    "Product_Descri=driver.find_elements_by_xpath('//a[@class=\"IRpwTa\"]')                # ('//a[@class=\"IRpwTa\"]')\n",
    "len(Product_Descri)"
   ]
  },
  {
   "cell_type": "code",
   "execution_count": 57,
   "id": "5c109c1f",
   "metadata": {},
   "outputs": [
    {
     "data": {
      "text/plain": [
       "10"
      ]
     },
     "execution_count": 57,
     "metadata": {},
     "output_type": "execute_result"
    }
   ],
   "source": [
    "# Here extract all web elements having Product Description:\n",
    "Product_Descri1=driver.find_elements_by_xpath('//a[@class=\"IRpwTa _2-ICcC\"]')                # ('//a[@class=\"IRpwTa\"]')\n",
    "len(Product_Descri1)"
   ]
  },
  {
   "cell_type": "code",
   "execution_count": 67,
   "id": "a150e1a9",
   "metadata": {},
   "outputs": [
    {
     "data": {
      "text/plain": [
       "40"
      ]
     },
     "execution_count": 67,
     "metadata": {},
     "output_type": "execute_result"
    }
   ],
   "source": [
    "Product_Descriptions=[]\n",
    "\n",
    "for i in Product_Descri+Product_Descri1:\n",
    "    Product_Descriptions.append(i.text)\n",
    "    \n",
    "len(Product_Descriptions)"
   ]
  },
  {
   "cell_type": "code",
   "execution_count": 69,
   "id": "689a75fb",
   "metadata": {},
   "outputs": [
    {
     "data": {
      "text/plain": [
       "['ColorBlock Stylish Fashion Sneakers Classic Flat Casual...',\n",
       " 'Luxury Fashionable casual sneaker shoes Sneakers For Me...',\n",
       " 'Combo Pack Of 4 Casual Shoes Loafer Shoes Sneakers For ...',\n",
       " 'Super Stylish & Trendy Combo Pack of 02 Pairs Sneakers ...',\n",
       " 'Sneakers For Men',\n",
       " \"Perfect Sports Shoes for Men's Running ,Cycling & Trekk...\",\n",
       " '5011-Latest Collection Stylish Casual Loafer Sneakers S...',\n",
       " 'Modern Trendy Shoes Sneakers For Men',\n",
       " 'Sneakers Sneakers For Men',\n",
       " 'Sneakers For Men',\n",
       " 'SWIGGY Casual, Lace Up, Sneaker, canvas, Top rated, Lig...',\n",
       " \"White Sneaker For Men's/Boy's Sneakers For Men\",\n",
       " 'Perfect & Affordable Combo Pack of 02 Pairs Sneakers Ou...',\n",
       " '411 Casual Sneakers For Men',\n",
       " 'Sports Running Shoes Sneakers For Men',\n",
       " 'Sneakers For Men',\n",
       " 'Series 7 Sneakers For Men',\n",
       " 'Shark-41 Sneakers For Men',\n",
       " 'Sneakers For Men',\n",
       " 'Sneakers For Men',\n",
       " \"Original Luxury Branded Fashionable Men's Casual Walkin...\",\n",
       " 'Sneakers For Men',\n",
       " \"Original Luxury Branded Fashionable Men's Casual Walkin...\",\n",
       " 'Sneakers For Men',\n",
       " \"white Casual shoes,Sneakers for men's Sneakers For Men\",\n",
       " 'Sneakers For Men',\n",
       " 'Sneakers For Men',\n",
       " 'Clymb Training & Gym Shoes For Men Sneakers For Men',\n",
       " 'Lattest Sneakers Shoe Sneakers For Men',\n",
       " 'Sneakers For Men',\n",
       " 'Casual|Light Weight|Comfortable| Sneakers For Men',\n",
       " 'Sneakers For Men',\n",
       " 'Fancy mens shoes For running ,walking,sports shoes Snea...',\n",
       " 'Sneakers For Men',\n",
       " 'Sneakers For Men',\n",
       " 'Fancy mens shoes For running ,walking,sports shoes Snea...',\n",
       " 'Sneakers For Men',\n",
       " 'Fancy mens shoes For running ,walking,sports shoes Snea...',\n",
       " 'WINC-5-black Sneakers For Men',\n",
       " '516 Trendy Star Perfect Sneakers For Men']"
      ]
     },
     "execution_count": 69,
     "metadata": {},
     "output_type": "execute_result"
    }
   ],
   "source": [
    "Product_Descriptions"
   ]
  },
  {
   "cell_type": "code",
   "execution_count": 62,
   "id": "50eb2840",
   "metadata": {},
   "outputs": [
    {
     "data": {
      "text/plain": [
       "(40, 40, 40, 40)"
      ]
     },
     "execution_count": 62,
     "metadata": {},
     "output_type": "execute_result"
    }
   ],
   "source": [
    "# Finally create a dataframe of the scraped data\n",
    "len(Brand_names),len(Product_Descriptions),len(Brand_prices),len(price_discountes)"
   ]
  },
  {
   "cell_type": "code",
   "execution_count": 75,
   "id": "4bd29068",
   "metadata": {},
   "outputs": [],
   "source": [
    "sneakers =pd.DataFrame()\n",
    "sneakers ['Brand_names']=Brand_names\n",
    "sneakers ['Product_Descriptions']=Product_Descriptions\n",
    "sneakers ['Brand_prices']=Brand_prices\n",
    "sneakers ['price_discountes']=price_discountes"
   ]
  },
  {
   "cell_type": "code",
   "execution_count": 76,
   "id": "8603c74a",
   "metadata": {},
   "outputs": [
    {
     "data": {
      "text/html": [
       "<div>\n",
       "<style scoped>\n",
       "    .dataframe tbody tr th:only-of-type {\n",
       "        vertical-align: middle;\n",
       "    }\n",
       "\n",
       "    .dataframe tbody tr th {\n",
       "        vertical-align: top;\n",
       "    }\n",
       "\n",
       "    .dataframe thead th {\n",
       "        text-align: right;\n",
       "    }\n",
       "</style>\n",
       "<table border=\"1\" class=\"dataframe\">\n",
       "  <thead>\n",
       "    <tr style=\"text-align: right;\">\n",
       "      <th></th>\n",
       "      <th>Brand_names</th>\n",
       "      <th>Product_Descriptions</th>\n",
       "      <th>Brand_prices</th>\n",
       "      <th>price_discountes</th>\n",
       "    </tr>\n",
       "  </thead>\n",
       "  <tbody>\n",
       "    <tr>\n",
       "      <th>0</th>\n",
       "      <td>ASTEROID</td>\n",
       "      <td>ColorBlock Stylish Fashion Sneakers Classic Fl...</td>\n",
       "      <td>₹499</td>\n",
       "      <td>75% off</td>\n",
       "    </tr>\n",
       "    <tr>\n",
       "      <th>1</th>\n",
       "      <td>India hub</td>\n",
       "      <td>Luxury Fashionable casual sneaker shoes Sneake...</td>\n",
       "      <td>₹429</td>\n",
       "      <td>78% off</td>\n",
       "    </tr>\n",
       "    <tr>\n",
       "      <th>2</th>\n",
       "      <td>BRUTON</td>\n",
       "      <td>Combo Pack Of 4 Casual Shoes Loafer Shoes Snea...</td>\n",
       "      <td>₹625</td>\n",
       "      <td>82% off</td>\n",
       "    </tr>\n",
       "    <tr>\n",
       "      <th>3</th>\n",
       "      <td>Chevit</td>\n",
       "      <td>Super Stylish &amp; Trendy Combo Pack of 02 Pairs ...</td>\n",
       "      <td>₹536</td>\n",
       "      <td>66% off</td>\n",
       "    </tr>\n",
       "    <tr>\n",
       "      <th>4</th>\n",
       "      <td>Labbin</td>\n",
       "      <td>Sneakers For Men</td>\n",
       "      <td>₹474</td>\n",
       "      <td>52% off</td>\n",
       "    </tr>\n",
       "    <tr>\n",
       "      <th>5</th>\n",
       "      <td>CLYMB</td>\n",
       "      <td>Perfect Sports Shoes for Men's Running ,Cyclin...</td>\n",
       "      <td>₹249</td>\n",
       "      <td>75% off</td>\n",
       "    </tr>\n",
       "    <tr>\n",
       "      <th>6</th>\n",
       "      <td>World Wear Footwear</td>\n",
       "      <td>5011-Latest Collection Stylish Casual Loafer S...</td>\n",
       "      <td>₹199</td>\n",
       "      <td>60% off</td>\n",
       "    </tr>\n",
       "    <tr>\n",
       "      <th>7</th>\n",
       "      <td>be.Yond</td>\n",
       "      <td>Modern Trendy Shoes Sneakers For Men</td>\n",
       "      <td>₹575</td>\n",
       "      <td>48% off</td>\n",
       "    </tr>\n",
       "    <tr>\n",
       "      <th>8</th>\n",
       "      <td>BRUTON</td>\n",
       "      <td>Sneakers Sneakers For Men</td>\n",
       "      <td>₹299</td>\n",
       "      <td>76% off</td>\n",
       "    </tr>\n",
       "    <tr>\n",
       "      <th>9</th>\n",
       "      <td>SCATCHITE</td>\n",
       "      <td>Sneakers For Men</td>\n",
       "      <td>₹377</td>\n",
       "      <td>62% off</td>\n",
       "    </tr>\n",
       "    <tr>\n",
       "      <th>10</th>\n",
       "      <td>luxury fashion</td>\n",
       "      <td>SWIGGY Casual, Lace Up, Sneaker, canvas, Top r...</td>\n",
       "      <td>₹449</td>\n",
       "      <td>65% off</td>\n",
       "    </tr>\n",
       "    <tr>\n",
       "      <th>11</th>\n",
       "      <td>WIN9</td>\n",
       "      <td>White Sneaker For Men's/Boy's Sneakers For Men</td>\n",
       "      <td>₹664</td>\n",
       "      <td>74% off</td>\n",
       "    </tr>\n",
       "    <tr>\n",
       "      <th>12</th>\n",
       "      <td>SWIGGY</td>\n",
       "      <td>Perfect &amp; Affordable Combo Pack of 02 Pairs Sn...</td>\n",
       "      <td>₹199</td>\n",
       "      <td>60% off</td>\n",
       "    </tr>\n",
       "    <tr>\n",
       "      <th>13</th>\n",
       "      <td>Shoes Bank</td>\n",
       "      <td>411 Casual Sneakers For Men</td>\n",
       "      <td>₹398</td>\n",
       "      <td>60% off</td>\n",
       "    </tr>\n",
       "    <tr>\n",
       "      <th>14</th>\n",
       "      <td>Chevit</td>\n",
       "      <td>Sports Running Shoes Sneakers For Men</td>\n",
       "      <td>₹447</td>\n",
       "      <td>75% off</td>\n",
       "    </tr>\n",
       "    <tr>\n",
       "      <th>15</th>\n",
       "      <td>Anjum</td>\n",
       "      <td>Sneakers For Men</td>\n",
       "      <td>₹649</td>\n",
       "      <td>40% off</td>\n",
       "    </tr>\n",
       "    <tr>\n",
       "      <th>16</th>\n",
       "      <td>Numenzo</td>\n",
       "      <td>Series 7 Sneakers For Men</td>\n",
       "      <td>₹474</td>\n",
       "      <td>76% off</td>\n",
       "    </tr>\n",
       "    <tr>\n",
       "      <th>17</th>\n",
       "      <td>RapidBox</td>\n",
       "      <td>Shark-41 Sneakers For Men</td>\n",
       "      <td>₹680</td>\n",
       "      <td>31% off</td>\n",
       "    </tr>\n",
       "    <tr>\n",
       "      <th>18</th>\n",
       "      <td>World Wear Footwear</td>\n",
       "      <td>Sneakers For Men</td>\n",
       "      <td>₹249</td>\n",
       "      <td>50% off</td>\n",
       "    </tr>\n",
       "    <tr>\n",
       "      <th>19</th>\n",
       "      <td>Anjum</td>\n",
       "      <td>Sneakers For Men</td>\n",
       "      <td>₹650</td>\n",
       "      <td>40% off</td>\n",
       "    </tr>\n",
       "    <tr>\n",
       "      <th>20</th>\n",
       "      <td>BIRDE</td>\n",
       "      <td>Original Luxury Branded Fashionable Men's Casu...</td>\n",
       "      <td>₹299</td>\n",
       "      <td>40% off</td>\n",
       "    </tr>\n",
       "    <tr>\n",
       "      <th>21</th>\n",
       "      <td>Magnolia</td>\n",
       "      <td>Sneakers For Men</td>\n",
       "      <td>₹398</td>\n",
       "      <td>60% off</td>\n",
       "    </tr>\n",
       "    <tr>\n",
       "      <th>22</th>\n",
       "      <td>Rzisbo</td>\n",
       "      <td>Original Luxury Branded Fashionable Men's Casu...</td>\n",
       "      <td>₹549</td>\n",
       "      <td>45% off</td>\n",
       "    </tr>\n",
       "    <tr>\n",
       "      <th>23</th>\n",
       "      <td>Anjum</td>\n",
       "      <td>Sneakers For Men</td>\n",
       "      <td>₹650</td>\n",
       "      <td>40% off</td>\n",
       "    </tr>\n",
       "    <tr>\n",
       "      <th>24</th>\n",
       "      <td>Kraasa</td>\n",
       "      <td>white Casual shoes,Sneakers for men's Sneakers...</td>\n",
       "      <td>₹444</td>\n",
       "      <td>55% off</td>\n",
       "    </tr>\n",
       "    <tr>\n",
       "      <th>25</th>\n",
       "      <td>Kraasa</td>\n",
       "      <td>Sneakers For Men</td>\n",
       "      <td>₹444</td>\n",
       "      <td>55% off</td>\n",
       "    </tr>\n",
       "    <tr>\n",
       "      <th>26</th>\n",
       "      <td>aadi</td>\n",
       "      <td>Sneakers For Men</td>\n",
       "      <td>₹319</td>\n",
       "      <td>84% off</td>\n",
       "    </tr>\n",
       "    <tr>\n",
       "      <th>27</th>\n",
       "      <td>WIN9</td>\n",
       "      <td>Clymb Training &amp; Gym Shoes For Men Sneakers Fo...</td>\n",
       "      <td>₹699</td>\n",
       "      <td>76% off</td>\n",
       "    </tr>\n",
       "    <tr>\n",
       "      <th>28</th>\n",
       "      <td>Noztile</td>\n",
       "      <td>Lattest Sneakers Shoe Sneakers For Men</td>\n",
       "      <td>₹429</td>\n",
       "      <td>78% off</td>\n",
       "    </tr>\n",
       "    <tr>\n",
       "      <th>29</th>\n",
       "      <td>ASTEROID</td>\n",
       "      <td>Sneakers For Men</td>\n",
       "      <td>₹474</td>\n",
       "      <td>76% off</td>\n",
       "    </tr>\n",
       "    <tr>\n",
       "      <th>30</th>\n",
       "      <td>Chevit</td>\n",
       "      <td>Casual|Light Weight|Comfortable| Sneakers For Men</td>\n",
       "      <td>₹259</td>\n",
       "      <td>67% off</td>\n",
       "    </tr>\n",
       "    <tr>\n",
       "      <th>31</th>\n",
       "      <td>WOODLAND</td>\n",
       "      <td>Sneakers For Men</td>\n",
       "      <td>₹1,109</td>\n",
       "      <td>44% off</td>\n",
       "    </tr>\n",
       "    <tr>\n",
       "      <th>32</th>\n",
       "      <td>ASTEROID</td>\n",
       "      <td>Fancy mens shoes For running ,walking,sports s...</td>\n",
       "      <td>₹474</td>\n",
       "      <td>52% off</td>\n",
       "    </tr>\n",
       "    <tr>\n",
       "      <th>33</th>\n",
       "      <td>CLYMB</td>\n",
       "      <td>Sneakers For Men</td>\n",
       "      <td>₹699</td>\n",
       "      <td>53% off</td>\n",
       "    </tr>\n",
       "    <tr>\n",
       "      <th>34</th>\n",
       "      <td>Xtoon</td>\n",
       "      <td>Sneakers For Men</td>\n",
       "      <td>₹499</td>\n",
       "      <td>66% off</td>\n",
       "    </tr>\n",
       "    <tr>\n",
       "      <th>35</th>\n",
       "      <td>India hub</td>\n",
       "      <td>Fancy mens shoes For running ,walking,sports s...</td>\n",
       "      <td>₹429</td>\n",
       "      <td>85% off</td>\n",
       "    </tr>\n",
       "    <tr>\n",
       "      <th>36</th>\n",
       "      <td>Robbie jones</td>\n",
       "      <td>Sneakers For Men</td>\n",
       "      <td>₹499</td>\n",
       "      <td>50% off</td>\n",
       "    </tr>\n",
       "    <tr>\n",
       "      <th>37</th>\n",
       "      <td>CLYMB</td>\n",
       "      <td>Fancy mens shoes For running ,walking,sports s...</td>\n",
       "      <td>₹249</td>\n",
       "      <td>75% off</td>\n",
       "    </tr>\n",
       "    <tr>\n",
       "      <th>38</th>\n",
       "      <td>BRUTON</td>\n",
       "      <td>WINC-5-black Sneakers For Men</td>\n",
       "      <td>₹299</td>\n",
       "      <td>76% off</td>\n",
       "    </tr>\n",
       "    <tr>\n",
       "      <th>39</th>\n",
       "      <td>Furo</td>\n",
       "      <td>516 Trendy Star Perfect Sneakers For Men</td>\n",
       "      <td>₹1,195</td>\n",
       "      <td>7% off</td>\n",
       "    </tr>\n",
       "  </tbody>\n",
       "</table>\n",
       "</div>"
      ],
      "text/plain": [
       "            Brand_names                               Product_Descriptions  \\\n",
       "0              ASTEROID  ColorBlock Stylish Fashion Sneakers Classic Fl...   \n",
       "1             India hub  Luxury Fashionable casual sneaker shoes Sneake...   \n",
       "2                BRUTON  Combo Pack Of 4 Casual Shoes Loafer Shoes Snea...   \n",
       "3                Chevit  Super Stylish & Trendy Combo Pack of 02 Pairs ...   \n",
       "4                Labbin                                   Sneakers For Men   \n",
       "5                 CLYMB  Perfect Sports Shoes for Men's Running ,Cyclin...   \n",
       "6   World Wear Footwear  5011-Latest Collection Stylish Casual Loafer S...   \n",
       "7               be.Yond               Modern Trendy Shoes Sneakers For Men   \n",
       "8                BRUTON                          Sneakers Sneakers For Men   \n",
       "9             SCATCHITE                                   Sneakers For Men   \n",
       "10       luxury fashion  SWIGGY Casual, Lace Up, Sneaker, canvas, Top r...   \n",
       "11                 WIN9     White Sneaker For Men's/Boy's Sneakers For Men   \n",
       "12               SWIGGY  Perfect & Affordable Combo Pack of 02 Pairs Sn...   \n",
       "13           Shoes Bank                        411 Casual Sneakers For Men   \n",
       "14               Chevit              Sports Running Shoes Sneakers For Men   \n",
       "15                Anjum                                   Sneakers For Men   \n",
       "16              Numenzo                          Series 7 Sneakers For Men   \n",
       "17             RapidBox                          Shark-41 Sneakers For Men   \n",
       "18  World Wear Footwear                                   Sneakers For Men   \n",
       "19                Anjum                                   Sneakers For Men   \n",
       "20                BIRDE  Original Luxury Branded Fashionable Men's Casu...   \n",
       "21             Magnolia                                   Sneakers For Men   \n",
       "22               Rzisbo  Original Luxury Branded Fashionable Men's Casu...   \n",
       "23                Anjum                                   Sneakers For Men   \n",
       "24               Kraasa  white Casual shoes,Sneakers for men's Sneakers...   \n",
       "25               Kraasa                                   Sneakers For Men   \n",
       "26                 aadi                                   Sneakers For Men   \n",
       "27                 WIN9  Clymb Training & Gym Shoes For Men Sneakers Fo...   \n",
       "28              Noztile             Lattest Sneakers Shoe Sneakers For Men   \n",
       "29             ASTEROID                                   Sneakers For Men   \n",
       "30               Chevit  Casual|Light Weight|Comfortable| Sneakers For Men   \n",
       "31             WOODLAND                                   Sneakers For Men   \n",
       "32             ASTEROID  Fancy mens shoes For running ,walking,sports s...   \n",
       "33                CLYMB                                   Sneakers For Men   \n",
       "34                Xtoon                                   Sneakers For Men   \n",
       "35            India hub  Fancy mens shoes For running ,walking,sports s...   \n",
       "36         Robbie jones                                   Sneakers For Men   \n",
       "37                CLYMB  Fancy mens shoes For running ,walking,sports s...   \n",
       "38               BRUTON                      WINC-5-black Sneakers For Men   \n",
       "39                 Furo           516 Trendy Star Perfect Sneakers For Men   \n",
       "\n",
       "   Brand_prices price_discountes  \n",
       "0          ₹499          75% off  \n",
       "1          ₹429          78% off  \n",
       "2          ₹625          82% off  \n",
       "3          ₹536          66% off  \n",
       "4          ₹474          52% off  \n",
       "5          ₹249          75% off  \n",
       "6          ₹199          60% off  \n",
       "7          ₹575          48% off  \n",
       "8          ₹299          76% off  \n",
       "9          ₹377          62% off  \n",
       "10         ₹449          65% off  \n",
       "11         ₹664          74% off  \n",
       "12         ₹199          60% off  \n",
       "13         ₹398          60% off  \n",
       "14         ₹447          75% off  \n",
       "15         ₹649          40% off  \n",
       "16         ₹474          76% off  \n",
       "17         ₹680          31% off  \n",
       "18         ₹249          50% off  \n",
       "19         ₹650          40% off  \n",
       "20         ₹299          40% off  \n",
       "21         ₹398          60% off  \n",
       "22         ₹549          45% off  \n",
       "23         ₹650          40% off  \n",
       "24         ₹444          55% off  \n",
       "25         ₹444          55% off  \n",
       "26         ₹319          84% off  \n",
       "27         ₹699          76% off  \n",
       "28         ₹429          78% off  \n",
       "29         ₹474          76% off  \n",
       "30         ₹259          67% off  \n",
       "31       ₹1,109          44% off  \n",
       "32         ₹474          52% off  \n",
       "33         ₹699          53% off  \n",
       "34         ₹499          66% off  \n",
       "35         ₹429          85% off  \n",
       "36         ₹499          50% off  \n",
       "37         ₹249          75% off  \n",
       "38         ₹299          76% off  \n",
       "39       ₹1,195           7% off  "
      ]
     },
     "execution_count": 76,
     "metadata": {},
     "output_type": "execute_result"
    }
   ],
   "source": [
    "sneakers.head(40)"
   ]
  },
  {
   "cell_type": "markdown",
   "id": "27221309",
   "metadata": {},
   "source": [
    "#### Q7:Go to the link - https://www.myntra.com/shoes\n",
    "    Set Price filter to “Rs. 7149 to Rs. 14099 ” , Color filter to “Black”, \n",
    "    1.Brand of the shoe \n",
    "    2.Shoe description\n",
    "    3.price of the shoe "
   ]
  },
  {
   "cell_type": "code",
   "execution_count": 10,
   "id": "20517abc",
   "metadata": {},
   "outputs": [],
   "source": [
    "import selenium\n",
    "import pandas as pd\n",
    "from selenium import webdriver as wb\n",
    "import warnings\n",
    "warnings.filterwarnings('ignore')"
   ]
  },
  {
   "cell_type": "code",
   "execution_count": 11,
   "id": "3c06fea9",
   "metadata": {},
   "outputs": [],
   "source": [
    "driver = webdriver.Chrome(r'c:\\Users\\Bawla Singh.DESKTOP-KT1PI9D\\Desktop\\chromedriver.exe')"
   ]
  },
  {
   "cell_type": "code",
   "execution_count": 12,
   "id": "b9ef831c",
   "metadata": {},
   "outputs": [],
   "source": [
    "driver=webdriver.Chrome('chromedriver.exe')"
   ]
  },
  {
   "cell_type": "code",
   "execution_count": 13,
   "id": "890a12a1",
   "metadata": {},
   "outputs": [],
   "source": [
    "url='https://www.myntra.com/shoes'\n",
    "driver.get(url)"
   ]
  },
  {
   "cell_type": "code",
   "execution_count": 14,
   "id": "382aec94",
   "metadata": {},
   "outputs": [],
   "source": [
    "#finding web element for shoe color_check\n",
    "color_check=driver.find_element_by_xpath(\"/html/body/div[2]/div/div[1]/main/div[3]/div[1]/section/div/div[6]/ul/li[1]/label/div\")"
   ]
  },
  {
   "cell_type": "code",
   "execution_count": 15,
   "id": "78a0b9a5",
   "metadata": {},
   "outputs": [],
   "source": [
    "color_check.click()"
   ]
  },
  {
   "cell_type": "code",
   "execution_count": 16,
   "id": "caa413de",
   "metadata": {},
   "outputs": [],
   "source": [
    "#finding web element for shoe price_check\n",
    "price_check=driver.find_element_by_xpath(\"/html/body/div[2]/div/div[1]/main/div[3]/div[1]/section/div/div[5]/ul/li[2]/label/div\")"
   ]
  },
  {
   "cell_type": "code",
   "execution_count": 17,
   "id": "5f3f457e",
   "metadata": {},
   "outputs": [],
   "source": [
    "price_check.click()"
   ]
  },
  {
   "cell_type": "code",
   "execution_count": 25,
   "id": "86ebdb66",
   "metadata": {},
   "outputs": [
    {
     "data": {
      "text/plain": [
       "50"
      ]
     },
     "execution_count": 25,
     "metadata": {},
     "output_type": "execute_result"
    }
   ],
   "source": [
    "# Here extract all web elements having Brand of the shoe:\n",
    "shoe_brand=driver.find_elements_by_xpath('//h3[@class=\"product-brand\"]')\n",
    "len(shoe_brand)"
   ]
  },
  {
   "cell_type": "code",
   "execution_count": 44,
   "id": "04b54bef",
   "metadata": {},
   "outputs": [
    {
     "data": {
      "text/plain": [
       "50"
      ]
     },
     "execution_count": 44,
     "metadata": {},
     "output_type": "execute_result"
    }
   ],
   "source": [
    "shoe_brands=[]\n",
    "\n",
    "for i in shoe_brand:\n",
    "    shoe_brands.append(i.text)\n",
    "len(shoe_brands)    "
   ]
  },
  {
   "cell_type": "code",
   "execution_count": 45,
   "id": "c50cf3a7",
   "metadata": {},
   "outputs": [
    {
     "data": {
      "text/plain": [
       "['Nike',\n",
       " 'Nike',\n",
       " 'ALDO',\n",
       " 'Tommy Hilfiger',\n",
       " 'Puma',\n",
       " 'Nike',\n",
       " 'Tommy Hilfiger',\n",
       " 'Tommy Hilfiger',\n",
       " 'PUMA Motorsport',\n",
       " 'Tommy Hilfiger',\n",
       " 'Puma',\n",
       " 'Puma',\n",
       " 'Puma',\n",
       " 'New Balance',\n",
       " 'RARE RABBIT',\n",
       " 'Puma',\n",
       " 'Puma',\n",
       " 'Skechers',\n",
       " 'Tommy Hilfiger',\n",
       " 'New Balance',\n",
       " 'Hush Puppies',\n",
       " 'Skechers',\n",
       " 'Hush Puppies',\n",
       " 'RARE RABBIT',\n",
       " 'Puma',\n",
       " 'New Balance',\n",
       " 'Hush Puppies',\n",
       " 'DAVINCHI',\n",
       " 'Saint G',\n",
       " 'Hush Puppies',\n",
       " 'Clarks',\n",
       " 'Xtep',\n",
       " 'Saint G',\n",
       " 'Hush Puppies',\n",
       " 'Saint G',\n",
       " 'Saint G',\n",
       " 'ASICS',\n",
       " 'Geox',\n",
       " 'J.FONTINI',\n",
       " 'Bugatti',\n",
       " 'Heel & Buckle London',\n",
       " 'Hush Puppies',\n",
       " 'J.FONTINI',\n",
       " 'DAVINCHI',\n",
       " 'Saint G',\n",
       " 'Tommy Hilfiger',\n",
       " 'Bugatti',\n",
       " 'Geox',\n",
       " 'Columbia',\n",
       " 'Clarks']"
      ]
     },
     "execution_count": 45,
     "metadata": {},
     "output_type": "execute_result"
    }
   ],
   "source": [
    "shoe_brands"
   ]
  },
  {
   "cell_type": "code",
   "execution_count": 39,
   "id": "06bd350c",
   "metadata": {},
   "outputs": [
    {
     "data": {
      "text/plain": [
       "50"
      ]
     },
     "execution_count": 39,
     "metadata": {},
     "output_type": "execute_result"
    }
   ],
   "source": [
    "shoe_brands=[]\n",
    "\n",
    "for i in shoe_brand:\n",
    "    shoe_brands.append(i.text)\n",
    "len(shoe_brands)"
   ]
  },
  {
   "cell_type": "code",
   "execution_count": 23,
   "id": "e3bbd8c7",
   "metadata": {},
   "outputs": [
    {
     "data": {
      "text/plain": [
       "50"
      ]
     },
     "execution_count": 23,
     "metadata": {},
     "output_type": "execute_result"
    }
   ],
   "source": [
    "# Here extract all web elements having shoe_Descriptions\n",
    "shoe_Description=driver.find_elements_by_xpath('//h4[@class=\"product-product\"]')\n",
    "len(shoe_Description)"
   ]
  },
  {
   "cell_type": "code",
   "execution_count": 144,
   "id": "fe3235dc",
   "metadata": {},
   "outputs": [],
   "source": [
    "shoe_Descriptions=[]\n",
    "\n",
    "for i in shoe_Description:\n",
    "    shoe_Descriptions.append(i.text)\n",
    "    len(shoe_Descriptions)"
   ]
  },
  {
   "cell_type": "code",
   "execution_count": 145,
   "id": "c55fbf97",
   "metadata": {},
   "outputs": [
    {
     "data": {
      "text/plain": [
       "['Men AIR ZOOM PEGASUS 38',\n",
       " 'Men Leather Sneakers',\n",
       " 'Men Magnify Nitro Running',\n",
       " 'Men Leather Sneakers',\n",
       " 'Men Blazer Court Skateboarding',\n",
       " 'Men Textured Loafers',\n",
       " 'Men Leather Sneakers',\n",
       " 'Men Deviate Nitro Running Shoe',\n",
       " 'Men Running Shoes',\n",
       " 'Men Leather Slip-On Sneakers',\n",
       " 'Men Training or Gym Shoes',\n",
       " 'Women Magnify Nitro Shoes',\n",
       " 'Men Jamming 2.0 Running Shoes',\n",
       " 'Men Solid Leather Formal Slip-Ons',\n",
       " 'Leather Sandals',\n",
       " 'Men Astroride Forever Running',\n",
       " 'Men Solid Formal Slip-Ons',\n",
       " 'Women Eternity NITRO Shoes',\n",
       " 'Men Perforations Leather Slip-On Sneakers',\n",
       " 'Men Solid Leather Formal Slip-Ons',\n",
       " 'Men Formal Derbys',\n",
       " 'Men Leather Formal Loafers',\n",
       " 'Men Running Shoes',\n",
       " 'Men Walking Shoes',\n",
       " 'Men Black Leather Loafers',\n",
       " 'Men Textured Leather High-Top Flat Boots',\n",
       " 'Men Leather Chelsea Boots',\n",
       " 'Ustraa black',\n",
       " 'Men Solid Leather Formal Derbys',\n",
       " 'Women Leather Heeled Boots',\n",
       " 'Women Leather Heeled Boots',\n",
       " 'Men Leather Formal Derbys',\n",
       " 'Women Leather Penny Loafers',\n",
       " 'Men Mid-Top Chelsea Boots',\n",
       " 'Men Leather Driving Shoes',\n",
       " 'Men Leather Flat Boots',\n",
       " 'Men Textured Formal Leather Loafers',\n",
       " 'Men Textured Leather Formal Loafers',\n",
       " 'Suede High-Top Flatform Heeled Boots',\n",
       " 'Men Solid Leather Formal Brogues',\n",
       " 'Men Leather Driving Shoes',\n",
       " 'Men Wingtip Oxford Sneakers',\n",
       " 'Men Black Walking Shoes',\n",
       " 'NEWTON RIDGE PLUS II WATERPROOF',\n",
       " 'Men Textured Leather Loafers',\n",
       " 'Men Textured Leather Loafers',\n",
       " 'Women Woven Running Shoes',\n",
       " 'Men Solid Loafers',\n",
       " 'Women REDMOND V2 TrekkingShoe',\n",
       " 'PEAKFREAK OUTDRY Trekking Shoe']"
      ]
     },
     "execution_count": 145,
     "metadata": {},
     "output_type": "execute_result"
    }
   ],
   "source": [
    "shoe_Descriptions"
   ]
  },
  {
   "cell_type": "code",
   "execution_count": 154,
   "id": "1d08c7aa",
   "metadata": {},
   "outputs": [
    {
     "data": {
      "text/plain": [
       "50"
      ]
     },
     "execution_count": 154,
     "metadata": {},
     "output_type": "execute_result"
    }
   ],
   "source": [
    "shoe_price=driver.find_elements_by_xpath('//div[@class=\"product-price\"]')\n",
    "len(shoe_price)"
   ]
  },
  {
   "cell_type": "code",
   "execution_count": 155,
   "id": "5cb7e6ae",
   "metadata": {},
   "outputs": [
    {
     "data": {
      "text/plain": [
       "50"
      ]
     },
     "execution_count": 155,
     "metadata": {},
     "output_type": "execute_result"
    }
   ],
   "source": [
    "shoe_prices=[]\n",
    "\n",
    "for i in shoe_price:\n",
    "    shoe_prices.append(i.text)\n",
    "len(shoe_prices)"
   ]
  },
  {
   "cell_type": "code",
   "execution_count": 158,
   "id": "254b3805",
   "metadata": {},
   "outputs": [
    {
     "data": {
      "text/plain": [
       "['Rs. 9770Rs. 11495(15% OFF)',\n",
       " 'Rs. 7999',\n",
       " 'Rs. 7799Rs. 12999(40% OFF)',\n",
       " 'Rs. 7999',\n",
       " 'Rs. 7495',\n",
       " 'Rs. 8599',\n",
       " 'Rs. 7999',\n",
       " 'Rs. 9749Rs. 14999(35% OFF)',\n",
       " 'Rs. 9749Rs. 12999(25% OFF)',\n",
       " 'Rs. 7999',\n",
       " 'Rs. 7999',\n",
       " 'Rs. 7799Rs. 12999(40% OFF)',\n",
       " 'Rs. 12999',\n",
       " 'Rs. 8099Rs. 8999(10% OFF)',\n",
       " 'Rs. 7599',\n",
       " 'Rs. 7199Rs. 7999(10% OFF)',\n",
       " 'Rs. 8999Rs. 9999(10% OFF)',\n",
       " 'Rs. 12999',\n",
       " 'Rs. 7999',\n",
       " 'Rs. 8999Rs. 9999(10% OFF)',\n",
       " 'Rs. 8999Rs. 9999(10% OFF)',\n",
       " 'Rs. 7499',\n",
       " 'Rs. 7699',\n",
       " 'Rs. 7199Rs. 8999(20% OFF)',\n",
       " 'Rs. 8490',\n",
       " 'Rs. 8399Rs. 11999(30% OFF)',\n",
       " 'Rs. 10710Rs. 11900(Rs. 1190 OFF)',\n",
       " 'Rs. 8990',\n",
       " 'Rs. 8999Rs. 9999(10% OFF)',\n",
       " 'Rs. 11473Rs. 14900(23% OFF)',\n",
       " 'Rs. 12325Rs. 14500(15% OFF)',\n",
       " 'Rs. 7999',\n",
       " 'Rs. 7191Rs. 7990(10% OFF)',\n",
       " 'Rs. 10500Rs. 10900(Rs. 400 OFF)',\n",
       " 'Rs. 9999',\n",
       " 'Rs. 7999Rs. 9999(20% OFF)',\n",
       " 'Rs. 8990',\n",
       " 'Rs. 8990',\n",
       " 'Rs. 11475Rs. 13500(15% OFF)',\n",
       " 'Rs. 7999',\n",
       " 'Rs. 9499',\n",
       " 'Rs. 12999',\n",
       " 'Rs. 7199Rs. 8999(20% OFF)',\n",
       " 'Rs. 8499',\n",
       " 'Rs. 7990',\n",
       " 'Rs. 8490',\n",
       " 'Rs. 7799Rs. 12999(40% OFF)',\n",
       " 'Rs. 8990',\n",
       " 'Rs. 7999',\n",
       " 'Rs. 9999']"
      ]
     },
     "execution_count": 158,
     "metadata": {},
     "output_type": "execute_result"
    }
   ],
   "source": [
    "shoe_prices"
   ]
  },
  {
   "cell_type": "code",
   "execution_count": 159,
   "id": "228d8046",
   "metadata": {},
   "outputs": [
    {
     "data": {
      "text/plain": [
       "(50, 50, 50)"
      ]
     },
     "execution_count": 159,
     "metadata": {},
     "output_type": "execute_result"
    }
   ],
   "source": [
    "# Finally create a dataframe of the scraped data\n",
    "len(shoe_brands),len(shoe_Descriptions),len(shoe_prices)"
   ]
  },
  {
   "cell_type": "code",
   "execution_count": 160,
   "id": "b0538d8f",
   "metadata": {},
   "outputs": [],
   "source": [
    "Shoe=pd.DataFrame()\n",
    "Shoe['shoe_brands']=shoe_brands\n",
    "Shoe['shoe_Descriptions']=shoe_Descriptions\n",
    "Shoe['shoe_prices']=shoe_prices"
   ]
  },
  {
   "cell_type": "code",
   "execution_count": 162,
   "id": "2a8e9f87",
   "metadata": {},
   "outputs": [
    {
     "data": {
      "text/html": [
       "<div>\n",
       "<style scoped>\n",
       "    .dataframe tbody tr th:only-of-type {\n",
       "        vertical-align: middle;\n",
       "    }\n",
       "\n",
       "    .dataframe tbody tr th {\n",
       "        vertical-align: top;\n",
       "    }\n",
       "\n",
       "    .dataframe thead th {\n",
       "        text-align: right;\n",
       "    }\n",
       "</style>\n",
       "<table border=\"1\" class=\"dataframe\">\n",
       "  <thead>\n",
       "    <tr style=\"text-align: right;\">\n",
       "      <th></th>\n",
       "      <th>shoe_brands</th>\n",
       "      <th>shoe_Descriptions</th>\n",
       "      <th>shoe_prices</th>\n",
       "    </tr>\n",
       "  </thead>\n",
       "  <tbody>\n",
       "    <tr>\n",
       "      <th>0</th>\n",
       "      <td>Nike</td>\n",
       "      <td>Men AIR ZOOM PEGASUS 38</td>\n",
       "      <td>Rs. 9770Rs. 11495(15% OFF)</td>\n",
       "    </tr>\n",
       "    <tr>\n",
       "      <th>1</th>\n",
       "      <td>Tommy Hilfiger</td>\n",
       "      <td>Men Leather Sneakers</td>\n",
       "      <td>Rs. 7999</td>\n",
       "    </tr>\n",
       "    <tr>\n",
       "      <th>2</th>\n",
       "      <td>Puma</td>\n",
       "      <td>Men Magnify Nitro Running</td>\n",
       "      <td>Rs. 7799Rs. 12999(40% OFF)</td>\n",
       "    </tr>\n",
       "    <tr>\n",
       "      <th>3</th>\n",
       "      <td>Tommy Hilfiger</td>\n",
       "      <td>Men Leather Sneakers</td>\n",
       "      <td>Rs. 7999</td>\n",
       "    </tr>\n",
       "    <tr>\n",
       "      <th>4</th>\n",
       "      <td>Nike</td>\n",
       "      <td>Men Blazer Court Skateboarding</td>\n",
       "      <td>Rs. 7495</td>\n",
       "    </tr>\n",
       "    <tr>\n",
       "      <th>5</th>\n",
       "      <td>Tommy Hilfiger</td>\n",
       "      <td>Men Textured Loafers</td>\n",
       "      <td>Rs. 8599</td>\n",
       "    </tr>\n",
       "    <tr>\n",
       "      <th>6</th>\n",
       "      <td>Tommy Hilfiger</td>\n",
       "      <td>Men Leather Sneakers</td>\n",
       "      <td>Rs. 7999</td>\n",
       "    </tr>\n",
       "    <tr>\n",
       "      <th>7</th>\n",
       "      <td>Puma</td>\n",
       "      <td>Men Deviate Nitro Running Shoe</td>\n",
       "      <td>Rs. 9749Rs. 14999(35% OFF)</td>\n",
       "    </tr>\n",
       "    <tr>\n",
       "      <th>8</th>\n",
       "      <td>Puma</td>\n",
       "      <td>Men Running Shoes</td>\n",
       "      <td>Rs. 9749Rs. 12999(25% OFF)</td>\n",
       "    </tr>\n",
       "    <tr>\n",
       "      <th>9</th>\n",
       "      <td>RARE RABBIT</td>\n",
       "      <td>Men Leather Slip-On Sneakers</td>\n",
       "      <td>Rs. 7999</td>\n",
       "    </tr>\n",
       "    <tr>\n",
       "      <th>10</th>\n",
       "      <td>Puma</td>\n",
       "      <td>Men Training or Gym Shoes</td>\n",
       "      <td>Rs. 7999</td>\n",
       "    </tr>\n",
       "    <tr>\n",
       "      <th>11</th>\n",
       "      <td>Puma</td>\n",
       "      <td>Women Magnify Nitro Shoes</td>\n",
       "      <td>Rs. 7799Rs. 12999(40% OFF)</td>\n",
       "    </tr>\n",
       "    <tr>\n",
       "      <th>12</th>\n",
       "      <td>Puma</td>\n",
       "      <td>Men Jamming 2.0 Running Shoes</td>\n",
       "      <td>Rs. 12999</td>\n",
       "    </tr>\n",
       "    <tr>\n",
       "      <th>13</th>\n",
       "      <td>Hush Puppies</td>\n",
       "      <td>Men Solid Leather Formal Slip-Ons</td>\n",
       "      <td>Rs. 8099Rs. 8999(10% OFF)</td>\n",
       "    </tr>\n",
       "    <tr>\n",
       "      <th>14</th>\n",
       "      <td>Tommy Hilfiger</td>\n",
       "      <td>Leather Sandals</td>\n",
       "      <td>Rs. 7599</td>\n",
       "    </tr>\n",
       "    <tr>\n",
       "      <th>15</th>\n",
       "      <td>Reebok</td>\n",
       "      <td>Men Astroride Forever Running</td>\n",
       "      <td>Rs. 7199Rs. 7999(10% OFF)</td>\n",
       "    </tr>\n",
       "    <tr>\n",
       "      <th>16</th>\n",
       "      <td>Hush Puppies</td>\n",
       "      <td>Men Solid Formal Slip-Ons</td>\n",
       "      <td>Rs. 8999Rs. 9999(10% OFF)</td>\n",
       "    </tr>\n",
       "    <tr>\n",
       "      <th>17</th>\n",
       "      <td>Puma</td>\n",
       "      <td>Women Eternity NITRO Shoes</td>\n",
       "      <td>Rs. 12999</td>\n",
       "    </tr>\n",
       "    <tr>\n",
       "      <th>18</th>\n",
       "      <td>Hush Puppies</td>\n",
       "      <td>Men Perforations Leather Slip-On Sneakers</td>\n",
       "      <td>Rs. 7999</td>\n",
       "    </tr>\n",
       "    <tr>\n",
       "      <th>19</th>\n",
       "      <td>Hush Puppies</td>\n",
       "      <td>Men Solid Leather Formal Slip-Ons</td>\n",
       "      <td>Rs. 8999Rs. 9999(10% OFF)</td>\n",
       "    </tr>\n",
       "    <tr>\n",
       "      <th>20</th>\n",
       "      <td>Hush Puppies</td>\n",
       "      <td>Men Formal Derbys</td>\n",
       "      <td>Rs. 8999Rs. 9999(10% OFF)</td>\n",
       "    </tr>\n",
       "    <tr>\n",
       "      <th>21</th>\n",
       "      <td>Clarks</td>\n",
       "      <td>Men Leather Formal Loafers</td>\n",
       "      <td>Rs. 7499</td>\n",
       "    </tr>\n",
       "    <tr>\n",
       "      <th>22</th>\n",
       "      <td>Xtep</td>\n",
       "      <td>Men Running Shoes</td>\n",
       "      <td>Rs. 7699</td>\n",
       "    </tr>\n",
       "    <tr>\n",
       "      <th>23</th>\n",
       "      <td>Bugatti</td>\n",
       "      <td>Men Walking Shoes</td>\n",
       "      <td>Rs. 7199Rs. 8999(20% OFF)</td>\n",
       "    </tr>\n",
       "    <tr>\n",
       "      <th>24</th>\n",
       "      <td>J.FONTINI</td>\n",
       "      <td>Men Black Leather Loafers</td>\n",
       "      <td>Rs. 8490</td>\n",
       "    </tr>\n",
       "    <tr>\n",
       "      <th>25</th>\n",
       "      <td>Bugatti</td>\n",
       "      <td>Men Textured Leather High-Top Flat Boots</td>\n",
       "      <td>Rs. 8399Rs. 11999(30% OFF)</td>\n",
       "    </tr>\n",
       "    <tr>\n",
       "      <th>26</th>\n",
       "      <td>Saint G</td>\n",
       "      <td>Men Leather Chelsea Boots</td>\n",
       "      <td>Rs. 10710Rs. 11900(Rs. 1190 OFF)</td>\n",
       "    </tr>\n",
       "    <tr>\n",
       "      <th>27</th>\n",
       "      <td>DAVINCHI</td>\n",
       "      <td>Ustraa black</td>\n",
       "      <td>Rs. 8990</td>\n",
       "    </tr>\n",
       "    <tr>\n",
       "      <th>28</th>\n",
       "      <td>Hush Puppies</td>\n",
       "      <td>Men Solid Leather Formal Derbys</td>\n",
       "      <td>Rs. 8999Rs. 9999(10% OFF)</td>\n",
       "    </tr>\n",
       "    <tr>\n",
       "      <th>29</th>\n",
       "      <td>Saint G</td>\n",
       "      <td>Women Leather Heeled Boots</td>\n",
       "      <td>Rs. 11473Rs. 14900(23% OFF)</td>\n",
       "    </tr>\n",
       "    <tr>\n",
       "      <th>30</th>\n",
       "      <td>Saint G</td>\n",
       "      <td>Women Leather Heeled Boots</td>\n",
       "      <td>Rs. 12325Rs. 14500(15% OFF)</td>\n",
       "    </tr>\n",
       "    <tr>\n",
       "      <th>31</th>\n",
       "      <td>Clarks</td>\n",
       "      <td>Men Leather Formal Derbys</td>\n",
       "      <td>Rs. 7999</td>\n",
       "    </tr>\n",
       "    <tr>\n",
       "      <th>32</th>\n",
       "      <td>MANGO</td>\n",
       "      <td>Women Leather Penny Loafers</td>\n",
       "      <td>Rs. 7191Rs. 7990(10% OFF)</td>\n",
       "    </tr>\n",
       "    <tr>\n",
       "      <th>33</th>\n",
       "      <td>Saint G</td>\n",
       "      <td>Men Mid-Top Chelsea Boots</td>\n",
       "      <td>Rs. 10500Rs. 10900(Rs. 400 OFF)</td>\n",
       "    </tr>\n",
       "    <tr>\n",
       "      <th>34</th>\n",
       "      <td>Geox</td>\n",
       "      <td>Men Leather Driving Shoes</td>\n",
       "      <td>Rs. 9999</td>\n",
       "    </tr>\n",
       "    <tr>\n",
       "      <th>35</th>\n",
       "      <td>RARE RABBIT</td>\n",
       "      <td>Men Leather Flat Boots</td>\n",
       "      <td>Rs. 7999Rs. 9999(20% OFF)</td>\n",
       "    </tr>\n",
       "    <tr>\n",
       "      <th>36</th>\n",
       "      <td>DAVINCHI</td>\n",
       "      <td>Men Textured Formal Leather Loafers</td>\n",
       "      <td>Rs. 8990</td>\n",
       "    </tr>\n",
       "    <tr>\n",
       "      <th>37</th>\n",
       "      <td>J.FONTINI</td>\n",
       "      <td>Men Textured Leather Formal Loafers</td>\n",
       "      <td>Rs. 8990</td>\n",
       "    </tr>\n",
       "    <tr>\n",
       "      <th>38</th>\n",
       "      <td>Saint G</td>\n",
       "      <td>Suede High-Top Flatform Heeled Boots</td>\n",
       "      <td>Rs. 11475Rs. 13500(15% OFF)</td>\n",
       "    </tr>\n",
       "    <tr>\n",
       "      <th>39</th>\n",
       "      <td>Clarks</td>\n",
       "      <td>Men Solid Leather Formal Brogues</td>\n",
       "      <td>Rs. 7999</td>\n",
       "    </tr>\n",
       "    <tr>\n",
       "      <th>40</th>\n",
       "      <td>Geox</td>\n",
       "      <td>Men Leather Driving Shoes</td>\n",
       "      <td>Rs. 9499</td>\n",
       "    </tr>\n",
       "    <tr>\n",
       "      <th>41</th>\n",
       "      <td>Cole Haan</td>\n",
       "      <td>Men Wingtip Oxford Sneakers</td>\n",
       "      <td>Rs. 12999</td>\n",
       "    </tr>\n",
       "    <tr>\n",
       "      <th>42</th>\n",
       "      <td>Bugatti</td>\n",
       "      <td>Men Black Walking Shoes</td>\n",
       "      <td>Rs. 7199Rs. 8999(20% OFF)</td>\n",
       "    </tr>\n",
       "    <tr>\n",
       "      <th>43</th>\n",
       "      <td>Columbia</td>\n",
       "      <td>NEWTON RIDGE PLUS II WATERPROOF</td>\n",
       "      <td>Rs. 8499</td>\n",
       "    </tr>\n",
       "    <tr>\n",
       "      <th>44</th>\n",
       "      <td>J.FONTINI</td>\n",
       "      <td>Men Textured Leather Loafers</td>\n",
       "      <td>Rs. 7990</td>\n",
       "    </tr>\n",
       "    <tr>\n",
       "      <th>45</th>\n",
       "      <td>J.FONTINI</td>\n",
       "      <td>Men Textured Leather Loafers</td>\n",
       "      <td>Rs. 8490</td>\n",
       "    </tr>\n",
       "    <tr>\n",
       "      <th>46</th>\n",
       "      <td>New Balance</td>\n",
       "      <td>Women Woven Running Shoes</td>\n",
       "      <td>Rs. 7799Rs. 12999(40% OFF)</td>\n",
       "    </tr>\n",
       "    <tr>\n",
       "      <th>47</th>\n",
       "      <td>J.FONTINI</td>\n",
       "      <td>Men Solid Loafers</td>\n",
       "      <td>Rs. 8990</td>\n",
       "    </tr>\n",
       "    <tr>\n",
       "      <th>48</th>\n",
       "      <td>Columbia</td>\n",
       "      <td>Women REDMOND V2 TrekkingShoe</td>\n",
       "      <td>Rs. 7999</td>\n",
       "    </tr>\n",
       "    <tr>\n",
       "      <th>49</th>\n",
       "      <td>Columbia</td>\n",
       "      <td>PEAKFREAK OUTDRY Trekking Shoe</td>\n",
       "      <td>Rs. 9999</td>\n",
       "    </tr>\n",
       "  </tbody>\n",
       "</table>\n",
       "</div>"
      ],
      "text/plain": [
       "       shoe_brands                          shoe_Descriptions  \\\n",
       "0             Nike                    Men AIR ZOOM PEGASUS 38   \n",
       "1   Tommy Hilfiger                       Men Leather Sneakers   \n",
       "2             Puma                  Men Magnify Nitro Running   \n",
       "3   Tommy Hilfiger                       Men Leather Sneakers   \n",
       "4             Nike             Men Blazer Court Skateboarding   \n",
       "5   Tommy Hilfiger                       Men Textured Loafers   \n",
       "6   Tommy Hilfiger                       Men Leather Sneakers   \n",
       "7             Puma             Men Deviate Nitro Running Shoe   \n",
       "8             Puma                          Men Running Shoes   \n",
       "9      RARE RABBIT               Men Leather Slip-On Sneakers   \n",
       "10            Puma                  Men Training or Gym Shoes   \n",
       "11            Puma                  Women Magnify Nitro Shoes   \n",
       "12            Puma              Men Jamming 2.0 Running Shoes   \n",
       "13    Hush Puppies          Men Solid Leather Formal Slip-Ons   \n",
       "14  Tommy Hilfiger                            Leather Sandals   \n",
       "15          Reebok              Men Astroride Forever Running   \n",
       "16    Hush Puppies                  Men Solid Formal Slip-Ons   \n",
       "17            Puma                 Women Eternity NITRO Shoes   \n",
       "18    Hush Puppies  Men Perforations Leather Slip-On Sneakers   \n",
       "19    Hush Puppies          Men Solid Leather Formal Slip-Ons   \n",
       "20    Hush Puppies                          Men Formal Derbys   \n",
       "21          Clarks                 Men Leather Formal Loafers   \n",
       "22            Xtep                          Men Running Shoes   \n",
       "23         Bugatti                          Men Walking Shoes   \n",
       "24       J.FONTINI                  Men Black Leather Loafers   \n",
       "25         Bugatti   Men Textured Leather High-Top Flat Boots   \n",
       "26         Saint G                  Men Leather Chelsea Boots   \n",
       "27        DAVINCHI                               Ustraa black   \n",
       "28    Hush Puppies            Men Solid Leather Formal Derbys   \n",
       "29         Saint G                 Women Leather Heeled Boots   \n",
       "30         Saint G                 Women Leather Heeled Boots   \n",
       "31          Clarks                  Men Leather Formal Derbys   \n",
       "32           MANGO                Women Leather Penny Loafers   \n",
       "33         Saint G                  Men Mid-Top Chelsea Boots   \n",
       "34            Geox                  Men Leather Driving Shoes   \n",
       "35     RARE RABBIT                     Men Leather Flat Boots   \n",
       "36        DAVINCHI        Men Textured Formal Leather Loafers   \n",
       "37       J.FONTINI        Men Textured Leather Formal Loafers   \n",
       "38         Saint G       Suede High-Top Flatform Heeled Boots   \n",
       "39          Clarks           Men Solid Leather Formal Brogues   \n",
       "40            Geox                  Men Leather Driving Shoes   \n",
       "41       Cole Haan                Men Wingtip Oxford Sneakers   \n",
       "42         Bugatti                    Men Black Walking Shoes   \n",
       "43        Columbia            NEWTON RIDGE PLUS II WATERPROOF   \n",
       "44       J.FONTINI               Men Textured Leather Loafers   \n",
       "45       J.FONTINI               Men Textured Leather Loafers   \n",
       "46     New Balance                  Women Woven Running Shoes   \n",
       "47       J.FONTINI                          Men Solid Loafers   \n",
       "48        Columbia              Women REDMOND V2 TrekkingShoe   \n",
       "49        Columbia             PEAKFREAK OUTDRY Trekking Shoe   \n",
       "\n",
       "                         shoe_prices  \n",
       "0         Rs. 9770Rs. 11495(15% OFF)  \n",
       "1                           Rs. 7999  \n",
       "2         Rs. 7799Rs. 12999(40% OFF)  \n",
       "3                           Rs. 7999  \n",
       "4                           Rs. 7495  \n",
       "5                           Rs. 8599  \n",
       "6                           Rs. 7999  \n",
       "7         Rs. 9749Rs. 14999(35% OFF)  \n",
       "8         Rs. 9749Rs. 12999(25% OFF)  \n",
       "9                           Rs. 7999  \n",
       "10                          Rs. 7999  \n",
       "11        Rs. 7799Rs. 12999(40% OFF)  \n",
       "12                         Rs. 12999  \n",
       "13         Rs. 8099Rs. 8999(10% OFF)  \n",
       "14                          Rs. 7599  \n",
       "15         Rs. 7199Rs. 7999(10% OFF)  \n",
       "16         Rs. 8999Rs. 9999(10% OFF)  \n",
       "17                         Rs. 12999  \n",
       "18                          Rs. 7999  \n",
       "19         Rs. 8999Rs. 9999(10% OFF)  \n",
       "20         Rs. 8999Rs. 9999(10% OFF)  \n",
       "21                          Rs. 7499  \n",
       "22                          Rs. 7699  \n",
       "23         Rs. 7199Rs. 8999(20% OFF)  \n",
       "24                          Rs. 8490  \n",
       "25        Rs. 8399Rs. 11999(30% OFF)  \n",
       "26  Rs. 10710Rs. 11900(Rs. 1190 OFF)  \n",
       "27                          Rs. 8990  \n",
       "28         Rs. 8999Rs. 9999(10% OFF)  \n",
       "29       Rs. 11473Rs. 14900(23% OFF)  \n",
       "30       Rs. 12325Rs. 14500(15% OFF)  \n",
       "31                          Rs. 7999  \n",
       "32         Rs. 7191Rs. 7990(10% OFF)  \n",
       "33   Rs. 10500Rs. 10900(Rs. 400 OFF)  \n",
       "34                          Rs. 9999  \n",
       "35         Rs. 7999Rs. 9999(20% OFF)  \n",
       "36                          Rs. 8990  \n",
       "37                          Rs. 8990  \n",
       "38       Rs. 11475Rs. 13500(15% OFF)  \n",
       "39                          Rs. 7999  \n",
       "40                          Rs. 9499  \n",
       "41                         Rs. 12999  \n",
       "42         Rs. 7199Rs. 8999(20% OFF)  \n",
       "43                          Rs. 8499  \n",
       "44                          Rs. 7990  \n",
       "45                          Rs. 8490  \n",
       "46        Rs. 7799Rs. 12999(40% OFF)  \n",
       "47                          Rs. 8990  \n",
       "48                          Rs. 7999  \n",
       "49                          Rs. 9999  "
      ]
     },
     "execution_count": 162,
     "metadata": {},
     "output_type": "execute_result"
    }
   ],
   "source": [
    "Shoe.head(50)"
   ]
  },
  {
   "cell_type": "code",
   "execution_count": null,
   "id": "26fd0b4e",
   "metadata": {},
   "outputs": [],
   "source": []
  },
  {
   "cell_type": "markdown",
   "id": "94b8fdf2",
   "metadata": {},
   "source": [
    "#### Q8:Go to webpage https://www.amazon.in/ Enter “Laptop” in the search field and then click the search icon,\n",
    "         Then set CPU Type filter to “Intel Core i7” and “Intel Core i9” \n",
    "    1.Title\n",
    "    2.Ratings\n",
    "    3.Price\n"
   ]
  },
  {
   "cell_type": "code",
   "execution_count": 163,
   "id": "cf985f63",
   "metadata": {},
   "outputs": [],
   "source": [
    "import selenium\n",
    "from selenium import webdriver \n",
    "import pandas as pd\n",
    "import warnings\n",
    "warnings.filterwarnings('ignore')"
   ]
  },
  {
   "cell_type": "code",
   "execution_count": 164,
   "id": "31dcd924",
   "metadata": {},
   "outputs": [],
   "source": [
    "driver = webdriver.Chrome(r'c:\\Users\\Bawla Singh.DESKTOP-KT1PI9D\\Desktop\\chromedriver.exe')"
   ]
  },
  {
   "cell_type": "code",
   "execution_count": 165,
   "id": "a1fb19d0",
   "metadata": {},
   "outputs": [],
   "source": [
    "driver=webdriver.Chrome('chromedriver.exe')"
   ]
  },
  {
   "cell_type": "code",
   "execution_count": 166,
   "id": "8953821d",
   "metadata": {},
   "outputs": [],
   "source": [
    "url=' https://www.amazon.in/'\n",
    "driver.get(url)"
   ]
  },
  {
   "cell_type": "code",
   "execution_count": 167,
   "id": "2402634f",
   "metadata": {},
   "outputs": [
    {
     "data": {
      "text/plain": [
       "<selenium.webdriver.remote.webelement.WebElement (session=\"b918d6591acdb4f315c4899915959076\", element=\"9f077684-ade3-4a7d-b482-0ec2da88189c\")>"
      ]
     },
     "execution_count": 167,
     "metadata": {},
     "output_type": "execute_result"
    }
   ],
   "source": [
    "# finding web element for search laptop bar using class name \n",
    "Brand=driver.find_element_by_xpath('/html/body/div[1]/header/div/div[1]/div[2]/div/form/div[2]/div[1]/input')\n",
    "Brand"
   ]
  },
  {
   "cell_type": "code",
   "execution_count": 168,
   "id": "9698fb63",
   "metadata": {},
   "outputs": [],
   "source": [
    "Brand.send_keys('laptop')"
   ]
  },
  {
   "cell_type": "code",
   "execution_count": 169,
   "id": "e567eee6",
   "metadata": {},
   "outputs": [
    {
     "data": {
      "text/plain": [
       "<selenium.webdriver.remote.webelement.WebElement (session=\"b918d6591acdb4f315c4899915959076\", element=\"71f6695d-5a11-4102-a84a-7d8daba6f65e\")>"
      ]
     },
     "execution_count": 169,
     "metadata": {},
     "output_type": "execute_result"
    }
   ],
   "source": [
    "# finding web element for search class name:\n",
    "search_btn=driver.find_element_by_xpath('/html/body/div[1]/header/div/div[1]/div[2]/div/form/div[3]/div/span/input')\n",
    "search_btn"
   ]
  },
  {
   "cell_type": "code",
   "execution_count": 170,
   "id": "8e0d2a0e",
   "metadata": {},
   "outputs": [],
   "source": [
    "search_btn.click()"
   ]
  },
  {
   "cell_type": "code",
   "execution_count": 174,
   "id": "0c9b54f3",
   "metadata": {},
   "outputs": [],
   "source": [
    "# finding web element for click type:\n",
    "type=driver.find_element_by_xpath('//*[@id=\"p_n_feature_thirteen_browse-bin/12598163031\"]/span/a/div/label/i')"
   ]
  },
  {
   "cell_type": "code",
   "execution_count": 175,
   "id": "b7ecd6a3",
   "metadata": {},
   "outputs": [],
   "source": [
    "type.click()"
   ]
  },
  {
   "cell_type": "code",
   "execution_count": 181,
   "id": "67454369",
   "metadata": {},
   "outputs": [
    {
     "data": {
      "text/plain": [
       "30"
      ]
     },
     "execution_count": 181,
     "metadata": {},
     "output_type": "execute_result"
    }
   ],
   "source": [
    "# Here extract all web elements having laptop of title:\n",
    "laptop_Title=driver.find_elements_by_xpath('//h2[@class=\"a-size-mini a-spacing-none a-color-base s-line-clamp-2\"]')\n",
    "len(laptop_Title)"
   ]
  },
  {
   "cell_type": "code",
   "execution_count": 184,
   "id": "f5e362dc",
   "metadata": {},
   "outputs": [
    {
     "data": {
      "text/plain": [
       "30"
      ]
     },
     "execution_count": 184,
     "metadata": {},
     "output_type": "execute_result"
    }
   ],
   "source": [
    "laptop_Titles=[]\n",
    "\n",
    "for i in laptop_Title:\n",
    "    laptop_Titles.append(i.text)\n",
    "len(laptop_Titles)    "
   ]
  },
  {
   "cell_type": "code",
   "execution_count": 187,
   "id": "acf9bbe3",
   "metadata": {},
   "outputs": [
    {
     "data": {
      "text/plain": [
       "['Dell 15 (2021) Intel i7-10870H Gaming Laptop, 16GB DDR4, 512GB SSD, Windows 10 + MS Office, NVIDIA RTX 3050 Ti 4GB, 15.6 inches FHD AG 250 nits 120Hz, Backlit KB Orange (G15 5510, D560534WIN9B), 2.4kg',\n",
       " 'Dell 13 (2021) i7-1165G7, 16GB, 512Gb SSD, Win 10 + MS Office\\'19, Integrated Graphics, 13.3\" (33.78 cms) FHD Display, Platinum Silver Color, FPR + Backlit KB (XPS 9305, ICC-C786501WIN8)',\n",
       " 'ASUS VivoBook 14 (2021), 14-inch (35.56 cms) FHD, Intel Core i7-1065G7 10th Gen, Thin and Light Laptop (16GB/512GB SSD/Integrated Graphics/Office 2021/Windows 11/Silver/1.6 Kg), X415JA-EK701WS',\n",
       " 'ASUS TUF Gaming F15 (2021) 15.6-inch (39.62 cms) FHD 144Hz, Intel Core i7-11800H 11th Gen, RTX 3050 Ti 4GB Graphics, Gaming Laptop (16GB/1TB SSD/Windows 10/Gray/2.3 Kg), FX566HEB-HN248T',\n",
       " 'HP Pavilion x360 11th Gen Intel Core i7-16GB RAM/512GB SSD 14-inch(35.6 cm) FHD, IPS, Convertible Laptop (B&O/Win 11/Backlit keyboard/FPR/ Alexa-Built in/MS Office/Natural Silver/1.52 Kg) -14-dy1013TU',\n",
       " 'Acer Nitro 5 11th Gen Intel Core i5-11400H 15.6 inches FHD 144Hz Gaming Laptop (8GB/512GB SSD/Windows 10/4 GB Graphics/NVIDIA GeForce GTX 1650/Shale Black, 2.2 kg/RGB Backlit Keyboard) AN515-57',\n",
       " 'ASUS TUF Dash F15 (2021) 15.6-inch (39.62 cms) FHD 144Hz, Intel Core i7-11370H 11th Gen, RTX 3060 6GB Graphics, Gaming Laptop (16GB/512GB SSD/Office 2019/Windows 10/Gray/2 Kg), FX516PM-HN175TS',\n",
       " 'Fujitsu UH-X 11th Gen Intel i7 Core 13.3” (33.78cm) FHD IPS 400Nits Thin & Light Laptop (16GB/512GB SSD/Windows 11/Office 2021/Iris Xe Graphics/Backlit Kb/ Fingerprint Reader/Black/878gms), 4ZR1F38024',\n",
       " '(Renewed) Dell Intel Core i7 4th Gen 14 Inch(35.56 cms) 1366x768 HD Laptop (8GB RAM/500GB HDD/Windows 10 Pro/MS Office 2019/Intel Integrated HD Graphics 4600/2.1Kg,Silver) Latitude E6440',\n",
       " 'Lenovo ThinkBook 13s Intel 11th Gen Core i7 13.3\"(33.78 cm) WQXGA IPS 300 nits 100% sRGB Dolby Vision Thin and Light Laptop (16GB/512GB SSD/Windows 10/MS Office/FPR/Mineral Grey/1.26 Kg), 20V9A05FIH',\n",
       " 'HP Pavilion Gaming 11th Gen Intel Core i7 Processor 39.62 cm(15.6-inch) FHD Gaming Laptop (16GB/512GB SSD/Win 11/NVIDIA RTX 3050 Graphics/MS Office/ Shadow Black & Ultra Violet/2.23 Kg), 15-dk2096TX',\n",
       " 'Lenovo IdeaPad 5 Pro 11th Gen Intel Core i7 14\" (35.56cm)QHD IPS Thin & Light Laptop(16GB/512GB SSD/Iris Xe Graphics/3Yr Warranty/Windows 11/Office 2021/Backlit/300Nits/Storm Grey/1.41Kg), 82L3006YIN',\n",
       " 'LG Gram 14 Intel Evo 11th Gen Core i7 14 inches Ultralight Laptop (16 GB RAM, 512 GB SSD, Windows 10, Iris Xe Graphics Thunderbolt 4, USC -Cx2 (with Power), 0.999kg, 14Z90P, Black)',\n",
       " 'LG Gram Intel Evo 11th Gen Core i7 17 inches Ultra-Light Laptop (16 GB RAM, 512 GB SSD, New Windows 11 Home Preload, Iris Xe Graphics, USC -C x 2 (with Power), 1.35 kg, 17Z90P-G.AH85A2, Black)',\n",
       " 'LG Gram 16 Ultra-Light Intel Evo 11th Gen Core i7,16 GB RAM, 512 GB SSD, Win-10, Iris Xe Graphics, 16-inches (40.64 cms), Thunderbolt 4, USC -C x 2 (with Power), 1.19 kg, 3 Yr Warranty (16Z90P, Black)',\n",
       " 'ASUS VivoBook K15 OLED (2021), 15.6-inch (39.62 cms) FHD OLED, Intel Core i7-1165G7 11th Gen, Thin and Light Laptop (16GB/512GB SSD/Iris Xe Graphics/Office 2021/Windows 11/Silver/1.8 Kg) K513EA-L712WS',\n",
       " 'ASUS TUF Gaming F15 (2021) 15.6-inch (39.62 cms) FHD 144Hz, Intel Core i7-11800H 11th Gen, RTX 3050 4GB Graphics, Gaming Laptop (8GB/1TB SSD/Windows 10/Gray/2.3 Kg), FX566HCB-HN231T, Eclipse Gray',\n",
       " 'ASUS TUF Dash F15 (2021) 15.6\" (39.62 cm) FHD 240Hz/3ms, Intel Core i7-11370H, GeForce RTX 3060 6GB Graphics, Gaming Laptop (16GB RAM/1TB SSD/Office 2019/Windows 10 Home/Gray/2 Kg) FX516PM-AZ153TS',\n",
       " 'MSI GF75 Thin Gaming, Intel i7-10750H, 17.3\" (43.9 cm) FHD IPS-Level 144Hz Panel Laptop (8GB/512GB NVMe SSD/Windows 10 Home/Nvidia GTX1650 4GB GDDR6/Black/2.2Kg), 10SCXR-654IN',\n",
       " 'Acer Swift 5 Intel EVO Premium Thin and Light Laptop|14\" Full HD IPS Touch Display |11th Gen Intel Core i7-1165G7 Processor |16GB LPDDR4X | 1TB SSD |Backlit Keyboard | Win 11| MSO 2021 |, Green, Large',\n",
       " 'Acer Predator Helios 300 11th Gen Intel Core i9-11900H 15.6\" (39.62cms) FHD IPS Gaming Laptop (32 GB/1TB SSD/Win 11 Home/8 GB Graphics/NVIDIA GeForce RTX 3070/300 Hz, Black, 2.3 kg) PH315-54',\n",
       " 'ASUS VivoBook K15 OLED (2021), 15.6-inch (39.62 cms) FHD OLED, Intel Core i7-1165G7 11th Gen, Thin and Light Laptop (16GB/512GB SSD/Iris Xe Graphics/Office 2021/Windows 11/Silver/1.8 Kg) K513EA-L712WS',\n",
       " '(Renewed) Dell Latitude E7470 Intel Core i7 6th Gen 14 inches Laptop /16 GB RAM/512 GB SSD/Windows 10 Pro/MS Office/HD Display/Integrated Graphics, 1.9 kg',\n",
       " 'Dell 14 (2021) Intel i7-1195G7 14.0 inches FHD Display 2in1 Touch Screen Laptop (16GB/512GB SSD/Windows 10 + MS Office Backlit KB, FPR + Active Pen/Platinum Silver, Inspiron 5410, D560596WIN9S), 1.5kg',\n",
       " 'HP Pavilion Gaming 11th Gen Intel Core i7 15.6-inch(39.6 cm) FHD Gaming Laptop (16GB RAM/512GB SSD/RTX 3050 4GB Graphics/144 Hz/B&O/Win 10/MS Office/2.23Kg), 15-dk2076TX, Black',\n",
       " '(Renewed) Dell Intel Core i7 6th Gen 14.Inch(35.6 cms) (1920 x 1080)FHD TOUCHSCREEN Laptop (12GB RAM /1TB SSD/Windows 10 Pro/MS Office/Intel Integrated HD Graphics /1.18Kg,Black) Latitude E7470',\n",
       " 'Acer Nitro 5 AN515-57 Gaming Laptop | Intel Core i7-11800H |NVIDIA GeForce RTX 3050 Laptop Graphics |15.6\" FHD 144Hz IPS Display |8GB DDR4 | 256GB SSD+1TB HDD | Killer Wi-Fi 6 | RGB Backlit Keyboard',\n",
       " '(Renewed) Lenovo Thinkpad Hybrid Laptop T450s (Slim) Intel Core i7 - 5600u Processor, 12 GB Ram, 1TB Harddisk & 256 GB ssd, Windows 10 Pro, 14.1 Inches Notebook Computer',\n",
       " 'HP Pavilion x360 11th Gen Intel Core i7-16GB RAM/512GB SSD 14-inch(35.6 cm) FHD, IPS, Convertible Laptop (B&O/Win 11/Backlit keyboard/FPR/ Alexa-Built in/MS Office/Natural Silver/1.52 Kg) -14-dy1013TU',\n",
       " 'MSI GF75 Thin Gaming, Intel i7-10750H, 17.3\" (43.9 cm) FHD IPS-Level 144Hz Panel Laptop (8GB/512GB NVMe SSD/Windows 10 Home/Nvidia GTX1650 4GB GDDR6/Black/2.2Kg), 10SCXR-654IN']"
      ]
     },
     "execution_count": 187,
     "metadata": {},
     "output_type": "execute_result"
    }
   ],
   "source": [
    "laptop_Titles"
   ]
  },
  {
   "cell_type": "code",
   "execution_count": 188,
   "id": "a6c3acd1",
   "metadata": {},
   "outputs": [
    {
     "data": {
      "text/plain": [
       "30"
      ]
     },
     "execution_count": 188,
     "metadata": {},
     "output_type": "execute_result"
    }
   ],
   "source": [
    "# Here extract all web elements having laptop of price :\n",
    "laptop_price=driver.find_elements_by_xpath('//span[@class=\"a-price\"]')\n",
    "len(laptop_price)"
   ]
  },
  {
   "cell_type": "code",
   "execution_count": 189,
   "id": "590aeb59",
   "metadata": {},
   "outputs": [
    {
     "data": {
      "text/plain": [
       "30"
      ]
     },
     "execution_count": 189,
     "metadata": {},
     "output_type": "execute_result"
    }
   ],
   "source": [
    "laptop_prices=[]\n",
    "\n",
    "for i in laptop_price:\n",
    "    laptop_prices.append(i.text)\n",
    "len(laptop_prices)"
   ]
  },
  {
   "cell_type": "code",
   "execution_count": 190,
   "id": "6c597b7d",
   "metadata": {},
   "outputs": [
    {
     "data": {
      "text/plain": [
       "['₹1,21,188',\n",
       " '₹1,32,010',\n",
       " '₹59,990',\n",
       " '₹96,990',\n",
       " '₹86,490',\n",
       " '₹65,990',\n",
       " '₹1,09,990',\n",
       " '₹89,990',\n",
       " '₹34,899',\n",
       " '₹84,990',\n",
       " '₹98,180',\n",
       " '₹81,990',\n",
       " '₹1,00,699',\n",
       " '₹99,499',\n",
       " '₹93,999',\n",
       " '₹82,990',\n",
       " '₹89,990',\n",
       " '₹1,28,990',\n",
       " '₹70,000',\n",
       " '₹99,990',\n",
       " '₹1,79,990',\n",
       " '₹82,990',\n",
       " '₹44,990',\n",
       " '₹94,502',\n",
       " '₹97,490',\n",
       " '₹55,999',\n",
       " '₹88,990',\n",
       " '₹39,990',\n",
       " '₹86,490',\n",
       " '₹70,000']"
      ]
     },
     "execution_count": 190,
     "metadata": {},
     "output_type": "execute_result"
    }
   ],
   "source": [
    "laptop_prices"
   ]
  },
  {
   "cell_type": "code",
   "execution_count": 209,
   "id": "8f6ef6b6",
   "metadata": {},
   "outputs": [
    {
     "data": {
      "text/plain": [
       "25"
      ]
     },
     "execution_count": 209,
     "metadata": {},
     "output_type": "execute_result"
    }
   ],
   "source": [
    "# Here extract all web elements having laptop of rating :\n",
    "laptop_Rating=driver.find_elements_by_xpath('//span[@class=\"a-size-base s-underline-text\"]')\n",
    "len(laptop_Rating)"
   ]
  },
  {
   "cell_type": "code",
   "execution_count": 227,
   "id": "df34b46d",
   "metadata": {},
   "outputs": [
    {
     "data": {
      "text/plain": [
       "25"
      ]
     },
     "execution_count": 227,
     "metadata": {},
     "output_type": "execute_result"
    }
   ],
   "source": [
    "laptop_Ratings=[]\n",
    "\n",
    "for i in laptop_Rating:\n",
    "    laptop_Ratings.append(i.text)\n",
    "len(laptop_Ratings)"
   ]
  },
  {
   "cell_type": "code",
   "execution_count": 231,
   "id": "36694232",
   "metadata": {},
   "outputs": [
    {
     "data": {
      "text/plain": [
       "['12',\n",
       " '10',\n",
       " '18',\n",
       " '56',\n",
       " '647',\n",
       " '46',\n",
       " '36',\n",
       " '6',\n",
       " '36',\n",
       " '1',\n",
       " '2',\n",
       " '70',\n",
       " '122',\n",
       " '70',\n",
       " '2',\n",
       " '59',\n",
       " '55',\n",
       " '64',\n",
       " '4',\n",
       " '11',\n",
       " '2',\n",
       " '158',\n",
       " '19',\n",
       " '56',\n",
       " '55']"
      ]
     },
     "execution_count": 231,
     "metadata": {},
     "output_type": "execute_result"
    }
   ],
   "source": [
    "laptop_Ratings"
   ]
  },
  {
   "cell_type": "code",
   "execution_count": 196,
   "id": "6a065d6b",
   "metadata": {},
   "outputs": [
    {
     "data": {
      "text/plain": [
       "(30, 30, 25)"
      ]
     },
     "execution_count": 196,
     "metadata": {},
     "output_type": "execute_result"
    }
   ],
   "source": [
    "# Finally create a dataframe of the scraped data\n",
    "len(laptop_Titles),len(laptop_prices),len(laptop_Ratings)"
   ]
  },
  {
   "cell_type": "code",
   "execution_count": 232,
   "id": "8450a164",
   "metadata": {},
   "outputs": [
    {
     "data": {
      "text/html": [
       "<div>\n",
       "<style scoped>\n",
       "    .dataframe tbody tr th:only-of-type {\n",
       "        vertical-align: middle;\n",
       "    }\n",
       "\n",
       "    .dataframe tbody tr th {\n",
       "        vertical-align: top;\n",
       "    }\n",
       "\n",
       "    .dataframe thead th {\n",
       "        text-align: right;\n",
       "    }\n",
       "</style>\n",
       "<table border=\"1\" class=\"dataframe\">\n",
       "  <thead>\n",
       "    <tr style=\"text-align: right;\">\n",
       "      <th></th>\n",
       "      <th>laptop_Titles</th>\n",
       "      <th>laptop_prices</th>\n",
       "    </tr>\n",
       "  </thead>\n",
       "  <tbody>\n",
       "    <tr>\n",
       "      <th>0</th>\n",
       "      <td>Dell 15 (2021) Intel i7-10870H Gaming Laptop, ...</td>\n",
       "      <td>₹1,21,188</td>\n",
       "    </tr>\n",
       "    <tr>\n",
       "      <th>1</th>\n",
       "      <td>Dell 13 (2021) i7-1165G7, 16GB, 512Gb SSD, Win...</td>\n",
       "      <td>₹1,32,010</td>\n",
       "    </tr>\n",
       "    <tr>\n",
       "      <th>2</th>\n",
       "      <td>ASUS VivoBook 14 (2021), 14-inch (35.56 cms) F...</td>\n",
       "      <td>₹59,990</td>\n",
       "    </tr>\n",
       "    <tr>\n",
       "      <th>3</th>\n",
       "      <td>ASUS TUF Gaming F15 (2021) 15.6-inch (39.62 cm...</td>\n",
       "      <td>₹96,990</td>\n",
       "    </tr>\n",
       "    <tr>\n",
       "      <th>4</th>\n",
       "      <td>HP Pavilion x360 11th Gen Intel Core i7-16GB R...</td>\n",
       "      <td>₹86,490</td>\n",
       "    </tr>\n",
       "    <tr>\n",
       "      <th>5</th>\n",
       "      <td>Acer Nitro 5 11th Gen Intel Core i5-11400H 15....</td>\n",
       "      <td>₹65,990</td>\n",
       "    </tr>\n",
       "    <tr>\n",
       "      <th>6</th>\n",
       "      <td>ASUS TUF Dash F15 (2021) 15.6-inch (39.62 cms)...</td>\n",
       "      <td>₹1,09,990</td>\n",
       "    </tr>\n",
       "    <tr>\n",
       "      <th>7</th>\n",
       "      <td>Fujitsu UH-X 11th Gen Intel i7 Core 13.3” (33....</td>\n",
       "      <td>₹89,990</td>\n",
       "    </tr>\n",
       "    <tr>\n",
       "      <th>8</th>\n",
       "      <td>(Renewed) Dell Intel Core i7 4th Gen 14 Inch(3...</td>\n",
       "      <td>₹34,899</td>\n",
       "    </tr>\n",
       "    <tr>\n",
       "      <th>9</th>\n",
       "      <td>Lenovo ThinkBook 13s Intel 11th Gen Core i7 13...</td>\n",
       "      <td>₹84,990</td>\n",
       "    </tr>\n",
       "  </tbody>\n",
       "</table>\n",
       "</div>"
      ],
      "text/plain": [
       "                                       laptop_Titles laptop_prices\n",
       "0  Dell 15 (2021) Intel i7-10870H Gaming Laptop, ...     ₹1,21,188\n",
       "1  Dell 13 (2021) i7-1165G7, 16GB, 512Gb SSD, Win...     ₹1,32,010\n",
       "2  ASUS VivoBook 14 (2021), 14-inch (35.56 cms) F...       ₹59,990\n",
       "3  ASUS TUF Gaming F15 (2021) 15.6-inch (39.62 cm...       ₹96,990\n",
       "4  HP Pavilion x360 11th Gen Intel Core i7-16GB R...       ₹86,490\n",
       "5  Acer Nitro 5 11th Gen Intel Core i5-11400H 15....       ₹65,990\n",
       "6  ASUS TUF Dash F15 (2021) 15.6-inch (39.62 cms)...     ₹1,09,990\n",
       "7  Fujitsu UH-X 11th Gen Intel i7 Core 13.3” (33....       ₹89,990\n",
       "8  (Renewed) Dell Intel Core i7 4th Gen 14 Inch(3...       ₹34,899\n",
       "9  Lenovo ThinkBook 13s Intel 11th Gen Core i7 13...       ₹84,990"
      ]
     },
     "execution_count": 232,
     "metadata": {},
     "output_type": "execute_result"
    }
   ],
   "source": [
    "laptop=pd.DataFrame()\n",
    "laptop['laptop_Titles']=laptop_Titles\n",
    "laptop['laptop_prices']=laptop_prices\n",
    "# laptop['laptop_Ratings']=laptop_Ratings\n",
    "laptop.head(10)"
   ]
  },
  {
   "cell_type": "markdown",
   "id": "8eeb2f59",
   "metadata": {},
   "source": [
    "#### Q10:Write a python program to scrape from https ://www.ambitionbox.com/ the salary data for Data Scientist designation.\n",
    "You have to scrape Company name, Number of salaries, Average salary, Minsalary, Max Salary.\n"
   ]
  },
  {
   "cell_type": "code",
   "execution_count": 46,
   "id": "a2ce765c",
   "metadata": {},
   "outputs": [],
   "source": [
    "import selenium\n",
    "from selenium import webdriver\n",
    "import pandas as pd\n",
    "import warnings\n",
    "warnings.filterwarnings('ignore')"
   ]
  },
  {
   "cell_type": "code",
   "execution_count": 47,
   "id": "389d4f6b",
   "metadata": {},
   "outputs": [],
   "source": [
    "driver = webdriver.Chrome(r'c:\\Users\\Bawla Singh.DESKTOP-KT1PI9D\\Desktop\\chromedriver.exe')"
   ]
  },
  {
   "cell_type": "code",
   "execution_count": 48,
   "id": "67bdb925",
   "metadata": {},
   "outputs": [],
   "source": [
    "driver=webdriver.Chrome('chromedriver.exe')"
   ]
  },
  {
   "cell_type": "code",
   "execution_count": 49,
   "id": "13eda7e7",
   "metadata": {},
   "outputs": [],
   "source": [
    "url=\"https://www.ambitionbox.com\"\n",
    "driver.get(url)"
   ]
  },
  {
   "cell_type": "code",
   "execution_count": 50,
   "id": "42fe3d41",
   "metadata": {},
   "outputs": [],
   "source": [
    "# finding web element for search job bar using class name\n",
    "job_title=driver.find_element_by_xpath(\"/html/body/section[1]/div/div[2]/form/span/input\")"
   ]
  },
  {
   "cell_type": "code",
   "execution_count": 51,
   "id": "51521913",
   "metadata": {},
   "outputs": [],
   "source": [
    "job_title.send_keys('Data Scientist')"
   ]
  },
  {
   "cell_type": "code",
   "execution_count": 52,
   "id": "c5b9f43c",
   "metadata": {},
   "outputs": [
    {
     "data": {
      "text/plain": [
       "<selenium.webdriver.remote.webelement.WebElement (session=\"3b7e49febce655c02301cd6e28b8834f\", element=\"7c9a4808-e286-488b-b7ef-a7332e296fd8\")>"
      ]
     },
     "execution_count": 52,
     "metadata": {},
     "output_type": "execute_result"
    }
   ],
   "source": [
    "# clicking using class name function\n",
    "search_btn=driver.find_element_by_class_name('search-button')\n",
    "search_btn"
   ]
  },
  {
   "cell_type": "code",
   "execution_count": 53,
   "id": "3e004f0b",
   "metadata": {},
   "outputs": [],
   "source": [
    "search_btn.click()"
   ]
  },
  {
   "cell_type": "code",
   "execution_count": 57,
   "id": "22750345",
   "metadata": {},
   "outputs": [],
   "source": [
    "salary=driver.find_element_by_xpath(\"/html/body/div[1]/nav/nav/a[4]\")\n"
   ]
  },
  {
   "cell_type": "code",
   "execution_count": 58,
   "id": "6f6fd449",
   "metadata": {},
   "outputs": [],
   "source": [
    "salary.click()"
   ]
  },
  {
   "cell_type": "code",
   "execution_count": 60,
   "id": "2db9a8d1",
   "metadata": {},
   "outputs": [
    {
     "data": {
      "text/plain": [
       "10"
      ]
     },
     "execution_count": 60,
     "metadata": {},
     "output_type": "execute_result"
    }
   ],
   "source": [
    "# Here extract all web elements having company names\n",
    "company_name=driver.find_elements_by_xpath('//div[@class=\"name\"]')\n",
    "len(company_name)"
   ]
  },
  {
   "cell_type": "code",
   "execution_count": 63,
   "id": "9e234738",
   "metadata": {},
   "outputs": [
    {
     "data": {
      "text/plain": [
       "10"
      ]
     },
     "execution_count": 63,
     "metadata": {},
     "output_type": "execute_result"
    }
   ],
   "source": [
    "company_names=[]\n",
    "\n",
    "for i in company_name:\n",
    "    company_names.append(i.text)\n",
    "len(company_names)"
   ]
  },
  {
   "cell_type": "code",
   "execution_count": 62,
   "id": "37e45bbb",
   "metadata": {},
   "outputs": [
    {
     "data": {
      "text/plain": [
       "['Tekion\\nbased on 10 salaries',\n",
       " 'Microsoft Corporation\\nbased on 227 salaries',\n",
       " 'Goldman Sachs\\nbased on 12 salaries',\n",
       " 'Flipkart\\nbased on 53 salaries',\n",
       " 'PayPal\\nbased on 22 salaries',\n",
       " 'Amazon\\nbased on 89 salaries',\n",
       " 'Servicenow Software Development India\\nbased on 41 salaries',\n",
       " 'Arcesium\\nbased on 48 salaries',\n",
       " 'Walmart\\nbased on 82 salaries',\n",
       " 'ServiceNow\\nbased on 18 salaries']"
      ]
     },
     "execution_count": 62,
     "metadata": {},
     "output_type": "execute_result"
    }
   ],
   "source": [
    "company_names"
   ]
  },
  {
   "cell_type": "code",
   "execution_count": 64,
   "id": "cf0122f4",
   "metadata": {},
   "outputs": [
    {
     "data": {
      "text/plain": [
       "10"
      ]
     },
     "execution_count": 64,
     "metadata": {},
     "output_type": "execute_result"
    }
   ],
   "source": [
    "# Here extract all web elements having experience required\n",
    "experience_required=driver.find_elements_by_xpath('//div[@class=\"salaries sbold-list-header\"]')\n",
    "len(experience_required)"
   ]
  },
  {
   "cell_type": "code",
   "execution_count": 65,
   "id": "88da9c90",
   "metadata": {},
   "outputs": [
    {
     "data": {
      "text/plain": [
       "10"
      ]
     },
     "execution_count": 65,
     "metadata": {},
     "output_type": "execute_result"
    }
   ],
   "source": [
    "experience_requireds=[]\n",
    "\n",
    "for i in experience_required:\n",
    "    experience_requireds.append(i.text)\n",
    "len(experience_requireds)    "
   ]
  },
  {
   "cell_type": "code",
   "execution_count": 66,
   "id": "8e29f35b",
   "metadata": {},
   "outputs": [
    {
     "data": {
      "text/plain": [
       "['Software Engineer\\n . \\n4 yrs exp',\n",
       " 'Software Engineer\\n . \\n1-4 yrs exp',\n",
       " 'Software Engineer\\n . \\n2 yrs exp',\n",
       " 'Software Engineer\\n . \\n1-4 yrs exp',\n",
       " 'Software Engineer\\n . \\n1-2 yrs exp',\n",
       " 'Software Engineer\\n . \\n1-4 yrs exp',\n",
       " 'Software Engineer\\n . \\n2-4 yrs exp',\n",
       " 'Software Engineer\\n . \\n1-2 yrs exp',\n",
       " 'Software Engineer\\n . \\n1-4 yrs exp',\n",
       " 'Software Engineer\\n . \\n3 yrs exp']"
      ]
     },
     "execution_count": 66,
     "metadata": {},
     "output_type": "execute_result"
    }
   ],
   "source": [
    "experience_requireds"
   ]
  },
  {
   "cell_type": "code",
   "execution_count": 67,
   "id": "cacc0bf8",
   "metadata": {},
   "outputs": [
    {
     "data": {
      "text/plain": [
       "10"
      ]
     },
     "execution_count": 67,
     "metadata": {},
     "output_type": "execute_result"
    }
   ],
   "source": [
    "# Here extract all web elements having total salary record\n",
    "total_salary_record=driver.find_elements_by_xpath('//div[@class=\"average-indicator-wrapper\"]')\n",
    "len(total_salary_record)"
   ]
  },
  {
   "cell_type": "code",
   "execution_count": 68,
   "id": "6c32904a",
   "metadata": {},
   "outputs": [
    {
     "data": {
      "text/plain": [
       "10"
      ]
     },
     "execution_count": 68,
     "metadata": {},
     "output_type": "execute_result"
    }
   ],
   "source": [
    "total_salary_records=[]\n",
    "\n",
    "for i in total_salary_record:\n",
    "    total_salary_records.append(i.text)\n",
    "len(total_salary_records)    "
   ]
  },
  {
   "cell_type": "code",
   "execution_count": 69,
   "id": "21d60059",
   "metadata": {},
   "outputs": [
    {
     "data": {
      "text/plain": [
       "['₹ 23.3L',\n",
       " '₹ 23.1L',\n",
       " '₹ 22.1L',\n",
       " '₹ 20.9L',\n",
       " '₹ 20.0L',\n",
       " '₹ 19.3L',\n",
       " '₹ 19.0L',\n",
       " '₹ 18.4L',\n",
       " '₹ 18.0L',\n",
       " '₹ 17.3L']"
      ]
     },
     "execution_count": 69,
     "metadata": {},
     "output_type": "execute_result"
    }
   ],
   "source": [
    "total_salary_records"
   ]
  },
  {
   "cell_type": "code",
   "execution_count": 76,
   "id": "845d3122",
   "metadata": {},
   "outputs": [
    {
     "data": {
      "text/plain": [
       "10"
      ]
     },
     "execution_count": 76,
     "metadata": {},
     "output_type": "execute_result"
    }
   ],
   "source": [
    "# Here extract all web elements having total salary record\n",
    "Max_Min_salary_record=driver.find_elements_by_xpath('//div[@class=\"salary-values\"]')\n",
    "len(Max_Min_salary_record)"
   ]
  },
  {
   "cell_type": "code",
   "execution_count": 78,
   "id": "3ba9504b",
   "metadata": {},
   "outputs": [
    {
     "data": {
      "text/plain": [
       "10"
      ]
     },
     "execution_count": 78,
     "metadata": {},
     "output_type": "execute_result"
    }
   ],
   "source": [
    "Max_Min_salary_records=[]\n",
    "\n",
    "for i in Max_Min_salary_record:\n",
    "    Max_Min_salary_records.append(i.text)\n",
    "len(Max_Min_salary_records)"
   ]
  },
  {
   "cell_type": "code",
   "execution_count": 79,
   "id": "11b00717",
   "metadata": {},
   "outputs": [
    {
     "data": {
      "text/plain": [
       "['₹ 14.0L\\n₹ 32.0L',\n",
       " '₹ 13.0L\\n₹ 45.0L',\n",
       " '₹ 16.0L\\n₹ 30.0L',\n",
       " '₹ 7.5L\\n₹ 30.0L',\n",
       " '₹ 12.0L\\n₹ 28.4L',\n",
       " '₹ 8.0L\\n₹ 41.5L',\n",
       " '₹ 12.0L\\n₹ 25.8L',\n",
       " '₹ 12.0L\\n₹ 30.0L',\n",
       " '₹ 10.0L\\n₹ 32.0L',\n",
       " '₹ 11.0L\\n₹ 23.0L']"
      ]
     },
     "execution_count": 79,
     "metadata": {},
     "output_type": "execute_result"
    }
   ],
   "source": [
    "Max_Min_salary_records"
   ]
  },
  {
   "cell_type": "code",
   "execution_count": 80,
   "id": "63e5970a",
   "metadata": {},
   "outputs": [
    {
     "data": {
      "text/plain": [
       "(10, 10, 10, 10)"
      ]
     },
     "execution_count": 80,
     "metadata": {},
     "output_type": "execute_result"
    }
   ],
   "source": [
    "# Finally create a dataframe of the scraped data\n",
    "len(company_names),len(experience_requireds),len(total_salary_records),len(Max_Min_salary_records)"
   ]
  },
  {
   "cell_type": "code",
   "execution_count": 81,
   "id": "f2b70149",
   "metadata": {},
   "outputs": [],
   "source": [
    "Ambitionbox=pd.DataFrame()\n",
    "Ambitionbox['company_names']=company_names\n",
    "Ambitionbox['experience_requireds']=experience_requireds\n",
    "Ambitionbox['total_salary_records']=total_salary_records\n",
    "Ambitionbox['Max_Min_salary_records']=Max_Min_salary_records"
   ]
  },
  {
   "cell_type": "code",
   "execution_count": 83,
   "id": "c8ad3443",
   "metadata": {},
   "outputs": [
    {
     "data": {
      "text/html": [
       "<div>\n",
       "<style scoped>\n",
       "    .dataframe tbody tr th:only-of-type {\n",
       "        vertical-align: middle;\n",
       "    }\n",
       "\n",
       "    .dataframe tbody tr th {\n",
       "        vertical-align: top;\n",
       "    }\n",
       "\n",
       "    .dataframe thead th {\n",
       "        text-align: right;\n",
       "    }\n",
       "</style>\n",
       "<table border=\"1\" class=\"dataframe\">\n",
       "  <thead>\n",
       "    <tr style=\"text-align: right;\">\n",
       "      <th></th>\n",
       "      <th>company_names</th>\n",
       "      <th>experience_requireds</th>\n",
       "      <th>total_salary_records</th>\n",
       "      <th>Max_Min_salary_records</th>\n",
       "    </tr>\n",
       "  </thead>\n",
       "  <tbody>\n",
       "    <tr>\n",
       "      <th>0</th>\n",
       "      <td>Tekion\\nbased on 10 salaries</td>\n",
       "      <td>Software Engineer\\n . \\n4 yrs exp</td>\n",
       "      <td>₹ 23.3L</td>\n",
       "      <td>₹ 14.0L\\n₹ 32.0L</td>\n",
       "    </tr>\n",
       "    <tr>\n",
       "      <th>1</th>\n",
       "      <td>Microsoft Corporation\\nbased on 227 salaries</td>\n",
       "      <td>Software Engineer\\n . \\n1-4 yrs exp</td>\n",
       "      <td>₹ 23.1L</td>\n",
       "      <td>₹ 13.0L\\n₹ 45.0L</td>\n",
       "    </tr>\n",
       "    <tr>\n",
       "      <th>2</th>\n",
       "      <td>Goldman Sachs\\nbased on 12 salaries</td>\n",
       "      <td>Software Engineer\\n . \\n2 yrs exp</td>\n",
       "      <td>₹ 22.1L</td>\n",
       "      <td>₹ 16.0L\\n₹ 30.0L</td>\n",
       "    </tr>\n",
       "    <tr>\n",
       "      <th>3</th>\n",
       "      <td>Flipkart\\nbased on 53 salaries</td>\n",
       "      <td>Software Engineer\\n . \\n1-4 yrs exp</td>\n",
       "      <td>₹ 20.9L</td>\n",
       "      <td>₹ 7.5L\\n₹ 30.0L</td>\n",
       "    </tr>\n",
       "    <tr>\n",
       "      <th>4</th>\n",
       "      <td>PayPal\\nbased on 22 salaries</td>\n",
       "      <td>Software Engineer\\n . \\n1-2 yrs exp</td>\n",
       "      <td>₹ 20.0L</td>\n",
       "      <td>₹ 12.0L\\n₹ 28.4L</td>\n",
       "    </tr>\n",
       "    <tr>\n",
       "      <th>5</th>\n",
       "      <td>Amazon\\nbased on 89 salaries</td>\n",
       "      <td>Software Engineer\\n . \\n1-4 yrs exp</td>\n",
       "      <td>₹ 19.3L</td>\n",
       "      <td>₹ 8.0L\\n₹ 41.5L</td>\n",
       "    </tr>\n",
       "    <tr>\n",
       "      <th>6</th>\n",
       "      <td>Servicenow Software Development India\\nbased o...</td>\n",
       "      <td>Software Engineer\\n . \\n2-4 yrs exp</td>\n",
       "      <td>₹ 19.0L</td>\n",
       "      <td>₹ 12.0L\\n₹ 25.8L</td>\n",
       "    </tr>\n",
       "    <tr>\n",
       "      <th>7</th>\n",
       "      <td>Arcesium\\nbased on 48 salaries</td>\n",
       "      <td>Software Engineer\\n . \\n1-2 yrs exp</td>\n",
       "      <td>₹ 18.4L</td>\n",
       "      <td>₹ 12.0L\\n₹ 30.0L</td>\n",
       "    </tr>\n",
       "    <tr>\n",
       "      <th>8</th>\n",
       "      <td>Walmart\\nbased on 82 salaries</td>\n",
       "      <td>Software Engineer\\n . \\n1-4 yrs exp</td>\n",
       "      <td>₹ 18.0L</td>\n",
       "      <td>₹ 10.0L\\n₹ 32.0L</td>\n",
       "    </tr>\n",
       "    <tr>\n",
       "      <th>9</th>\n",
       "      <td>ServiceNow\\nbased on 18 salaries</td>\n",
       "      <td>Software Engineer\\n . \\n3 yrs exp</td>\n",
       "      <td>₹ 17.3L</td>\n",
       "      <td>₹ 11.0L\\n₹ 23.0L</td>\n",
       "    </tr>\n",
       "  </tbody>\n",
       "</table>\n",
       "</div>"
      ],
      "text/plain": [
       "                                       company_names  \\\n",
       "0                       Tekion\\nbased on 10 salaries   \n",
       "1       Microsoft Corporation\\nbased on 227 salaries   \n",
       "2                Goldman Sachs\\nbased on 12 salaries   \n",
       "3                     Flipkart\\nbased on 53 salaries   \n",
       "4                       PayPal\\nbased on 22 salaries   \n",
       "5                       Amazon\\nbased on 89 salaries   \n",
       "6  Servicenow Software Development India\\nbased o...   \n",
       "7                     Arcesium\\nbased on 48 salaries   \n",
       "8                      Walmart\\nbased on 82 salaries   \n",
       "9                   ServiceNow\\nbased on 18 salaries   \n",
       "\n",
       "                  experience_requireds total_salary_records  \\\n",
       "0    Software Engineer\\n . \\n4 yrs exp              ₹ 23.3L   \n",
       "1  Software Engineer\\n . \\n1-4 yrs exp              ₹ 23.1L   \n",
       "2    Software Engineer\\n . \\n2 yrs exp              ₹ 22.1L   \n",
       "3  Software Engineer\\n . \\n1-4 yrs exp              ₹ 20.9L   \n",
       "4  Software Engineer\\n . \\n1-2 yrs exp              ₹ 20.0L   \n",
       "5  Software Engineer\\n . \\n1-4 yrs exp              ₹ 19.3L   \n",
       "6  Software Engineer\\n . \\n2-4 yrs exp              ₹ 19.0L   \n",
       "7  Software Engineer\\n . \\n1-2 yrs exp              ₹ 18.4L   \n",
       "8  Software Engineer\\n . \\n1-4 yrs exp              ₹ 18.0L   \n",
       "9    Software Engineer\\n . \\n3 yrs exp              ₹ 17.3L   \n",
       "\n",
       "  Max_Min_salary_records  \n",
       "0       ₹ 14.0L\\n₹ 32.0L  \n",
       "1       ₹ 13.0L\\n₹ 45.0L  \n",
       "2       ₹ 16.0L\\n₹ 30.0L  \n",
       "3        ₹ 7.5L\\n₹ 30.0L  \n",
       "4       ₹ 12.0L\\n₹ 28.4L  \n",
       "5        ₹ 8.0L\\n₹ 41.5L  \n",
       "6       ₹ 12.0L\\n₹ 25.8L  \n",
       "7       ₹ 12.0L\\n₹ 30.0L  \n",
       "8       ₹ 10.0L\\n₹ 32.0L  \n",
       "9       ₹ 11.0L\\n₹ 23.0L  "
      ]
     },
     "execution_count": 83,
     "metadata": {},
     "output_type": "execute_result"
    }
   ],
   "source": [
    "Ambitionbox.head(10)"
   ]
  },
  {
   "cell_type": "markdown",
   "id": "14d89cf0",
   "metadata": {},
   "source": [
    "##### Q9:Write a python program to scrape data from  https://www.ambitionbox.com/ for first 10 job results for Data Scientist Designation in Noida location\n",
    "       1.company name\n",
    "       2.No.of days ago when job was posted\n",
    "    3.Rating of the company. "
   ]
  },
  {
   "cell_type": "code",
   "execution_count": 1,
   "id": "b5f4b952",
   "metadata": {},
   "outputs": [],
   "source": [
    "import selenium\n",
    "from selenium import webdriver\n",
    "import pandas as pd\n",
    "import warnings\n",
    "warnings.filterwarnings('ignore')"
   ]
  },
  {
   "cell_type": "code",
   "execution_count": 2,
   "id": "dec1a513",
   "metadata": {},
   "outputs": [],
   "source": [
    "driver = webdriver.Chrome(r'c:\\Users\\Bawla Singh.DESKTOP-KT1PI9D\\Desktop\\chromedriver.exe')"
   ]
  },
  {
   "cell_type": "code",
   "execution_count": 3,
   "id": "d722b28d",
   "metadata": {},
   "outputs": [],
   "source": [
    "driver=webdriver.Chrome('chromedriver.exe')"
   ]
  },
  {
   "cell_type": "code",
   "execution_count": 4,
   "id": "3700e864",
   "metadata": {},
   "outputs": [],
   "source": [
    "url=\"https://www.ambitionbox.com\"\n",
    "driver.get(url)"
   ]
  },
  {
   "cell_type": "code",
   "execution_count": 5,
   "id": "292a53f1",
   "metadata": {},
   "outputs": [],
   "source": [
    "# finding web element for search job bar using class name\n",
    "job_title=driver.find_element_by_xpath(\"/html/body/section[1]/div/div[2]/form/span/input\")"
   ]
  },
  {
   "cell_type": "code",
   "execution_count": 6,
   "id": "548d2c71",
   "metadata": {},
   "outputs": [],
   "source": [
    "job_title.send_keys('Data Scientist')"
   ]
  },
  {
   "cell_type": "code",
   "execution_count": 7,
   "id": "ff68b268",
   "metadata": {},
   "outputs": [
    {
     "data": {
      "text/plain": [
       "<selenium.webdriver.remote.webelement.WebElement (session=\"85d4f317c5b048d683ab0a4e81e4153b\", element=\"6c1a989a-92e4-4b56-b7e5-1f25a5f253a0\")>"
      ]
     },
     "execution_count": 7,
     "metadata": {},
     "output_type": "execute_result"
    }
   ],
   "source": [
    "# clicking using class name function\n",
    "search_btn=driver.find_element_by_class_name('search-button')\n",
    "search_btn"
   ]
  },
  {
   "cell_type": "code",
   "execution_count": 8,
   "id": "ffc1e1bb",
   "metadata": {},
   "outputs": [],
   "source": [
    "search_btn.click()"
   ]
  },
  {
   "cell_type": "code",
   "execution_count": 9,
   "id": "d4369a9c",
   "metadata": {},
   "outputs": [
    {
     "data": {
      "text/plain": [
       "<selenium.webdriver.remote.webelement.WebElement (session=\"85d4f317c5b048d683ab0a4e81e4153b\", element=\"b4309b30-2056-4565-b717-e05e0fb1d6e3\")>"
      ]
     },
     "execution_count": 9,
     "metadata": {},
     "output_type": "execute_result"
    }
   ],
   "source": [
    "locn=driver.find_element_by_xpath('/html/body/section[1]/div/section/div/div/div/div/div/div/div[5]/div[2]/div/div/div[1]/div[1]/div[1]/div[1]/div/a/b')\n",
    "locn"
   ]
  },
  {
   "cell_type": "code",
   "execution_count": 10,
   "id": "b4549ff8",
   "metadata": {},
   "outputs": [],
   "source": [
    "# finding web element for job location bar\n",
    "locn.click()"
   ]
  },
  {
   "cell_type": "code",
   "execution_count": 16,
   "id": "97ae8597",
   "metadata": {},
   "outputs": [
    {
     "ename": "InvalidSelectorException",
     "evalue": "Message: invalid selector: An invalid or illegal selector was specified\n  (Session info: chrome=98.0.4758.82)\nStacktrace:\nBacktrace:\n\tOrdinal0 [0x00F97AC3+2587331]\n\tOrdinal0 [0x00F2ADD1+2141649]\n\tOrdinal0 [0x00E23BB8+1063864]\n\tOrdinal0 [0x00E263D7+1074135]\n\tOrdinal0 [0x00E2629E+1073822]\n\tOrdinal0 [0x00E26510+1074448]\n\tOrdinal0 [0x00E4FF42+1244994]\n\tOrdinal0 [0x00E503CB+1246155]\n\tOrdinal0 [0x00E7A612+1418770]\n\tOrdinal0 [0x00E686D4+1345236]\n\tOrdinal0 [0x00E78A0A+1411594]\n\tOrdinal0 [0x00E684A6+1344678]\n\tOrdinal0 [0x00E453F6+1201142]\n\tOrdinal0 [0x00E462E6+1204966]\n\tGetHandleVerifier [0x0113DF22+1680738]\n\tGetHandleVerifier [0x011F0DBC+2413564]\n\tGetHandleVerifier [0x0102D151+563089]\n\tGetHandleVerifier [0x0102BF13+558419]\n\tOrdinal0 [0x00F3081E+2164766]\n\tOrdinal0 [0x00F35508+2184456]\n\tOrdinal0 [0x00F35650+2184784]\n\tOrdinal0 [0x00F3F5BC+2225596]\n\tBaseThreadInitThunk [0x772D6359+25]\n\tRtlGetAppContainerNamedObjectPath [0x77A087A4+228]\n\tRtlGetAppContainerNamedObjectPath [0x77A08774+180]\n",
     "output_type": "error",
     "traceback": [
      "\u001b[1;31m---------------------------------------------------------------------------\u001b[0m",
      "\u001b[1;31mInvalidSelectorException\u001b[0m                  Traceback (most recent call last)",
      "\u001b[1;32m<ipython-input-16-0606467f9b15>\u001b[0m in \u001b[0;36m<module>\u001b[1;34m\u001b[0m\n\u001b[1;32m----> 1\u001b[1;33m \u001b[0mlocation\u001b[0m\u001b[1;33m=\u001b[0m\u001b[0mdriver\u001b[0m\u001b[1;33m.\u001b[0m\u001b[0mfind_element_by_class_name\u001b[0m\u001b[1;33m(\u001b[0m\u001b[1;34m'/html/body/div/div/div/div[2]/div[3]/div[1]/div/div'\u001b[0m\u001b[1;33m)\u001b[0m\u001b[1;33m\u001b[0m\u001b[1;33m\u001b[0m\u001b[0m\n\u001b[0m\u001b[0;32m      2\u001b[0m \u001b[0mlocation\u001b[0m\u001b[1;33m\u001b[0m\u001b[1;33m\u001b[0m\u001b[0m\n",
      "\u001b[1;32mC:\\ProgramData\\Anaconda3\\New folder\\lib\\site-packages\\selenium\\webdriver\\remote\\webdriver.py\u001b[0m in \u001b[0;36mfind_element_by_class_name\u001b[1;34m(self, name)\u001b[0m\n\u001b[0;32m    758\u001b[0m             \u001b[0mstacklevel\u001b[0m\u001b[1;33m=\u001b[0m\u001b[1;36m2\u001b[0m\u001b[1;33m,\u001b[0m\u001b[1;33m\u001b[0m\u001b[1;33m\u001b[0m\u001b[0m\n\u001b[0;32m    759\u001b[0m         )\n\u001b[1;32m--> 760\u001b[1;33m         \u001b[1;32mreturn\u001b[0m \u001b[0mself\u001b[0m\u001b[1;33m.\u001b[0m\u001b[0mfind_element\u001b[0m\u001b[1;33m(\u001b[0m\u001b[0mby\u001b[0m\u001b[1;33m=\u001b[0m\u001b[0mBy\u001b[0m\u001b[1;33m.\u001b[0m\u001b[0mCLASS_NAME\u001b[0m\u001b[1;33m,\u001b[0m \u001b[0mvalue\u001b[0m\u001b[1;33m=\u001b[0m\u001b[0mname\u001b[0m\u001b[1;33m)\u001b[0m\u001b[1;33m\u001b[0m\u001b[1;33m\u001b[0m\u001b[0m\n\u001b[0m\u001b[0;32m    761\u001b[0m \u001b[1;33m\u001b[0m\u001b[0m\n\u001b[0;32m    762\u001b[0m     \u001b[1;32mdef\u001b[0m \u001b[0mfind_elements_by_class_name\u001b[0m\u001b[1;33m(\u001b[0m\u001b[0mself\u001b[0m\u001b[1;33m,\u001b[0m \u001b[0mname\u001b[0m\u001b[1;33m)\u001b[0m \u001b[1;33m->\u001b[0m \u001b[0mWebElement\u001b[0m\u001b[1;33m:\u001b[0m\u001b[1;33m\u001b[0m\u001b[1;33m\u001b[0m\u001b[0m\n",
      "\u001b[1;32mC:\\ProgramData\\Anaconda3\\New folder\\lib\\site-packages\\selenium\\webdriver\\remote\\webdriver.py\u001b[0m in \u001b[0;36mfind_element\u001b[1;34m(self, by, value)\u001b[0m\n\u001b[0;32m   1242\u001b[0m             \u001b[0mvalue\u001b[0m \u001b[1;33m=\u001b[0m \u001b[1;34m'[name=\"%s\"]'\u001b[0m \u001b[1;33m%\u001b[0m \u001b[0mvalue\u001b[0m\u001b[1;33m\u001b[0m\u001b[1;33m\u001b[0m\u001b[0m\n\u001b[0;32m   1243\u001b[0m \u001b[1;33m\u001b[0m\u001b[0m\n\u001b[1;32m-> 1244\u001b[1;33m         return self.execute(Command.FIND_ELEMENT, {\n\u001b[0m\u001b[0;32m   1245\u001b[0m             \u001b[1;34m'using'\u001b[0m\u001b[1;33m:\u001b[0m \u001b[0mby\u001b[0m\u001b[1;33m,\u001b[0m\u001b[1;33m\u001b[0m\u001b[1;33m\u001b[0m\u001b[0m\n\u001b[0;32m   1246\u001b[0m             'value': value})['value']\n",
      "\u001b[1;32mC:\\ProgramData\\Anaconda3\\New folder\\lib\\site-packages\\selenium\\webdriver\\remote\\webdriver.py\u001b[0m in \u001b[0;36mexecute\u001b[1;34m(self, driver_command, params)\u001b[0m\n\u001b[0;32m    422\u001b[0m         \u001b[0mresponse\u001b[0m \u001b[1;33m=\u001b[0m \u001b[0mself\u001b[0m\u001b[1;33m.\u001b[0m\u001b[0mcommand_executor\u001b[0m\u001b[1;33m.\u001b[0m\u001b[0mexecute\u001b[0m\u001b[1;33m(\u001b[0m\u001b[0mdriver_command\u001b[0m\u001b[1;33m,\u001b[0m \u001b[0mparams\u001b[0m\u001b[1;33m)\u001b[0m\u001b[1;33m\u001b[0m\u001b[1;33m\u001b[0m\u001b[0m\n\u001b[0;32m    423\u001b[0m         \u001b[1;32mif\u001b[0m \u001b[0mresponse\u001b[0m\u001b[1;33m:\u001b[0m\u001b[1;33m\u001b[0m\u001b[1;33m\u001b[0m\u001b[0m\n\u001b[1;32m--> 424\u001b[1;33m             \u001b[0mself\u001b[0m\u001b[1;33m.\u001b[0m\u001b[0merror_handler\u001b[0m\u001b[1;33m.\u001b[0m\u001b[0mcheck_response\u001b[0m\u001b[1;33m(\u001b[0m\u001b[0mresponse\u001b[0m\u001b[1;33m)\u001b[0m\u001b[1;33m\u001b[0m\u001b[1;33m\u001b[0m\u001b[0m\n\u001b[0m\u001b[0;32m    425\u001b[0m             response['value'] = self._unwrap_value(\n\u001b[0;32m    426\u001b[0m                 response.get('value', None))\n",
      "\u001b[1;32mC:\\ProgramData\\Anaconda3\\New folder\\lib\\site-packages\\selenium\\webdriver\\remote\\errorhandler.py\u001b[0m in \u001b[0;36mcheck_response\u001b[1;34m(self, response)\u001b[0m\n\u001b[0;32m    245\u001b[0m                 \u001b[0malert_text\u001b[0m \u001b[1;33m=\u001b[0m \u001b[0mvalue\u001b[0m\u001b[1;33m[\u001b[0m\u001b[1;34m'alert'\u001b[0m\u001b[1;33m]\u001b[0m\u001b[1;33m.\u001b[0m\u001b[0mget\u001b[0m\u001b[1;33m(\u001b[0m\u001b[1;34m'text'\u001b[0m\u001b[1;33m)\u001b[0m\u001b[1;33m\u001b[0m\u001b[1;33m\u001b[0m\u001b[0m\n\u001b[0;32m    246\u001b[0m             \u001b[1;32mraise\u001b[0m \u001b[0mexception_class\u001b[0m\u001b[1;33m(\u001b[0m\u001b[0mmessage\u001b[0m\u001b[1;33m,\u001b[0m \u001b[0mscreen\u001b[0m\u001b[1;33m,\u001b[0m \u001b[0mstacktrace\u001b[0m\u001b[1;33m,\u001b[0m \u001b[0malert_text\u001b[0m\u001b[1;33m)\u001b[0m  \u001b[1;31m# type: ignore[call-arg]  # mypy is not smart enough here\u001b[0m\u001b[1;33m\u001b[0m\u001b[1;33m\u001b[0m\u001b[0m\n\u001b[1;32m--> 247\u001b[1;33m         \u001b[1;32mraise\u001b[0m \u001b[0mexception_class\u001b[0m\u001b[1;33m(\u001b[0m\u001b[0mmessage\u001b[0m\u001b[1;33m,\u001b[0m \u001b[0mscreen\u001b[0m\u001b[1;33m,\u001b[0m \u001b[0mstacktrace\u001b[0m\u001b[1;33m)\u001b[0m\u001b[1;33m\u001b[0m\u001b[1;33m\u001b[0m\u001b[0m\n\u001b[0m\u001b[0;32m    248\u001b[0m \u001b[1;33m\u001b[0m\u001b[0m\n\u001b[0;32m    249\u001b[0m     \u001b[1;32mdef\u001b[0m \u001b[0m_value_or_default\u001b[0m\u001b[1;33m(\u001b[0m\u001b[0mself\u001b[0m\u001b[1;33m,\u001b[0m \u001b[0mobj\u001b[0m\u001b[1;33m:\u001b[0m \u001b[0mMapping\u001b[0m\u001b[1;33m[\u001b[0m\u001b[0m_KT\u001b[0m\u001b[1;33m,\u001b[0m \u001b[0m_VT\u001b[0m\u001b[1;33m]\u001b[0m\u001b[1;33m,\u001b[0m \u001b[0mkey\u001b[0m\u001b[1;33m:\u001b[0m \u001b[0m_KT\u001b[0m\u001b[1;33m,\u001b[0m \u001b[0mdefault\u001b[0m\u001b[1;33m:\u001b[0m \u001b[0m_VT\u001b[0m\u001b[1;33m)\u001b[0m \u001b[1;33m->\u001b[0m \u001b[0m_VT\u001b[0m\u001b[1;33m:\u001b[0m\u001b[1;33m\u001b[0m\u001b[1;33m\u001b[0m\u001b[0m\n",
      "\u001b[1;31mInvalidSelectorException\u001b[0m: Message: invalid selector: An invalid or illegal selector was specified\n  (Session info: chrome=98.0.4758.82)\nStacktrace:\nBacktrace:\n\tOrdinal0 [0x00F97AC3+2587331]\n\tOrdinal0 [0x00F2ADD1+2141649]\n\tOrdinal0 [0x00E23BB8+1063864]\n\tOrdinal0 [0x00E263D7+1074135]\n\tOrdinal0 [0x00E2629E+1073822]\n\tOrdinal0 [0x00E26510+1074448]\n\tOrdinal0 [0x00E4FF42+1244994]\n\tOrdinal0 [0x00E503CB+1246155]\n\tOrdinal0 [0x00E7A612+1418770]\n\tOrdinal0 [0x00E686D4+1345236]\n\tOrdinal0 [0x00E78A0A+1411594]\n\tOrdinal0 [0x00E684A6+1344678]\n\tOrdinal0 [0x00E453F6+1201142]\n\tOrdinal0 [0x00E462E6+1204966]\n\tGetHandleVerifier [0x0113DF22+1680738]\n\tGetHandleVerifier [0x011F0DBC+2413564]\n\tGetHandleVerifier [0x0102D151+563089]\n\tGetHandleVerifier [0x0102BF13+558419]\n\tOrdinal0 [0x00F3081E+2164766]\n\tOrdinal0 [0x00F35508+2184456]\n\tOrdinal0 [0x00F35650+2184784]\n\tOrdinal0 [0x00F3F5BC+2225596]\n\tBaseThreadInitThunk [0x772D6359+25]\n\tRtlGetAppContainerNamedObjectPath [0x77A087A4+228]\n\tRtlGetAppContainerNamedObjectPath [0x77A08774+180]\n"
     ]
    }
   ],
   "source": [
    "location=driver.find_element_by_class_name('/html/body/div/div/div/div[2]/div[3]/div[1]/div/div')\n",
    "location"
   ]
  },
  {
   "cell_type": "code",
   "execution_count": null,
   "id": "69d000b8",
   "metadata": {},
   "outputs": [],
   "source": [
    "location.click()"
   ]
  },
  {
   "cell_type": "code",
   "execution_count": null,
   "id": "d26098f9",
   "metadata": {},
   "outputs": [],
   "source": []
  },
  {
   "cell_type": "code",
   "execution_count": null,
   "id": "d9d37ff1",
   "metadata": {},
   "outputs": [],
   "source": []
  },
  {
   "cell_type": "code",
   "execution_count": null,
   "id": "025ab517",
   "metadata": {},
   "outputs": [],
   "source": []
  },
  {
   "cell_type": "code",
   "execution_count": null,
   "id": "8694975d",
   "metadata": {},
   "outputs": [],
   "source": []
  },
  {
   "cell_type": "code",
   "execution_count": null,
   "id": "59f89406",
   "metadata": {},
   "outputs": [],
   "source": []
  }
 ],
 "metadata": {
  "kernelspec": {
   "display_name": "Python 3",
   "language": "python",
   "name": "python3"
  },
  "language_info": {
   "codemirror_mode": {
    "name": "ipython",
    "version": 3
   },
   "file_extension": ".py",
   "mimetype": "text/x-python",
   "name": "python",
   "nbconvert_exporter": "python",
   "pygments_lexer": "ipython3",
   "version": "3.8.8"
  }
 },
 "nbformat": 4,
 "nbformat_minor": 5
}
